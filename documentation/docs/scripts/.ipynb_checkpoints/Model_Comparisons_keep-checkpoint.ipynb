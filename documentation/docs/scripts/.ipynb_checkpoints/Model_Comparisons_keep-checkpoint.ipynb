{
 "cells": [
  {
   "cell_type": "code",
   "execution_count": null,
   "metadata": {},
   "outputs": [],
   "source": [
    "import matplotlib.pyplot as plt\n",
    "import pandas as pd"
   ]
  },
  {
   "cell_type": "markdown",
   "metadata": {},
   "source": [
    "## Bar Plot Comparing Models"
   ]
  },
  {
   "cell_type": "code",
   "execution_count": null,
   "metadata": {},
   "outputs": [],
   "source": [
    "# initialize list of lists\n",
    "data = [['Linear Regression', 0, .48], ['Random Forest', .075, .04, 14, .19, 69],  ['lightgbm', 0, .07, 31, .16, 69], \n",
    "        ['XGBoost', .06,.04,29,.15, 69],\n",
    "        ['Neural Net', 0, .15], ['SVM', 0, .13, 4, .42, 69]\n",
    "       ]\n",
    " \n",
    "# Create the pandas DataFrame\n",
    "df = pd.DataFrame(data, columns = ['Model Class', 'Avg Error', 'Low Avg Error', 'Schools Pred Bel .3','Low GT Error', 'Schools Bel .3'])\n",
    " \n",
    "# print dataframe.\n",
    "df"
   ]
  },
  {
   "cell_type": "code",
   "execution_count": null,
   "metadata": {},
   "outputs": [],
   "source": [
    "import plotly.express as px\n",
    "fig = px.bar(df, x='Model Class', y='Avg Error', title=\"Models with Avg Error\",\n",
    "#             title= 'Judged by the Low Average Error' \n",
    "             hover_data=['Schools Pred Bel .3', 'Schools Bel .3']\n",
    "            )\n",
    "fig.show()"
   ]
  },
  {
   "cell_type": "code",
   "execution_count": null,
   "metadata": {},
   "outputs": [],
   "source": [
    "import plotly.express as px\n",
    "fig = px.bar(df, x='Model Class', y='Low Avg Error', title=\"Models with most correct predictions for schools with 30% or lower internet connectivity\",\n",
    "#             title= 'Judged by the Low Average Error' \n",
    "             hover_data=['Schools Pred Bel .3', 'Schools Bel .3']\n",
    "            )\n",
    "fig.show()"
   ]
  },
  {
   "cell_type": "code",
   "execution_count": null,
   "metadata": {},
   "outputs": [],
   "source": [
    "fig = px.bar(df, x='Model Class', y='Low GT Error', title=\"Models with avg error for predictions on schools with only 30% or lower internet connectivity\",\n",
    "#             title= 'Judged by the Low Average Error' \n",
    "            )\n",
    "fig.show()"
   ]
  },
  {
   "cell_type": "code",
   "execution_count": null,
   "metadata": {},
   "outputs": [],
   "source": []
  }
 ],
 "metadata": {
  "kernelspec": {
   "display_name": "Python 3",
   "language": "python",
   "name": "python3"
  },
  "language_info": {
   "codemirror_mode": {
    "name": "ipython",
    "version": 3
   },
   "file_extension": ".py",
   "mimetype": "text/x-python",
   "name": "python",
   "nbconvert_exporter": "python",
   "pygments_lexer": "ipython3",
   "version": "3.7.8"
  }
 },
 "nbformat": 4,
 "nbformat_minor": 5
}
