{
 "cells": [
  {
   "cell_type": "code",
   "execution_count": 7,
   "metadata": {},
   "outputs": [],
   "source": [
    "# Our usual imports\n",
    "import pandas as pd\n",
    "import geopandas as gpd\n",
    "import numpy as np\n",
    "from numpy import asarray\n",
    "from matplotlib import pyplot as plt\n",
    "import os\n",
    "import pandas as pd\n",
    "import json\n",
    "%matplotlib inline\n",
    "\n",
    "import ee\n",
    "import geemap\n",
    "\n",
    "# Initialize the Earth Engine module.\n",
    "ee.Initialize()"
   ]
  },
  {
   "cell_type": "code",
   "execution_count": null,
   "metadata": {},
   "outputs": [],
   "source": [
    "#you will need to reset this to your own working directory\n",
    "os.chdir('YOUR_FILE_PATH/DSSGxITU')\n",
    "path = os.getcwd()\n",
    "print(path)"
   ]
  },
  {
   "cell_type": "code",
   "execution_count": 16,
   "metadata": {},
   "outputs": [
    {
     "name": "stdout",
     "output_type": "stream",
     "text": [
      "C:\\Users\\tovap\\Documents\\GitHub\\DSSGx\n"
     ]
    }
   ],
   "source": [
    "#you will need to reset this to your own working directory\n",
    "os.chdir('C:\\\\Users\\\\tovap\\\\Documents\\\\GitHub\\\\DSSGx\\\\')\n",
    "path = os.getcwd()\n",
    "print(path)"
   ]
  },
  {
   "cell_type": "markdown",
   "metadata": {},
   "source": [
    "## For loading a csv \n",
    "Here is the function to read and trim a csv dataframe and then convert it to a geopandas data frame from latitude and longitude points. If there is already a geometry column, one merely needs to transform the dataframe into a geopandas dataframe and set the crs. Additionally, if it is in geojson format, scroll down for the function for that.\n",
    "\n",
    "The key columns that you need for the csv to work is the school ID number (so that we can merge it back to the training dataframe), and the lat and lon points, if you have geometry, that also works)\n",
    "\n",
    "Disclaimer: Google Earth Engine can only run with a limited amount of rows, around 10,000-15,000 being the limit. Therefore, if you have a dataframe with more than this amount of rows, we suggest limiting the dataframe after this step to a smaller number like 10K in order to run through the rest of the EDA. "
   ]
  },
  {
   "cell_type": "code",
   "execution_count": 10,
   "metadata": {},
   "outputs": [],
   "source": [
    "def df_transformation(filename, keep_columns_list):\n",
    "    #Read in the df\n",
    "    df = pd.read_csv(filename)\n",
    "    #list of columns we are choosing to keep\n",
    "    keep_columns = [ 'source_school_id','latitude','longitude']\n",
    "    #trimming to just the ones we want\n",
    "    df = df[keep_columns]\n",
    "    #Turning it into a geodataframe, creates another column called geometry. \n",
    "    #We need this to convert into Google Earth Feature Collection\n",
    "    gdf = gpd.GeoDataFrame(df, geometry=gpd.points_from_xy(df.longitude, df.latitude)).set_crs(epsg=4326)\n",
    "    return gdf"
   ]
  },
  {
   "cell_type": "code",
   "execution_count": 92,
   "metadata": {},
   "outputs": [
    {
     "data": {
      "text/html": [
       "<div>\n",
       "<style scoped>\n",
       "    .dataframe tbody tr th:only-of-type {\n",
       "        vertical-align: middle;\n",
       "    }\n",
       "\n",
       "    .dataframe tbody tr th {\n",
       "        vertical-align: top;\n",
       "    }\n",
       "\n",
       "    .dataframe thead th {\n",
       "        text-align: right;\n",
       "    }\n",
       "</style>\n",
       "<table border=\"1\" class=\"dataframe\">\n",
       "  <thead>\n",
       "    <tr style=\"text-align: right;\">\n",
       "      <th></th>\n",
       "      <th>source_school_id</th>\n",
       "      <th>latitude</th>\n",
       "      <th>longitude</th>\n",
       "      <th>geometry</th>\n",
       "    </tr>\n",
       "  </thead>\n",
       "  <tbody>\n",
       "    <tr>\n",
       "      <th>0</th>\n",
       "      <td>11000023</td>\n",
       "      <td>-8.7585</td>\n",
       "      <td>-63.8540</td>\n",
       "      <td>POINT (-63.85400 -8.75850)</td>\n",
       "    </tr>\n",
       "    <tr>\n",
       "      <th>1</th>\n",
       "      <td>11000040</td>\n",
       "      <td>-8.7937</td>\n",
       "      <td>-63.8839</td>\n",
       "      <td>POINT (-63.88390 -8.79370)</td>\n",
       "    </tr>\n",
       "    <tr>\n",
       "      <th>2</th>\n",
       "      <td>11000201</td>\n",
       "      <td>-8.7640</td>\n",
       "      <td>-63.8783</td>\n",
       "      <td>POINT (-63.87830 -8.76400)</td>\n",
       "    </tr>\n",
       "    <tr>\n",
       "      <th>3</th>\n",
       "      <td>11000260</td>\n",
       "      <td>-8.7383</td>\n",
       "      <td>-63.8791</td>\n",
       "      <td>POINT (-63.87910 -8.73830)</td>\n",
       "    </tr>\n",
       "    <tr>\n",
       "      <th>4</th>\n",
       "      <td>11000309</td>\n",
       "      <td>-8.7508</td>\n",
       "      <td>-63.9087</td>\n",
       "      <td>POINT (-63.90870 -8.75080)</td>\n",
       "    </tr>\n",
       "    <tr>\n",
       "      <th>...</th>\n",
       "      <td>...</td>\n",
       "      <td>...</td>\n",
       "      <td>...</td>\n",
       "      <td>...</td>\n",
       "    </tr>\n",
       "    <tr>\n",
       "      <th>175699</th>\n",
       "      <td>29228875</td>\n",
       "      <td>-13.7771</td>\n",
       "      <td>-39.8786</td>\n",
       "      <td>POINT (-39.87860 -13.77710)</td>\n",
       "    </tr>\n",
       "    <tr>\n",
       "      <th>175700</th>\n",
       "      <td>17024757</td>\n",
       "      <td>-9.2211</td>\n",
       "      <td>-48.1056</td>\n",
       "      <td>POINT (-48.10560 -9.22110)</td>\n",
       "    </tr>\n",
       "    <tr>\n",
       "      <th>175701</th>\n",
       "      <td>15574733</td>\n",
       "      <td>-2.7812</td>\n",
       "      <td>-54.5461</td>\n",
       "      <td>POINT (-54.54610 -2.78120)</td>\n",
       "    </tr>\n",
       "    <tr>\n",
       "      <th>175702</th>\n",
       "      <td>29413176</td>\n",
       "      <td>-14.9970</td>\n",
       "      <td>-39.2792</td>\n",
       "      <td>POINT (-39.27920 -14.99700)</td>\n",
       "    </tr>\n",
       "    <tr>\n",
       "      <th>175703</th>\n",
       "      <td>25020552</td>\n",
       "      <td>-7.1038</td>\n",
       "      <td>-36.9641</td>\n",
       "      <td>POINT (-36.96410 -7.10380)</td>\n",
       "    </tr>\n",
       "  </tbody>\n",
       "</table>\n",
       "<p>175704 rows × 4 columns</p>\n",
       "</div>"
      ],
      "text/plain": [
       "        source_school_id  latitude  longitude                     geometry\n",
       "0               11000023   -8.7585   -63.8540   POINT (-63.85400 -8.75850)\n",
       "1               11000040   -8.7937   -63.8839   POINT (-63.88390 -8.79370)\n",
       "2               11000201   -8.7640   -63.8783   POINT (-63.87830 -8.76400)\n",
       "3               11000260   -8.7383   -63.8791   POINT (-63.87910 -8.73830)\n",
       "4               11000309   -8.7508   -63.9087   POINT (-63.90870 -8.75080)\n",
       "...                  ...       ...        ...                          ...\n",
       "175699          29228875  -13.7771   -39.8786  POINT (-39.87860 -13.77710)\n",
       "175700          17024757   -9.2211   -48.1056   POINT (-48.10560 -9.22110)\n",
       "175701          15574733   -2.7812   -54.5461   POINT (-54.54610 -2.78120)\n",
       "175702          29413176  -14.9970   -39.2792  POINT (-39.27920 -14.99700)\n",
       "175703          25020552   -7.1038   -36.9641   POINT (-36.96410 -7.10380)\n",
       "\n",
       "[175704 rows x 4 columns]"
      ]
     },
     "execution_count": 92,
     "metadata": {},
     "output_type": "execute_result"
    }
   ],
   "source": [
    "#Need a csv with schools in points, lat and lon, \n",
    "#this reads it in assuming that the csv is saved in the same location as this notebook\n",
    "\n",
    "#filename = 'data/school_loc/school_latlon_bra.csv'\n",
    "filename = 'school_latlon_bra.csv'\n",
    "\n",
    "#list of columns we are choosing to keep\n",
    "keep_columns_list = [ 'source_school_id','latitude','longitude']\n",
    "\n",
    "df = df_transformation(filename, keep_columns_list)\n",
    "df"
   ]
  },
  {
   "cell_type": "code",
   "execution_count": 93,
   "metadata": {},
   "outputs": [],
   "source": [
    "## If the data is over ~15K rows, trim the df here\n",
    "df = df[:10000]"
   ]
  },
  {
   "cell_type": "code",
   "execution_count": 94,
   "metadata": {},
   "outputs": [
    {
     "data": {
      "text/plain": [
       "(10000, 4)"
      ]
     },
     "execution_count": 94,
     "metadata": {},
     "output_type": "execute_result"
    }
   ],
   "source": [
    "df.shape"
   ]
  },
  {
   "cell_type": "markdown",
   "metadata": {},
   "source": [
    "## Reformatting for GEE\n",
    "Now we need to reformat our geopandas dataframe to a geojson feature collection that will be processed within the Google Earth Engine code. "
   ]
  },
  {
   "cell_type": "code",
   "execution_count": 55,
   "metadata": {},
   "outputs": [],
   "source": [
    "#Here is the function that turns a geopandas df into a feature collection and then sets a 5 km buffer around the schools\n",
    "def Feature_Collection(gdf, buffer_amount):\n",
    "    #Converting geopandas series, the geometry column to json\n",
    "    ROI = gpd.GeoSeries(gdf['geometry']).to_json()\n",
    "    # convert dictionary string to dictionary\n",
    "    res = json.loads(ROI)\n",
    "    #Converts dictionary object into a feature collection\n",
    "    Feature_Collection = geemap.geojson_to_ee(res, geodesic=True)\n",
    "    #Setting a 5 km buffer\n",
    "    Feature_Collection = Feature_Collection.map(lambda f: f.buffer(buffer_amount))\n",
    "    return Feature_Collection"
   ]
  },
  {
   "cell_type": "code",
   "execution_count": 95,
   "metadata": {},
   "outputs": [],
   "source": [
    "#Running the Feature Collection Function on the dataframe from the previous step, renamed it Feature_collection\n",
    "\n",
    "#Buffer is set in meters, we set at 5000 meters or 5 km \n",
    "buffer_amount = 5000\n",
    "\n",
    "schools = Feature_Collection(df, buffer_amount)"
   ]
  },
  {
   "cell_type": "code",
   "execution_count": 20,
   "metadata": {},
   "outputs": [],
   "source": [
    "#If you want to test out a few points, you can limit to the first five rows here, for now its commented out\n",
    "#schools = Feature_collection.limit(5)"
   ]
  },
  {
   "cell_type": "markdown",
   "metadata": {},
   "source": [
    "## Nighttime Imagery EDA"
   ]
  },
  {
   "cell_type": "markdown",
   "metadata": {},
   "source": [
    "### Brazil and Thailand Average Radiance for 2014 and 2019"
   ]
  },
  {
   "cell_type": "code",
   "execution_count": 96,
   "metadata": {},
   "outputs": [
    {
     "data": {
      "application/vnd.jupyter.widget-view+json": {
       "model_id": "16f575e158ba4e14a28985b610590bd0",
       "version_major": 2,
       "version_minor": 0
      },
      "text/plain": [
       "Map(center=[-10.613275552794567, -53.19823757236853], controls=(WidgetControl(options=['position', 'transparen…"
      ]
     },
     "metadata": {},
     "output_type": "display_data"
    }
   ],
   "source": [
    "## First we will show Brazil and Thailand Average Radiance for 2014 and 2019\n",
    "Brazil = ee.FeatureCollection(\"FAO/GAUL/2015/level0\").filter(ee.Filter.eq('ADM0_NAME', 'Brazil'))\n",
    "Thailand = ee.FeatureCollection(\"FAO/GAUL/2015/level0\").filter(ee.Filter.eq('ADM0_NAME', 'Thailand'))\n",
    "\n",
    "Brazil_avg_rad_2014 = ee.ImageCollection(\"NOAA/VIIRS/DNB/MONTHLY_V1/VCMSLCFG\").filterDate(\n",
    "    \"2014-07-01\",\"2014-12-31\").mean().select('avg_rad')\n",
    "\n",
    "Brazil_avg_rad_2019 = ee.ImageCollection(\"NOAA/VIIRS/DNB/MONTHLY_V1/VCMSLCFG\").filterDate(\n",
    "    \"2019-07-01\",\"2019-12-31\").mean().select('avg_rad')\n",
    "\n",
    "# set some thresholds\n",
    "vis_params = {\n",
    "  'min': 0,\n",
    "  'max': 100,\n",
    "    'palette': ['#000000',\n",
    "'#01122b',\n",
    "'#19568b',\n",
    "'#ecf3e7',\n",
    "'#ff0047']\n",
    "}\n",
    "\n",
    "colors = vis_params['palette']\n",
    "vmin = vis_params['min']\n",
    "vmax = vis_params['max']\n",
    "\n",
    "\n",
    "# initialize our map\n",
    "map1 = geemap.Map()\n",
    "map1.centerObject(Brazil, 5)\n",
    "#Add various layers, toggle to see different layers in the upper right corner\n",
    "map1.addLayer(Brazil_avg_rad_2014.clip(schools), vis_params, 'Avg Rad Brazil Schools 2014')\n",
    "map1.addLayer(Brazil_avg_rad_2019.clip(schools), vis_params, 'Avg Rad Brazil Schools 2019')\n",
    "map1.addLayer(Brazil_avg_rad_2014.clip(Brazil), vis_params, 'Avg Rad Brazil 2014')\n",
    "map1.addLayer(Brazil_avg_rad_2019.clip(Brazil), vis_params, 'Avg Rad Brazil 2019')\n",
    "map1.add_colorbar(vis_params, label=\"Average Radiance\", layer_name=\"Average Radiance\")\n",
    "map1.addLayerControl()\n",
    "#uncomment if you want to save an html version of the map\n",
    "# map1.save(\"avg_rad_layers.html\")\n",
    "map1"
   ]
  },
  {
   "cell_type": "markdown",
   "metadata": {},
   "source": [
    "### Cloud Free Coverage"
   ]
  },
  {
   "cell_type": "code",
   "execution_count": 23,
   "metadata": {},
   "outputs": [
    {
     "data": {
      "application/vnd.jupyter.widget-view+json": {
       "model_id": "bde876a63cfb4b269ccef836d3dbecb5",
       "version_major": 2,
       "version_minor": 0
      },
      "text/plain": [
       "Map(center=[-10.613275552794567, -53.19823757236853], controls=(WidgetControl(options=['position', 'transparen…"
      ]
     },
     "metadata": {},
     "output_type": "display_data"
    }
   ],
   "source": [
    "## First we will show Brazil and Thailand Average Radiance for 2014 and 2019\n",
    "\n",
    "\n",
    "#Choose if you want Brazil\n",
    "country =  ee.FeatureCollection(\"FAO/GAUL/2015/level0\").filter(ee.Filter.eq('ADM0_NAME', 'Brazil'))\n",
    "#Choose if you want Thailand\n",
    "# country = ee.FeatureCollection(\"FAO/GAUL/2015/level0\").filter(ee.Filter.eq('ADM0_NAME', 'Thailand'))\n",
    "\n",
    "#Select which band you want to display, for nighttime the two options are avg_rad (average radiance) or cf_cvg (cloud free coverage)\n",
    "#band = 'avg_rad'\n",
    "band = 'cf_cvg'\n",
    "\n",
    "#Takes the average of light emittance in 2014\n",
    "band_2014 = ee.ImageCollection(\"NOAA/VIIRS/DNB/MONTHLY_V1/VCMSLCFG\").filterDate(\n",
    "    \"2014-07-01\",\"2014-12-31\").mean().select(band)\n",
    "\n",
    "#Takes the average of light emittance in 2014\n",
    "band_2019 = ee.ImageCollection(\"NOAA/VIIRS/DNB/MONTHLY_V1/VCMSLCFG\").filterDate(\n",
    "    \"2019-07-01\",\"2019-12-31\").mean().select(band)\n",
    "\n",
    "# set some  visualization thresholds\n",
    "#cloud free layer has a much lower maximum than the average radiance\n",
    "vis_params = {\n",
    "  'min': 0,\n",
    "  'max': 15,\n",
    "    'palette': ['#000000',\n",
    "'#01122b',\n",
    "'#19568b',\n",
    "'#ecf3e7',\n",
    "'#ff0047']\n",
    "}\n",
    "\n",
    "colors = vis_params['palette']\n",
    "vmin = vis_params['min']\n",
    "vmax = vis_params['max']\n",
    "\n",
    "\n",
    "# initialize our map\n",
    "map1 = geemap.Map()\n",
    "map1.centerObject(Brazil, 5)\n",
    "#add each layer and clip it to either the school or country feature collection, establish the visualization parameters and name the layer\n",
    "map1.addLayer(band_2014.clip(schools), vis_params, band + ' Brazil Schools 2014')\n",
    "map1.addLayer(band_2019.clip(schools), vis_params, band + ' Brazil Schools 2019')\n",
    "map1.addLayer(band_2014.clip(country), vis_params, band + ' Brazil 2014')\n",
    "map1.addLayer(band_2019.clip(country), vis_params, band + ' Brazil 2019')\n",
    "map1.add_colorbar(vis_params, label=\"Cloud Free Coverage\", layer_name=\"Cloud Free Coverage\")\n",
    "map1.addLayerControl()\n",
    "#Save the map to files\n",
    "map1.save(\"cf_cvg_layers.html\")\n",
    "map1"
   ]
  },
  {
   "cell_type": "markdown",
   "metadata": {},
   "source": [
    "## Visualizing the change from 2015 to 2019 in Average Radiance by school points and then by country"
   ]
  },
  {
   "cell_type": "code",
   "execution_count": 25,
   "metadata": {
    "scrolled": false
   },
   "outputs": [
    {
     "data": {
      "application/vnd.jupyter.widget-view+json": {
       "model_id": "796ade0a962a4bbbb83bccb8be4febcc",
       "version_major": 2,
       "version_minor": 0
      },
      "text/plain": [
       "Map(center=[-10.613275552794567, -53.19823757236853], controls=(ZoomControl(options=['position', 'zoom_in_text…"
      ]
     },
     "metadata": {},
     "output_type": "display_data"
    }
   ],
   "source": [
    "#Select which band you want to display, for nighttime the two options are avg_rad (average radiance) or cf_cvg (cloud free coverage)\n",
    "band = 'avg_rad'\n",
    "# band = 'cf_cvg'\n",
    "\n",
    "# set some  visualization thresholds\n",
    "#cloud free layer has a much lower maximum than the average radiance\n",
    "vis_params = {\n",
    "  'min': 0,\n",
    "  'max': 100, #When its avg rad, the max should be 100\n",
    "    'palette': ['#000000',\n",
    "'#01122b',\n",
    "'#19568b',\n",
    "'#ecf3e7',\n",
    "'#ff0047']\n",
    "}\n",
    "\n",
    "colors = vis_params['palette']\n",
    "vmin = vis_params['min']\n",
    "vmax = vis_params['max']\n",
    "\n",
    "viirs2015 = ee.ImageCollection(\"NOAA/VIIRS/DNB/MONTHLY_V1/VCMSLCFG\").filterDate(\n",
    "    \"2014-07-01\",\"2014-12-31\").mean().select(band).clip(schools) #Here is where you clip it to just the school points\n",
    "viirs2019 = ee.ImageCollection(\"NOAA/VIIRS/DNB/MONTHLY_V1/VCMSLCFG\").filterDate(\n",
    "    \"2019-07-01\",\"2019-12-31\").mean().select(band).clip(schools) #Here is where you clip it to just the school points\n",
    "\n",
    "viirs_15_tile = geemap.ee_tile_layer(viirs2015, vis_params, 'Jul-Dec 2014', opacity=0.75)\n",
    "viirs_19_tile = geemap.ee_tile_layer(viirs2019, vis_params, 'Jul-Dec 2019', opacity=0.75)\n",
    "\n",
    "# initialize our map\n",
    "map2 = geemap.Map()\n",
    "map2.centerObject(schools, 6)\n",
    "map2.split_map(left_layer=viirs_15_tile, right_layer=viirs_19_tile)\n",
    "map2.add_colorbar(vis_params, label=\"Average Radiance\", layer_name=\"Average Radiance\")\n",
    "map2.addLayerControl()\n",
    "map2"
   ]
  },
  {
   "cell_type": "markdown",
   "metadata": {},
   "source": [
    "### Showing the change from 2014 to 2019 on a country level with the average radiance band"
   ]
  },
  {
   "cell_type": "code",
   "execution_count": 26,
   "metadata": {
    "scrolled": false
   },
   "outputs": [
    {
     "data": {
      "application/vnd.jupyter.widget-view+json": {
       "model_id": "bfd26cb0f27947989e76e728638f262f",
       "version_major": 2,
       "version_minor": 0
      },
      "text/plain": [
       "Map(center=[-10.613275552794567, -53.19823757236853], controls=(ZoomControl(options=['position', 'zoom_in_text…"
      ]
     },
     "metadata": {},
     "output_type": "display_data"
    }
   ],
   "source": [
    "#Choose if you want Brazil\n",
    "country =  ee.FeatureCollection(\"FAO/GAUL/2015/level0\").filter(ee.Filter.eq('ADM0_NAME', 'Brazil'))\n",
    "#Choose if you want Thailand\n",
    "# country = ee.FeatureCollection(\"FAO/GAUL/2015/level0\").filter(ee.Filter.eq('ADM0_NAME', 'Thailand'))\n",
    "\n",
    "#Select which band you want to display, for nighttime the two options are avg_rad (average radiance) or cf_cvg (cloud free coverage)\n",
    "band = 'avg_rad'\n",
    "# band = 'cf_cvg'\n",
    "\n",
    "viirs2015 = ee.ImageCollection(\"NOAA/VIIRS/DNB/MONTHLY_V1/VCMSLCFG\").filterDate(\n",
    "    \"2014-07-01\",\"2014-12-31\").mean().select(band).clip(country) #Clipping it to the country of Brazil instead\n",
    "viirs2019 = ee.ImageCollection(\"NOAA/VIIRS/DNB/MONTHLY_V1/VCMSLCFG\").filterDate(\n",
    "    \"2019-07-01\",\"2019-12-31\").mean().select(band).clip(country)\n",
    "\n",
    "viirs_15_tile = geemap.ee_tile_layer(viirs2015, vis_params, 'Jul-Dec 2014', opacity=0.75)\n",
    "viirs_19_tile = geemap.ee_tile_layer(viirs2019, vis_params, 'Jul-Dec 2019', opacity=0.75)\n",
    "\n",
    "# initialize our map\n",
    "map2 = geemap.Map()\n",
    "map2.centerObject(country, 5)\n",
    "map2.split_map(left_layer=viirs_15_tile, right_layer=viirs_19_tile)\n",
    "map2.add_colorbar(vis_params, label=\"Average Radiance\", layer_name=\"Average Radiance\")\n",
    "map2.addLayerControl()\n",
    "map2"
   ]
  },
  {
   "cell_type": "markdown",
   "metadata": {},
   "source": [
    "### Showing the change from 2014 to 2019 on a country level with the cloud free coverage band"
   ]
  },
  {
   "cell_type": "code",
   "execution_count": 27,
   "metadata": {},
   "outputs": [
    {
     "data": {
      "application/vnd.jupyter.widget-view+json": {
       "model_id": "a741830d7c0248f4a49d2a15e561b882",
       "version_major": 2,
       "version_minor": 0
      },
      "text/plain": [
       "Map(center=[-10.613275552794567, -53.19823757236853], controls=(ZoomControl(options=['position', 'zoom_in_text…"
      ]
     },
     "metadata": {},
     "output_type": "display_data"
    }
   ],
   "source": [
    "#Choose if you want Brazil\n",
    "country =  ee.FeatureCollection(\"FAO/GAUL/2015/level0\").filter(ee.Filter.eq('ADM0_NAME', 'Brazil'))\n",
    "#Choose if you want Thailand\n",
    "# country = ee.FeatureCollection(\"FAO/GAUL/2015/level0\").filter(ee.Filter.eq('ADM0_NAME', 'Thailand'))\n",
    "\n",
    "#Select which band you want to display, for nighttime the two options are avg_rad (average radiance) or cf_cvg (cloud free coverage)\n",
    "# band = 'avg_rad'\n",
    "band = 'cf_cvg'\n",
    "\n",
    "# set some  visualization thresholds\n",
    "vis_params = {\n",
    "  'min': 0,\n",
    "  'max': 15, #max is at 15 for cf_cvg\n",
    "  'palette': ['#000000',\n",
    "'#01122b',\n",
    "'#19568b',\n",
    "'#ecf3e7',\n",
    "'#ff0047']\n",
    "}\n",
    "\n",
    "# colors = vis_params['palette']\n",
    "vmin = vis_params['min']\n",
    "vmax = vis_params['max']\n",
    "\n",
    "\n",
    "viirs2015 = ee.ImageCollection(\"NOAA/VIIRS/DNB/MONTHLY_V1/VCMSLCFG\").filterDate(\n",
    "    \"2014-07-01\",\"2014-12-31\").mean().select(band).clip(country)\n",
    "viirs2019 = ee.ImageCollection(\"NOAA/VIIRS/DNB/MONTHLY_V1/VCMSLCFG\").filterDate(\n",
    "    \"2019-07-01\",\"2019-12-31\").mean().select(band).clip(country)\n",
    "\n",
    "viirs_15_tile = geemap.ee_tile_layer(viirs2015, vis_params, 'Jul-Dec 2014', opacity=0.75)\n",
    "viirs_19_tile = geemap.ee_tile_layer(viirs2019, vis_params, 'Jul-Dec 2019', opacity=0.75)\n",
    "\n",
    "# initialize our map\n",
    "map2 = geemap.Map()\n",
    "map2.centerObject(country, 5)\n",
    "map2.split_map(left_layer=viirs_15_tile, right_layer=viirs_19_tile)\n",
    "map2.add_colorbar(vis_params, label=\"Cloud Free Coverage\", layer_name=\"Cloud Free Coverage\")\n",
    "map2.addLayerControl()\n",
    "map2"
   ]
  },
  {
   "cell_type": "markdown",
   "metadata": {},
   "source": [
    "## Visualizing the rate of change from 2014 to 2020 for Average radiance"
   ]
  },
  {
   "cell_type": "code",
   "execution_count": 30,
   "metadata": {},
   "outputs": [],
   "source": [
    "#Visualizing the rate of change from 2014 to 2020\n",
    "viirs = ee.ImageCollection(\"NOAA/VIIRS/DNB/MONTHLY_V1/VCMSLCFG\").filterDate(\n",
    "    '2014-01-01','2019-12-31')\n",
    "\n",
    "# sort by image \"time_end\"\n",
    "first_img = viirs.sort('system:time_end').first()\n",
    "\n",
    "# reverse sort so that last=first\n",
    "last_img = viirs.sort('system:time_end',False).first()\n",
    "\n",
    "# get rate of change (diff over # months: 73)\n",
    "viirs_slope = (last_img.select('avg_rad').subtract(first_img.select('avg_rad'))).divide(73).clip(schools)\n",
    "\n",
    "# get rate of change for cloud free coverage (diff over # months: 73)\n",
    "viirs_slope_cf_cvg = (last_img.select('cf_cvg').subtract(first_img.select('cf_cvg'))).divide(73).clip(schools)\n",
    "\n",
    "#Loading Nighttime Image and taking the mean\n",
    "viirs_first = ee.ImageCollection(\"NOAA/VIIRS/DNB/MONTHLY_V1/VCMSLCFG\").filterDate('2014-01-01','2014-12-31').mean()\n",
    "viirs_last = ee.ImageCollection(\"NOAA/VIIRS/DNB/MONTHLY_V1/VCMSLCFG\").filterDate('2019-01-01','2019-12-31').mean()\n",
    "\n",
    "# get rate of change (diff over # years: 6)\n",
    "viirs_slope_year = (viirs_last.select('avg_rad').subtract(viirs_first.select('avg_rad'))).divide(5).clip(schools)"
   ]
  },
  {
   "cell_type": "code",
   "execution_count": 32,
   "metadata": {},
   "outputs": [
    {
     "data": {
      "application/vnd.jupyter.widget-view+json": {
       "model_id": "529912d9fedb4e068143344db8c13242",
       "version_major": 2,
       "version_minor": 0
      },
      "text/plain": [
       "Map(center=[-16.25755720467109, -45.45943692967088], controls=(WidgetControl(options=['position', 'transparent…"
      ]
     },
     "metadata": {},
     "output_type": "display_data"
    }
   ],
   "source": [
    "#change min, max to reflect the actual stats\n",
    "vis_params = {'min':-1,\n",
    "             'max':1,\n",
    "             'palette':['1d4877','1b8a5a','f68838','ee3e32']}\n",
    "\n",
    "colors = vis_params['palette']\n",
    "vmin = vis_params['min']\n",
    "vmax = vis_params['max']\n",
    "\n",
    "# make it opaque so we can see underlying basemap\n",
    "# initialize our map\n",
    "viirsMap = geemap.Map()\n",
    "viirsMap.centerObject(schools, 9)\n",
    "viirsMap.addLayer(viirs_slope, vis_params, '2014-2020 VIIRS-DNB monthly rate of change Avg Rad',opacity=.75)\n",
    "viirsMap.addLayer(viirs_slope_cf_cvg, vis_params, '2014-2020 VIIRS-DNB monthly rate of change Cloud Free',opacity=.75)\n",
    "viirsMap.addLayer(viirs_slope_year, vis_params, '2014-2020 VIIRS-DNB yearly rate of change Avg Rad',opacity=.75)\n",
    "viirsMap.add_colorbar(vis_params, label=\"Rate of Change\", layer_name=\"Rate of Change\")\n",
    "viirsMap.addLayerControl()\n",
    "viirsMap"
   ]
  },
  {
   "cell_type": "markdown",
   "metadata": {},
   "source": [
    "## Next, we show a map for the Global Human Modification Index"
   ]
  },
  {
   "cell_type": "code",
   "execution_count": 33,
   "metadata": {
    "scrolled": false
   },
   "outputs": [
    {
     "data": {
      "application/vnd.jupyter.widget-view+json": {
       "model_id": "ffb17007e57545cd8920d87106e940d0",
       "version_major": 2,
       "version_minor": 0
      },
      "text/plain": [
       "Map(center=[-10.613275552794567, -53.19823757236853], controls=(WidgetControl(options=['position', 'transparen…"
      ]
     },
     "metadata": {},
     "output_type": "display_data"
    }
   ],
   "source": [
    "### Global Human Modification\n",
    "Brazil = ee.FeatureCollection(\"FAO/GAUL/2015/level0\").filter(ee.Filter.eq('ADM0_NAME', 'Brazil'))\n",
    "\n",
    "GHM = ee.ImageCollection('CSP/HM/GlobalHumanModification').mean().clip(Brazil)\n",
    "\n",
    "# set some thresholds\n",
    "visualization = {\"min\": 0.0, \"max\": 1.0, \"palette\": ['0c0c0c', '071aff', 'ff0000', 'ffbd03', 'fbff05', 'fffdfd']}\n",
    "\n",
    "\n",
    "# initialize our map\n",
    "map1 = geemap.Map()\n",
    "map1.centerObject(Brazil, 6)\n",
    "map1.addLayer(GHM, visualization, 'Human modification')\n",
    "map1.add_colorbar(visualization, label=\"GHM\", layer_name=\"GHM\")\n",
    "map1.addLayerControl()\n",
    "map1"
   ]
  },
  {
   "cell_type": "markdown",
   "metadata": {},
   "source": [
    "## Using MODIS to find the Normalized Difference Vegetation Index"
   ]
  },
  {
   "cell_type": "code",
   "execution_count": 34,
   "metadata": {},
   "outputs": [
    {
     "data": {
      "application/vnd.jupyter.widget-view+json": {
       "model_id": "4f1aa353be47477e86743c9b0cb254d0",
       "version_major": 2,
       "version_minor": 0
      },
      "text/plain": [
       "Map(center=[-10.613275552794567, -53.19823757236853], controls=(WidgetControl(options=['position', 'transparen…"
      ]
     },
     "metadata": {},
     "output_type": "display_data"
    }
   ],
   "source": [
    "### Normalized Difference Vegetation Index\n",
    "\n",
    "#Filtering the Modis Image Collection to the average of one month of data in 2019\n",
    "NDVI = ee.ImageCollection('MODIS/006/MOD13A2').filter(ee.Filter.date('2019-04-01', '2019-04-30')).select(\"NDVI\").mean()\n",
    "\n",
    "# set some thresholds\n",
    "vis_params = {\n",
    "  'min': 0,\n",
    "  'max': 9000,\n",
    "  'palette': [\n",
    "    'FFFFFF', 'CE7E45', 'DF923D', 'F1B555', 'FCD163', '99B718', '74A901',\n",
    "    '66A000', '529400', '3E8601', '207401', '056201', '004C00', '023B01',\n",
    "    '012E01', '011D01', '011301'\n",
    "  ],\n",
    "}\n",
    "\n",
    "colors = vis_params['palette']\n",
    "vmin = vis_params['min']\n",
    "vmax = vis_params['max']\n",
    "\n",
    "\n",
    "# initialize our map\n",
    "map1 = geemap.Map()\n",
    "map1.centerObject(Brazil, 5)\n",
    "map1.addLayer(NDVI.clip(Brazil), vis_params, 'NDVI Brazil') #clip it to Brazil, previously defined\n",
    "map1.addLayer(NDVI.clip(Thailand), vis_params, 'NDVI Thailand') #clip it to Thailand, previously defined\n",
    "map1.addLayer(NDVI.clip(schools), vis_params, 'NDVI Schools') #clip to schools, Brazil schools previously defined\n",
    "map1.add_colorbar(vis_params, label=\"NDVI\", layer_name=\"NDVI\")\n",
    "map1.addLayerControl()\n",
    "map1"
   ]
  },
  {
   "cell_type": "markdown",
   "metadata": {},
   "source": [
    "### Showing the change between 2014 and 2019 NDVI in country of choice"
   ]
  },
  {
   "cell_type": "code",
   "execution_count": 35,
   "metadata": {},
   "outputs": [
    {
     "data": {
      "application/vnd.jupyter.widget-view+json": {
       "model_id": "f628ffa5843d40a194174185c2b6af2f",
       "version_major": 2,
       "version_minor": 0
      },
      "text/plain": [
       "Map(center=[-10.613275552794567, -53.19823757236853], controls=(ZoomControl(options=['position', 'zoom_in_text…"
      ]
     },
     "metadata": {},
     "output_type": "display_data"
    }
   ],
   "source": [
    "#Choose if you want Brazil\n",
    "country =  ee.FeatureCollection(\"FAO/GAUL/2015/level0\").filter(ee.Filter.eq('ADM0_NAME', 'Brazil'))\n",
    "#Choose if you want Thailand\n",
    "# country = ee.FeatureCollection(\"FAO/GAUL/2015/level0\").filter(ee.Filter.eq('ADM0_NAME', 'Thailand'))\n",
    "\n",
    "# set some thresholds\n",
    "vis_params = {\n",
    "  'min': 0,\n",
    "  'max': 9000,\n",
    "  'palette': [\n",
    "    'FFFFFF', 'CE7E45', 'DF923D', 'F1B555', 'FCD163', '99B718', '74A901',\n",
    "    '66A000', '529400', '3E8601', '207401', '056201', '004C00', '023B01',\n",
    "    '012E01', '011D01', '011301'\n",
    "  ],\n",
    "}\n",
    "\n",
    "colors = vis_params['palette']\n",
    "vmin = vis_params['min']\n",
    "vmax = vis_params['max']\n",
    "\n",
    "#Using MODIS NDVI, filtering to April-May of that year as that is time when vegetation often the highest\n",
    "NDVI = ee.ImageCollection('MODIS/006/MOD13A2').filter(ee.Filter.date('2014-01-01', '2019-12-31')).select(\"NDVI\").mean()\n",
    "Modis_14 = ee.ImageCollection('MODIS/006/MOD13A2').filter(ee.Filter.date('2014-04-01', '2014-05-01')).select(\"NDVI\").mean()\n",
    "Modis_19 = ee.ImageCollection('MODIS/006/MOD13A2').filter(ee.Filter.date('2019-04-01', '2019-05-01')).select(\"NDVI\").mean()\n",
    "# create a split panel map\n",
    "left_layer = geemap.ee_tile_layer(Modis_14.clip(country), vis_params,\n",
    "                                  'VIIRS-DNB 2014', opacity=0.75)\n",
    "right_layer = geemap.ee_tile_layer(Modis_19.clip(country), vis_params,\n",
    "                                   'VIIRS-DNB 2019', opacity=0.75)\n",
    "\n",
    "map3 = geemap.Map()\n",
    "map3.centerObject(country, 5)\n",
    "# map3.add_basemap('SATELLITE')\n",
    "map3.split_map(left_layer=left_layer, right_layer=right_layer)\n",
    "map3.add_colorbar(vis_params, label=\"NDVI\", layer_name=\"NDVI\")\n",
    "map3.addLayerControl()\n",
    "map3"
   ]
  },
  {
   "cell_type": "markdown",
   "metadata": {},
   "source": [
    "### Showing the rate of change"
   ]
  },
  {
   "cell_type": "code",
   "execution_count": 36,
   "metadata": {},
   "outputs": [],
   "source": [
    "#Visualizing the rate of change from 2014 to 2020\n",
    "NDVI = ee.ImageCollection('MODIS/006/MOD13A2').filter(ee.Filter.date('2014-01-01', '2019-12-31')).select('NDVI').mean()\n",
    "\n",
    "# # sort by image \"time_end\"\n",
    "# first_img = NDVI.sort('system:time_end').first()\n",
    "\n",
    "# # reverse sort so that last=first\n",
    "# last_img = NDVI.sort('system:time_end',False).first()\n",
    "\n",
    "# # get rate of change (diff over # months: 73)\n",
    "# NDVI_slope = (last_img.select('NDVI').subtract(first_img.select('NDVI'))).divide(73).clip(roi)\n",
    "\n",
    "#Using MODIS NDVI, filtering to April-May of that year as that is time when vegetation often the highest\n",
    "Modis_14 = ee.ImageCollection('MODIS/006/MOD13A2').filter(ee.Filter.date('2014-04-01', '2014-05-01')).mean()\n",
    "Modis_19 = ee.ImageCollection('MODIS/006/MOD13A2').filter(ee.Filter.date('2019-04-01', '2019-05-01')).mean()\n",
    "\n",
    "# get rate of change (diff over # years: 6)\n",
    "NDVI_slope_year = (Modis_19.select('NDVI').subtract(Modis_14.select('NDVI'))).divide(6).clip(schools) #clipping to school buffer zones"
   ]
  },
  {
   "cell_type": "code",
   "execution_count": 37,
   "metadata": {
    "scrolled": false
   },
   "outputs": [
    {
     "data": {
      "application/vnd.jupyter.widget-view+json": {
       "model_id": "79d10cf4fd294ed3b362f22dd0ea6880",
       "version_major": 2,
       "version_minor": 0
      },
      "text/plain": [
       "Map(center=[-16.25755720467109, -45.45943692967088], controls=(WidgetControl(options=['position', 'transparent…"
      ]
     },
     "metadata": {},
     "output_type": "display_data"
    }
   ],
   "source": [
    "#change min, max to reflect the actual stats\n",
    "vis_params = {'min':-400,\n",
    "             'max':400,\n",
    "             'palette':['1d4877','1b8a5a','f68838','ee3e32']}\n",
    "\n",
    "colors = vis_params['palette']\n",
    "vmin = vis_params['min']\n",
    "vmax = vis_params['max']\n",
    "\n",
    "\n",
    "# make it opaque so we can see underlying basemap\n",
    "# initialize our map\n",
    "NDVIMap = geemap.Map()\n",
    "NDVIMap.centerObject(schools, 6)\n",
    "NDVIMap.addLayer(NDVI_slope_year, vis_params, 'NDVI Slope Yearly',opacity=.75)\n",
    "NDVIMap.add_colorbar(vis_params, label=\"Rate of Change\", layer_name=\"Rate of Change\")\n",
    "NDVIMap.addLayerControl()\n",
    "NDVIMap"
   ]
  },
  {
   "cell_type": "markdown",
   "metadata": {},
   "source": [
    "## NDVI if you wanted to scale it"
   ]
  },
  {
   "cell_type": "code",
   "execution_count": 42,
   "metadata": {},
   "outputs": [],
   "source": [
    "# MODIS MOD13Q1\n",
    "modis = ee.ImageCollection('MODIS/006/MOD13Q1')\n",
    "modis = modis.filterDate(ee.DateRange('2015-01-01','2019-12-01'))\n",
    "\n",
    "# select EVI and NDVI\n",
    "evi = modis.select('EVI')\n",
    "ndvi = modis.select('NDVI')\n",
    "\n",
    "def scale_factor(image):\n",
    "# scale factor for the MODIS MOD13Q1 product\n",
    "    return image.multiply(0.0001).copyProperties(image, ['system:time_start'])\n",
    "# mapping function to multiply by the scale factor\n",
    "scaled_evi = evi.map(scale_factor)\n",
    "scaled_ndvi = ndvi.map(scale_factor)"
   ]
  },
  {
   "cell_type": "code",
   "execution_count": 44,
   "metadata": {},
   "outputs": [
    {
     "data": {
      "application/vnd.jupyter.widget-view+json": {
       "model_id": "59c8597a58f8403c8a4ec6cf6c02d3c8",
       "version_major": 2,
       "version_minor": 0
      },
      "text/plain": [
       "Map(center=[-10.613275552794567, -53.19823757236853], controls=(WidgetControl(options=['position', 'transparen…"
      ]
     },
     "metadata": {},
     "output_type": "display_data"
    }
   ],
   "source": [
    "# mean NDVI in the Brazil\n",
    "vis_params={'min': 0,'max': 1, 'palette': ['red', 'yellow','green']}\n",
    "            \n",
    "colors = vis_params['palette']\n",
    "vmin = vis_params['min']\n",
    "vmax = vis_params['max']\n",
    "            \n",
    "Map5 = geemap.Map()\n",
    "Map5.centerObject(Brazil, 6)\n",
    "Map5.addLayer(scaled_ndvi.mean().clip(Brazil), vis_params)\n",
    "Map5.add_colorbar(vis_params, label=\"NDVI\", layer_name=\"NDVI\")\n",
    "Map5"
   ]
  }
 ],
 "metadata": {
  "kernelspec": {
   "display_name": "Python 3",
   "language": "python",
   "name": "python3"
  },
  "language_info": {
   "codemirror_mode": {
    "name": "ipython",
    "version": 3
   },
   "file_extension": ".py",
   "mimetype": "text/x-python",
   "name": "python",
   "nbconvert_exporter": "python",
   "pygments_lexer": "ipython3",
   "version": "3.7.8"
  }
 },
 "nbformat": 4,
 "nbformat_minor": 4
}
