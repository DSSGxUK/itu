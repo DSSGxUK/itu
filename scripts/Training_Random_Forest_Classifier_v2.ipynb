{
 "cells": [
  {
   "cell_type": "code",
   "execution_count": 1,
   "id": "a1a4b41a",
   "metadata": {},
   "outputs": [
    {
     "name": "stderr",
     "output_type": "stream",
     "text": [
      "/opt/anaconda3/lib/python3.8/site-packages/geopandas/_compat.py:106: UserWarning: The Shapely GEOS version (3.8.0-CAPI-1.13.1 ) is incompatible with the GEOS version PyGEOS was compiled with (3.9.1-CAPI-1.14.2). Conversions between both will be slow.\n",
      "  warnings.warn(\n"
     ]
    }
   ],
   "source": [
    "# load libraries\n",
    "import yaml\n",
    "import matplotlib.pyplot as plt\n",
    "import pandas as pd\n",
    "import pickle\n",
    "import geopandas\n",
    "import numpy as np\n",
    "from sklearn.model_selection import train_test_split, KFold, RandomizedSearchCV, RepeatedStratifiedKFold, cross_val_score\n",
    "from sklearn.ensemble import RandomForestRegressor, RandomForestClassifier"
   ]
  },
  {
   "cell_type": "markdown",
   "id": "3f7765df",
   "metadata": {},
   "source": [
    "### Load and prepare data"
   ]
  },
  {
   "cell_type": "code",
   "execution_count": 6,
   "id": "39d4672b",
   "metadata": {},
   "outputs": [
    {
     "name": "stdout",
     "output_type": "stream",
     "text": [
      "/home/desktop3/itu\n"
     ]
    }
   ],
   "source": [
    "import os\n",
    "import pandas as pd\n",
    "os.chdir('/home/desktop3/itu')\n",
    "path = os.getcwd()\n",
    "print(path)"
   ]
  },
  {
   "cell_type": "code",
   "execution_count": 30,
   "id": "1e82eb80",
   "metadata": {},
   "outputs": [],
   "source": [
    "# # read in (yaml) configs\n",
    "with open(path + '/conf/model_config.yaml', 'r') as conf:\n",
    "    model_config = yaml.safe_load(conf)\n",
    "\n",
    "# import data\n",
    "dataset = model_config['model']['loc'] + model_config['model']['file']\n",
    "dataset = pd.read_csv(dataset)\n",
    "# subset for faster trial and error\n",
    "#dataset = dataset.iloc[0:1000,:]\n",
    "\n",
    "# define predictors and target\n",
    "predictor   =  model_config['meta']['predictors']\n",
    "target = model_config['meta']['target']"
   ]
  },
  {
   "cell_type": "code",
   "execution_count": 31,
   "id": "aa7833ab",
   "metadata": {},
   "outputs": [
    {
     "data": {
      "text/plain": [
       "['avg_d_kbps',\n",
       " 'avg_u_kbps',\n",
       " 'mean_ghm',\n",
       " 'mean_avg_rad',\n",
       " 'mean_cf_cvg',\n",
       " 'change_year_avg_rad',\n",
       " 'slope_year_avg_rad',\n",
       " 'change_month_avg_rad',\n",
       " 'slope_month_avg_rad',\n",
       " 'estimate_mau',\n",
       " 'slope_month_cf_cvg',\n",
       " 'mean_NDVI',\n",
       " 'slope_year_NDVI',\n",
       " 'range',\n",
       " 'population']"
      ]
     },
     "execution_count": 31,
     "metadata": {},
     "output_type": "execute_result"
    }
   ],
   "source": [
    "predictor"
   ]
  },
  {
   "cell_type": "code",
   "execution_count": 33,
   "id": "628a01a8",
   "metadata": {},
   "outputs": [
    {
     "data": {
      "text/plain": [
       "['target']"
      ]
     },
     "execution_count": 33,
     "metadata": {},
     "output_type": "execute_result"
    }
   ],
   "source": [
    "target"
   ]
  },
  {
   "cell_type": "code",
   "execution_count": 29,
   "id": "8edc5caf",
   "metadata": {},
   "outputs": [
    {
     "data": {
      "text/plain": [
       "0        1.000000\n",
       "1        1.000000\n",
       "2        1.000000\n",
       "3        1.000000\n",
       "4        1.000000\n",
       "           ...   \n",
       "11727    0.367261\n",
       "11728    0.617745\n",
       "11729    0.617745\n",
       "11730    0.464852\n",
       "11731    0.761715\n",
       "Name: target, Length: 11732, dtype: float64"
      ]
     },
     "execution_count": 29,
     "metadata": {},
     "output_type": "execute_result"
    }
   ],
   "source": [
    "dataset['target']"
   ]
  },
  {
   "cell_type": "code",
   "execution_count": 27,
   "id": "bf1240a9",
   "metadata": {},
   "outputs": [
    {
     "data": {
      "text/html": [
       "<div>\n",
       "<style scoped>\n",
       "    .dataframe tbody tr th:only-of-type {\n",
       "        vertical-align: middle;\n",
       "    }\n",
       "\n",
       "    .dataframe tbody tr th {\n",
       "        vertical-align: top;\n",
       "    }\n",
       "\n",
       "    .dataframe thead th {\n",
       "        text-align: right;\n",
       "    }\n",
       "</style>\n",
       "<table border=\"1\" class=\"dataframe\">\n",
       "  <thead>\n",
       "    <tr style=\"text-align: right;\">\n",
       "      <th></th>\n",
       "      <th>source_school_id</th>\n",
       "      <th>latitude</th>\n",
       "      <th>longitude</th>\n",
       "      <th>school_location</th>\n",
       "      <th>geometry</th>\n",
       "      <th>target</th>\n",
       "      <th>mean_ghm</th>\n",
       "      <th>mean_avg_rad</th>\n",
       "      <th>change_year_avg_rad</th>\n",
       "      <th>slope_year_avg_rad</th>\n",
       "      <th>...</th>\n",
       "      <th>slope_year_NDVI</th>\n",
       "      <th>change_month_NDVI</th>\n",
       "      <th>slope_month_NDVI</th>\n",
       "      <th>estimate_dau</th>\n",
       "      <th>estimate_mau</th>\n",
       "      <th>estimate_ready</th>\n",
       "      <th>range</th>\n",
       "      <th>avg_d_kbps</th>\n",
       "      <th>avg_u_kbps</th>\n",
       "      <th>population</th>\n",
       "    </tr>\n",
       "  </thead>\n",
       "  <tbody>\n",
       "    <tr>\n",
       "      <th>0</th>\n",
       "      <td>11000023</td>\n",
       "      <td>-8.7585</td>\n",
       "      <td>-63.8540</td>\n",
       "      <td>POINT (-63.854 -8.7585)</td>\n",
       "      <td>POLYGON ((-63.844 -8.7585, -63.84404815273328 ...</td>\n",
       "      <td>1.000000</td>\n",
       "      <td>0.778150</td>\n",
       "      <td>29.486260</td>\n",
       "      <td>1.040262</td>\n",
       "      <td>0.173377</td>\n",
       "      <td>...</td>\n",
       "      <td>23.184182</td>\n",
       "      <td>352.089866</td>\n",
       "      <td>2.551376</td>\n",
       "      <td>180872</td>\n",
       "      <td>270000</td>\n",
       "      <td>True</td>\n",
       "      <td>1.0</td>\n",
       "      <td>111541.0</td>\n",
       "      <td>41429.0</td>\n",
       "      <td>21621.2770</td>\n",
       "    </tr>\n",
       "    <tr>\n",
       "      <th>1</th>\n",
       "      <td>11001364</td>\n",
       "      <td>-8.7627</td>\n",
       "      <td>-63.8642</td>\n",
       "      <td>POINT (-63.8642 -8.762700000000001)</td>\n",
       "      <td>POLYGON ((-63.8542 -8.762700000000001, -63.854...</td>\n",
       "      <td>1.000000</td>\n",
       "      <td>0.813903</td>\n",
       "      <td>32.686109</td>\n",
       "      <td>-0.064534</td>\n",
       "      <td>-0.010756</td>\n",
       "      <td>...</td>\n",
       "      <td>24.580166</td>\n",
       "      <td>336.748641</td>\n",
       "      <td>2.440208</td>\n",
       "      <td>189483</td>\n",
       "      <td>280000</td>\n",
       "      <td>True</td>\n",
       "      <td>1.0</td>\n",
       "      <td>19693.0</td>\n",
       "      <td>16480.0</td>\n",
       "      <td>25260.3300</td>\n",
       "    </tr>\n",
       "    <tr>\n",
       "      <th>2</th>\n",
       "      <td>11003138</td>\n",
       "      <td>-8.7579</td>\n",
       "      <td>-63.8554</td>\n",
       "      <td>POINT (-63.8554 -8.757899999999999)</td>\n",
       "      <td>POLYGON ((-63.84540000000001 -8.75789999999999...</td>\n",
       "      <td>1.000000</td>\n",
       "      <td>0.781545</td>\n",
       "      <td>29.852872</td>\n",
       "      <td>0.962008</td>\n",
       "      <td>0.160335</td>\n",
       "      <td>...</td>\n",
       "      <td>23.466914</td>\n",
       "      <td>356.627458</td>\n",
       "      <td>2.584257</td>\n",
       "      <td>180714</td>\n",
       "      <td>270000</td>\n",
       "      <td>True</td>\n",
       "      <td>1.0</td>\n",
       "      <td>111541.0</td>\n",
       "      <td>41429.0</td>\n",
       "      <td>32302.7380</td>\n",
       "    </tr>\n",
       "    <tr>\n",
       "      <th>3</th>\n",
       "      <td>11003200</td>\n",
       "      <td>-8.7573</td>\n",
       "      <td>-63.8646</td>\n",
       "      <td>POINT (-63.8646 -8.757300000000001)</td>\n",
       "      <td>POLYGON ((-63.8546 -8.757300000000001, -63.854...</td>\n",
       "      <td>1.000000</td>\n",
       "      <td>0.803953</td>\n",
       "      <td>32.056982</td>\n",
       "      <td>0.254048</td>\n",
       "      <td>0.042341</td>\n",
       "      <td>...</td>\n",
       "      <td>25.034986</td>\n",
       "      <td>348.774612</td>\n",
       "      <td>2.527352</td>\n",
       "      <td>188635</td>\n",
       "      <td>280000</td>\n",
       "      <td>True</td>\n",
       "      <td>1.0</td>\n",
       "      <td>26874.0</td>\n",
       "      <td>28402.0</td>\n",
       "      <td>25429.0620</td>\n",
       "    </tr>\n",
       "    <tr>\n",
       "      <th>4</th>\n",
       "      <td>11045175</td>\n",
       "      <td>-8.7468</td>\n",
       "      <td>-63.8554</td>\n",
       "      <td>POINT (-63.8554 -8.7468)</td>\n",
       "      <td>POLYGON ((-63.84540000000001 -8.7468, -63.8454...</td>\n",
       "      <td>1.000000</td>\n",
       "      <td>0.748688</td>\n",
       "      <td>27.407618</td>\n",
       "      <td>1.441365</td>\n",
       "      <td>0.240228</td>\n",
       "      <td>...</td>\n",
       "      <td>22.922948</td>\n",
       "      <td>395.943743</td>\n",
       "      <td>2.869158</td>\n",
       "      <td>160030</td>\n",
       "      <td>240000</td>\n",
       "      <td>True</td>\n",
       "      <td>1.0</td>\n",
       "      <td>75285.0</td>\n",
       "      <td>15608.0</td>\n",
       "      <td>33929.7000</td>\n",
       "    </tr>\n",
       "    <tr>\n",
       "      <th>...</th>\n",
       "      <td>...</td>\n",
       "      <td>...</td>\n",
       "      <td>...</td>\n",
       "      <td>...</td>\n",
       "      <td>...</td>\n",
       "      <td>...</td>\n",
       "      <td>...</td>\n",
       "      <td>...</td>\n",
       "      <td>...</td>\n",
       "      <td>...</td>\n",
       "      <td>...</td>\n",
       "      <td>...</td>\n",
       "      <td>...</td>\n",
       "      <td>...</td>\n",
       "      <td>...</td>\n",
       "      <td>...</td>\n",
       "      <td>...</td>\n",
       "      <td>...</td>\n",
       "      <td>...</td>\n",
       "      <td>...</td>\n",
       "      <td>...</td>\n",
       "    </tr>\n",
       "    <tr>\n",
       "      <th>11727</th>\n",
       "      <td>50026666</td>\n",
       "      <td>-23.6691</td>\n",
       "      <td>-54.5632</td>\n",
       "      <td>POINT (-54.5632 -23.6691)</td>\n",
       "      <td>POLYGON ((-54.5532 -23.6691, -54.5532481527332...</td>\n",
       "      <td>0.367261</td>\n",
       "      <td>0.562417</td>\n",
       "      <td>1.335753</td>\n",
       "      <td>0.099359</td>\n",
       "      <td>0.016560</td>\n",
       "      <td>...</td>\n",
       "      <td>-59.898988</td>\n",
       "      <td>172.064010</td>\n",
       "      <td>1.246841</td>\n",
       "      <td>3919</td>\n",
       "      <td>4900</td>\n",
       "      <td>True</td>\n",
       "      <td>1.0</td>\n",
       "      <td>26718.0</td>\n",
       "      <td>14410.0</td>\n",
       "      <td>2835.5640</td>\n",
       "    </tr>\n",
       "    <tr>\n",
       "      <th>11728</th>\n",
       "      <td>23197145</td>\n",
       "      <td>-3.8787</td>\n",
       "      <td>-38.6144</td>\n",
       "      <td>POINT (-38.6144 -3.8787)</td>\n",
       "      <td>POLYGON ((-38.60440000000001 -3.8787, -38.6044...</td>\n",
       "      <td>0.617745</td>\n",
       "      <td>0.686202</td>\n",
       "      <td>22.115340</td>\n",
       "      <td>-3.320490</td>\n",
       "      <td>-0.553415</td>\n",
       "      <td>...</td>\n",
       "      <td>35.784600</td>\n",
       "      <td>-413.683806</td>\n",
       "      <td>-2.997709</td>\n",
       "      <td>102043</td>\n",
       "      <td>160000</td>\n",
       "      <td>True</td>\n",
       "      <td>1.0</td>\n",
       "      <td>8270.0</td>\n",
       "      <td>5224.0</td>\n",
       "      <td>63205.2400</td>\n",
       "    </tr>\n",
       "    <tr>\n",
       "      <th>11729</th>\n",
       "      <td>23197170</td>\n",
       "      <td>-3.8833</td>\n",
       "      <td>-38.6147</td>\n",
       "      <td>POINT (-38.6147 -3.8833)</td>\n",
       "      <td>POLYGON ((-38.6047 -3.8833, -38.60474815273328...</td>\n",
       "      <td>0.617745</td>\n",
       "      <td>0.675718</td>\n",
       "      <td>20.997906</td>\n",
       "      <td>-3.118815</td>\n",
       "      <td>-0.519803</td>\n",
       "      <td>...</td>\n",
       "      <td>40.873816</td>\n",
       "      <td>-463.981935</td>\n",
       "      <td>-3.362188</td>\n",
       "      <td>101975</td>\n",
       "      <td>160000</td>\n",
       "      <td>True</td>\n",
       "      <td>1.0</td>\n",
       "      <td>4917.0</td>\n",
       "      <td>4271.0</td>\n",
       "      <td>56145.5900</td>\n",
       "    </tr>\n",
       "    <tr>\n",
       "      <th>11730</th>\n",
       "      <td>50026852</td>\n",
       "      <td>-22.6533</td>\n",
       "      <td>-53.8636</td>\n",
       "      <td>POINT (-53.8636 -22.6533)</td>\n",
       "      <td>POLYGON ((-53.8536 -22.6533, -53.8536481527332...</td>\n",
       "      <td>0.464852</td>\n",
       "      <td>0.643514</td>\n",
       "      <td>0.567267</td>\n",
       "      <td>0.123326</td>\n",
       "      <td>0.020554</td>\n",
       "      <td>...</td>\n",
       "      <td>-47.845023</td>\n",
       "      <td>775.662016</td>\n",
       "      <td>5.620739</td>\n",
       "      <td>699</td>\n",
       "      <td>1000</td>\n",
       "      <td>True</td>\n",
       "      <td>1.0</td>\n",
       "      <td>5764.0</td>\n",
       "      <td>4058.0</td>\n",
       "      <td>2192.8286</td>\n",
       "    </tr>\n",
       "    <tr>\n",
       "      <th>11731</th>\n",
       "      <td>23197269</td>\n",
       "      <td>-3.8159</td>\n",
       "      <td>-38.6271</td>\n",
       "      <td>POINT (-38.6271 -3.8159)</td>\n",
       "      <td>POLYGON ((-38.6171 -3.8159, -38.61714815273328...</td>\n",
       "      <td>0.761715</td>\n",
       "      <td>0.720904</td>\n",
       "      <td>22.291545</td>\n",
       "      <td>-3.073114</td>\n",
       "      <td>-0.512186</td>\n",
       "      <td>...</td>\n",
       "      <td>21.886264</td>\n",
       "      <td>539.082238</td>\n",
       "      <td>3.906393</td>\n",
       "      <td>233718</td>\n",
       "      <td>390000</td>\n",
       "      <td>True</td>\n",
       "      <td>1.0</td>\n",
       "      <td>13467.0</td>\n",
       "      <td>6067.0</td>\n",
       "      <td>22655.4840</td>\n",
       "    </tr>\n",
       "  </tbody>\n",
       "</table>\n",
       "<p>11732 rows × 29 columns</p>\n",
       "</div>"
      ],
      "text/plain": [
       "       source_school_id  latitude  longitude  \\\n",
       "0              11000023   -8.7585   -63.8540   \n",
       "1              11001364   -8.7627   -63.8642   \n",
       "2              11003138   -8.7579   -63.8554   \n",
       "3              11003200   -8.7573   -63.8646   \n",
       "4              11045175   -8.7468   -63.8554   \n",
       "...                 ...       ...        ...   \n",
       "11727          50026666  -23.6691   -54.5632   \n",
       "11728          23197145   -3.8787   -38.6144   \n",
       "11729          23197170   -3.8833   -38.6147   \n",
       "11730          50026852  -22.6533   -53.8636   \n",
       "11731          23197269   -3.8159   -38.6271   \n",
       "\n",
       "                           school_location  \\\n",
       "0                  POINT (-63.854 -8.7585)   \n",
       "1      POINT (-63.8642 -8.762700000000001)   \n",
       "2      POINT (-63.8554 -8.757899999999999)   \n",
       "3      POINT (-63.8646 -8.757300000000001)   \n",
       "4                 POINT (-63.8554 -8.7468)   \n",
       "...                                    ...   \n",
       "11727            POINT (-54.5632 -23.6691)   \n",
       "11728             POINT (-38.6144 -3.8787)   \n",
       "11729             POINT (-38.6147 -3.8833)   \n",
       "11730            POINT (-53.8636 -22.6533)   \n",
       "11731             POINT (-38.6271 -3.8159)   \n",
       "\n",
       "                                                geometry    target  mean_ghm  \\\n",
       "0      POLYGON ((-63.844 -8.7585, -63.84404815273328 ...  1.000000  0.778150   \n",
       "1      POLYGON ((-63.8542 -8.762700000000001, -63.854...  1.000000  0.813903   \n",
       "2      POLYGON ((-63.84540000000001 -8.75789999999999...  1.000000  0.781545   \n",
       "3      POLYGON ((-63.8546 -8.757300000000001, -63.854...  1.000000  0.803953   \n",
       "4      POLYGON ((-63.84540000000001 -8.7468, -63.8454...  1.000000  0.748688   \n",
       "...                                                  ...       ...       ...   \n",
       "11727  POLYGON ((-54.5532 -23.6691, -54.5532481527332...  0.367261  0.562417   \n",
       "11728  POLYGON ((-38.60440000000001 -3.8787, -38.6044...  0.617745  0.686202   \n",
       "11729  POLYGON ((-38.6047 -3.8833, -38.60474815273328...  0.617745  0.675718   \n",
       "11730  POLYGON ((-53.8536 -22.6533, -53.8536481527332...  0.464852  0.643514   \n",
       "11731  POLYGON ((-38.6171 -3.8159, -38.61714815273328...  0.761715  0.720904   \n",
       "\n",
       "       mean_avg_rad  change_year_avg_rad  slope_year_avg_rad  ...  \\\n",
       "0         29.486260             1.040262            0.173377  ...   \n",
       "1         32.686109            -0.064534           -0.010756  ...   \n",
       "2         29.852872             0.962008            0.160335  ...   \n",
       "3         32.056982             0.254048            0.042341  ...   \n",
       "4         27.407618             1.441365            0.240228  ...   \n",
       "...             ...                  ...                 ...  ...   \n",
       "11727      1.335753             0.099359            0.016560  ...   \n",
       "11728     22.115340            -3.320490           -0.553415  ...   \n",
       "11729     20.997906            -3.118815           -0.519803  ...   \n",
       "11730      0.567267             0.123326            0.020554  ...   \n",
       "11731     22.291545            -3.073114           -0.512186  ...   \n",
       "\n",
       "       slope_year_NDVI  change_month_NDVI  slope_month_NDVI  estimate_dau  \\\n",
       "0            23.184182         352.089866          2.551376        180872   \n",
       "1            24.580166         336.748641          2.440208        189483   \n",
       "2            23.466914         356.627458          2.584257        180714   \n",
       "3            25.034986         348.774612          2.527352        188635   \n",
       "4            22.922948         395.943743          2.869158        160030   \n",
       "...                ...                ...               ...           ...   \n",
       "11727       -59.898988         172.064010          1.246841          3919   \n",
       "11728        35.784600        -413.683806         -2.997709        102043   \n",
       "11729        40.873816        -463.981935         -3.362188        101975   \n",
       "11730       -47.845023         775.662016          5.620739           699   \n",
       "11731        21.886264         539.082238          3.906393        233718   \n",
       "\n",
       "       estimate_mau  estimate_ready  range  avg_d_kbps  avg_u_kbps  population  \n",
       "0            270000            True    1.0    111541.0     41429.0  21621.2770  \n",
       "1            280000            True    1.0     19693.0     16480.0  25260.3300  \n",
       "2            270000            True    1.0    111541.0     41429.0  32302.7380  \n",
       "3            280000            True    1.0     26874.0     28402.0  25429.0620  \n",
       "4            240000            True    1.0     75285.0     15608.0  33929.7000  \n",
       "...             ...             ...    ...         ...         ...         ...  \n",
       "11727          4900            True    1.0     26718.0     14410.0   2835.5640  \n",
       "11728        160000            True    1.0      8270.0      5224.0  63205.2400  \n",
       "11729        160000            True    1.0      4917.0      4271.0  56145.5900  \n",
       "11730          1000            True    1.0      5764.0      4058.0   2192.8286  \n",
       "11731        390000            True    1.0     13467.0      6067.0  22655.4840  \n",
       "\n",
       "[11732 rows x 29 columns]"
      ]
     },
     "execution_count": 27,
     "metadata": {},
     "output_type": "execute_result"
    }
   ],
   "source": [
    "dataset"
   ]
  },
  {
   "cell_type": "code",
   "execution_count": 20,
   "id": "58af8bfa",
   "metadata": {},
   "outputs": [
    {
     "data": {
      "text/plain": [
       "Index(['source_school_id', 'latitude', 'longitude', 'school_location',\n",
       "       'geometry', 'target', 'mean_ghm', 'mean_avg_rad', 'change_year_avg_rad',\n",
       "       'slope_year_avg_rad', 'change_month_avg_rad', 'slope_month_avg_rad',\n",
       "       'mean_cf_cvg', 'change_year_cf_cvg', 'slope_year_cf_cvg',\n",
       "       'change_month_cf_cvg', 'slope_month_cf_cvg', 'mean_NDVI',\n",
       "       'change_year_NDVI', 'slope_year_NDVI', 'change_month_NDVI',\n",
       "       'slope_month_NDVI', 'estimate_dau', 'estimate_mau', 'estimate_ready',\n",
       "       'range', 'avg_d_kbps', 'avg_u_kbps', 'population'],\n",
       "      dtype='object')"
      ]
     },
     "execution_count": 20,
     "metadata": {},
     "output_type": "execute_result"
    }
   ],
   "source": [
    "dataset.columns"
   ]
  },
  {
   "cell_type": "code",
   "execution_count": 36,
   "id": "17c5ecfa",
   "metadata": {
    "scrolled": true
   },
   "outputs": [
    {
     "name": "stdout",
     "output_type": "stream",
     "text": [
      "X Shape: (11732, 15)\n",
      "y Shape: (11732,)\n"
     ]
    },
    {
     "ename": "ValueError",
     "evalue": "The least populated class in y has only 1 member, which is too few. The minimum number of groups for any class cannot be less than 2.",
     "output_type": "error",
     "traceback": [
      "\u001b[0;31m---------------------------------------------------------------------------\u001b[0m",
      "\u001b[0;31mValueError\u001b[0m                                Traceback (most recent call last)",
      "\u001b[0;32m<ipython-input-36-3a1fd50b0ce4>\u001b[0m in \u001b[0;36m<module>\u001b[0;34m\u001b[0m\n\u001b[1;32m      6\u001b[0m \u001b[0;34m\u001b[0m\u001b[0m\n\u001b[1;32m      7\u001b[0m \u001b[0;31m# Train/Test split\u001b[0m\u001b[0;34m\u001b[0m\u001b[0;34m\u001b[0m\u001b[0;34m\u001b[0m\u001b[0m\n\u001b[0;32m----> 8\u001b[0;31m X_train, X_test, y_train, y_test = train_test_split(X, y, test_size = model_config['parameter']['test_size'], \n\u001b[0m\u001b[1;32m      9\u001b[0m                                                     random_state = 42, stratify= y)\n\u001b[1;32m     10\u001b[0m \u001b[0;34m\u001b[0m\u001b[0m\n",
      "\u001b[0;32m/opt/anaconda3/lib/python3.8/site-packages/sklearn/model_selection/_split.py\u001b[0m in \u001b[0;36mtrain_test_split\u001b[0;34m(test_size, train_size, random_state, shuffle, stratify, *arrays)\u001b[0m\n\u001b[1;32m   2195\u001b[0m                      random_state=random_state)\n\u001b[1;32m   2196\u001b[0m \u001b[0;34m\u001b[0m\u001b[0m\n\u001b[0;32m-> 2197\u001b[0;31m         \u001b[0mtrain\u001b[0m\u001b[0;34m,\u001b[0m \u001b[0mtest\u001b[0m \u001b[0;34m=\u001b[0m \u001b[0mnext\u001b[0m\u001b[0;34m(\u001b[0m\u001b[0mcv\u001b[0m\u001b[0;34m.\u001b[0m\u001b[0msplit\u001b[0m\u001b[0;34m(\u001b[0m\u001b[0mX\u001b[0m\u001b[0;34m=\u001b[0m\u001b[0marrays\u001b[0m\u001b[0;34m[\u001b[0m\u001b[0;36m0\u001b[0m\u001b[0;34m]\u001b[0m\u001b[0;34m,\u001b[0m \u001b[0my\u001b[0m\u001b[0;34m=\u001b[0m\u001b[0mstratify\u001b[0m\u001b[0;34m)\u001b[0m\u001b[0;34m)\u001b[0m\u001b[0;34m\u001b[0m\u001b[0;34m\u001b[0m\u001b[0m\n\u001b[0m\u001b[1;32m   2198\u001b[0m \u001b[0;34m\u001b[0m\u001b[0m\n\u001b[1;32m   2199\u001b[0m     return list(chain.from_iterable((_safe_indexing(a, train),\n",
      "\u001b[0;32m/opt/anaconda3/lib/python3.8/site-packages/sklearn/model_selection/_split.py\u001b[0m in \u001b[0;36msplit\u001b[0;34m(self, X, y, groups)\u001b[0m\n\u001b[1;32m   1385\u001b[0m         \"\"\"\n\u001b[1;32m   1386\u001b[0m         \u001b[0mX\u001b[0m\u001b[0;34m,\u001b[0m \u001b[0my\u001b[0m\u001b[0;34m,\u001b[0m \u001b[0mgroups\u001b[0m \u001b[0;34m=\u001b[0m \u001b[0mindexable\u001b[0m\u001b[0;34m(\u001b[0m\u001b[0mX\u001b[0m\u001b[0;34m,\u001b[0m \u001b[0my\u001b[0m\u001b[0;34m,\u001b[0m \u001b[0mgroups\u001b[0m\u001b[0;34m)\u001b[0m\u001b[0;34m\u001b[0m\u001b[0;34m\u001b[0m\u001b[0m\n\u001b[0;32m-> 1387\u001b[0;31m         \u001b[0;32mfor\u001b[0m \u001b[0mtrain\u001b[0m\u001b[0;34m,\u001b[0m \u001b[0mtest\u001b[0m \u001b[0;32min\u001b[0m \u001b[0mself\u001b[0m\u001b[0;34m.\u001b[0m\u001b[0m_iter_indices\u001b[0m\u001b[0;34m(\u001b[0m\u001b[0mX\u001b[0m\u001b[0;34m,\u001b[0m \u001b[0my\u001b[0m\u001b[0;34m,\u001b[0m \u001b[0mgroups\u001b[0m\u001b[0;34m)\u001b[0m\u001b[0;34m:\u001b[0m\u001b[0;34m\u001b[0m\u001b[0;34m\u001b[0m\u001b[0m\n\u001b[0m\u001b[1;32m   1388\u001b[0m             \u001b[0;32myield\u001b[0m \u001b[0mtrain\u001b[0m\u001b[0;34m,\u001b[0m \u001b[0mtest\u001b[0m\u001b[0;34m\u001b[0m\u001b[0;34m\u001b[0m\u001b[0m\n\u001b[1;32m   1389\u001b[0m \u001b[0;34m\u001b[0m\u001b[0m\n",
      "\u001b[0;32m/opt/anaconda3/lib/python3.8/site-packages/sklearn/model_selection/_split.py\u001b[0m in \u001b[0;36m_iter_indices\u001b[0;34m(self, X, y, groups)\u001b[0m\n\u001b[1;32m   1713\u001b[0m         \u001b[0mclass_counts\u001b[0m \u001b[0;34m=\u001b[0m \u001b[0mnp\u001b[0m\u001b[0;34m.\u001b[0m\u001b[0mbincount\u001b[0m\u001b[0;34m(\u001b[0m\u001b[0my_indices\u001b[0m\u001b[0;34m)\u001b[0m\u001b[0;34m\u001b[0m\u001b[0;34m\u001b[0m\u001b[0m\n\u001b[1;32m   1714\u001b[0m         \u001b[0;32mif\u001b[0m \u001b[0mnp\u001b[0m\u001b[0;34m.\u001b[0m\u001b[0mmin\u001b[0m\u001b[0;34m(\u001b[0m\u001b[0mclass_counts\u001b[0m\u001b[0;34m)\u001b[0m \u001b[0;34m<\u001b[0m \u001b[0;36m2\u001b[0m\u001b[0;34m:\u001b[0m\u001b[0;34m\u001b[0m\u001b[0;34m\u001b[0m\u001b[0m\n\u001b[0;32m-> 1715\u001b[0;31m             raise ValueError(\"The least populated class in y has only 1\"\n\u001b[0m\u001b[1;32m   1716\u001b[0m                              \u001b[0;34m\" member, which is too few. The minimum\"\u001b[0m\u001b[0;34m\u001b[0m\u001b[0;34m\u001b[0m\u001b[0m\n\u001b[1;32m   1717\u001b[0m                              \u001b[0;34m\" number of groups for any class cannot\"\u001b[0m\u001b[0;34m\u001b[0m\u001b[0;34m\u001b[0m\u001b[0m\n",
      "\u001b[0;31mValueError\u001b[0m: The least populated class in y has only 1 member, which is too few. The minimum number of groups for any class cannot be less than 2."
     ]
    }
   ],
   "source": [
    "# prepare data\n",
    "X = dataset[predictor]\n",
    "y = dataset[target]\n",
    "print('X Shape:', X.shape)\n",
    "print('y Shape:', y.shape)\n",
    "   \n",
    "# Train/Test split\n",
    "X_train, X_test, y_train, y_test = train_test_split(X, y, test_size = model_config['parameter']['test_size'], \n",
    "                                                    random_state = 42, stratify= y)\n",
    "\n",
    "print('X_train, X_test, y_train, y_test shapes:', X_train.shape, X_test.shape, y_train.shape, y_test.shape)\n",
    "print(\"size of training dataset = \", len(X_train))\n",
    "print(\"size of test dataset = \", len(X_test))"
   ]
  },
  {
   "cell_type": "code",
   "execution_count": 6,
   "id": "28d64e5f",
   "metadata": {},
   "outputs": [
    {
     "data": {
      "text/plain": [
       "A4A_right\n",
       "nominal      7942\n",
       "low           175\n",
       "dtype: int64"
      ]
     },
     "execution_count": 6,
     "metadata": {},
     "output_type": "execute_result"
    }
   ],
   "source": [
    "y_train[target].value_counts()"
   ]
  },
  {
   "cell_type": "code",
   "execution_count": 7,
   "id": "7d7a8881",
   "metadata": {},
   "outputs": [
    {
     "data": {
      "text/plain": [
       "A4A_right\n",
       "nominal      3404\n",
       "low            75\n",
       "dtype: int64"
      ]
     },
     "execution_count": 7,
     "metadata": {},
     "output_type": "execute_result"
    }
   ],
   "source": [
    "y_test[target].value_counts()"
   ]
  },
  {
   "cell_type": "markdown",
   "id": "6c231452",
   "metadata": {},
   "source": [
    "### Prepare model tuning"
   ]
  },
  {
   "cell_type": "code",
   "execution_count": 8,
   "id": "9244fd9d",
   "metadata": {},
   "outputs": [
    {
     "name": "stderr",
     "output_type": "stream",
     "text": [
      "<ipython-input-8-0d622864b6d4>:5: DataConversionWarning: A column-vector y was passed when a 1d array was expected. Please change the shape of y to (n_samples,), for example using ravel().\n",
      "  clf.fit(X_train,y_train)\n"
     ]
    },
    {
     "data": {
      "text/plain": [
       "RandomForestClassifier()"
      ]
     },
     "execution_count": 8,
     "metadata": {},
     "output_type": "execute_result"
    }
   ],
   "source": [
    "#Create a Gaussian Classifier\n",
    "clf=RandomForestClassifier(n_estimators=100)\n",
    "\n",
    "#Train the model using the training sets y_pred=clf.predict(X_test)\n",
    "clf.fit(X_train,y_train)"
   ]
  },
  {
   "cell_type": "code",
   "execution_count": 10,
   "id": "2c94adca",
   "metadata": {},
   "outputs": [
    {
     "name": "stdout",
     "output_type": "stream",
     "text": [
      "Mean ROC AUC: 0.965\n"
     ]
    }
   ],
   "source": [
    "# define evaluation procedure\n",
    "cv = RepeatedStratifiedKFold(n_splits=10, n_repeats=3, random_state=1)\n",
    "# evaluate model\n",
    "scores = cross_val_score(clf, X_train, y_train, scoring='roc_auc', cv=cv, n_jobs=-1)\n",
    "# summarize performance on train set\n",
    "print('Mean ROC AUC: %.3f' % (scores.mean()))"
   ]
  },
  {
   "cell_type": "markdown",
   "id": "ab4083ae",
   "metadata": {},
   "source": [
    "### Model Predictions"
   ]
  },
  {
   "cell_type": "code",
   "execution_count": 12,
   "id": "9449c069",
   "metadata": {},
   "outputs": [],
   "source": [
    "y_pred=clf.predict(X_test)"
   ]
  },
  {
   "cell_type": "code",
   "execution_count": 13,
   "id": "cd8f3ca1",
   "metadata": {},
   "outputs": [
    {
     "name": "stdout",
     "output_type": "stream",
     "text": [
      "Accuracy: 0.9893647599885025\n"
     ]
    }
   ],
   "source": [
    "#Import scikit-learn metrics module for accuracy calculation\n",
    "from sklearn import metrics\n",
    "# Model Accuracy, how often is the classifier correct?\n",
    "print(\"Accuracy:\",metrics.accuracy_score(y_test, y_pred))"
   ]
  },
  {
   "cell_type": "code",
   "execution_count": 14,
   "id": "f771e1a4",
   "metadata": {},
   "outputs": [
    {
     "data": {
      "text/plain": [
       "array([[  41,   34],\n",
       "       [   3, 3401]])"
      ]
     },
     "execution_count": 14,
     "metadata": {},
     "output_type": "execute_result"
    }
   ],
   "source": [
    "from sklearn.metrics import accuracy_score, confusion_matrix, classification_report\n",
    "\n",
    "# View confusion matrix for test data and predictions\n",
    "confusion_matrix(y_test, y_pred)"
   ]
  },
  {
   "cell_type": "code",
   "execution_count": 15,
   "id": "f96ddb11",
   "metadata": {},
   "outputs": [
    {
     "data": {
      "image/png": "[encoded data removed]",
      "text/plain": [
       "<Figure size 1152x504 with 2 Axes>"
      ]
     },
     "metadata": {
      "needs_background": "light"
     },
     "output_type": "display_data"
    }
   ],
   "source": [
    "import seaborn as sns\n",
    "\n",
    "# Get and reshape confusion matrix data\n",
    "matrix = confusion_matrix(y_test, y_pred)\n",
    "matrix = matrix.astype('float') / matrix.sum(axis=1)[:, np.newaxis]\n",
    "\n",
    "# Build the plot\n",
    "plt.figure(figsize=(16,7))\n",
    "sns.set(font_scale=1.4)\n",
    "sns.heatmap(matrix, annot=True, annot_kws={'size':10},\n",
    "            cmap=plt.cm.Greens, linewidths=0.2)\n",
    "\n",
    "# Add labels to the plot\n",
    "class_names = ['low','nominal']\n",
    "tick_marks = np.arange(len(class_names))\n",
    "tick_marks2 = tick_marks + 0.5\n",
    "plt.xticks(tick_marks, class_names, rotation=25)\n",
    "plt.yticks(tick_marks2, class_names, rotation=0)\n",
    "plt.xlabel('Predicted label')\n",
    "plt.ylabel('True label')\n",
    "plt.title('Confusion Matrix for Random Forest Model')\n",
    "plt.show()"
   ]
  },
  {
   "cell_type": "code",
   "execution_count": 16,
   "id": "d9070c70",
   "metadata": {},
   "outputs": [
    {
     "name": "stdout",
     "output_type": "stream",
     "text": [
      "              precision    recall  f1-score   support\n",
      "\n",
      "         low       0.93      0.55      0.69        75\n",
      "     nominal       0.99      1.00      0.99      3404\n",
      "\n",
      "    accuracy                           0.99      3479\n",
      "   macro avg       0.96      0.77      0.84      3479\n",
      "weighted avg       0.99      0.99      0.99      3479\n",
      "\n"
     ]
    }
   ],
   "source": [
    "# View the classification report for test data and predictions\n",
    "print(classification_report(y_test, y_pred))"
   ]
  },
  {
   "cell_type": "markdown",
   "id": "e3cb2f14",
   "metadata": {},
   "source": [
    "## Feature Importances"
   ]
  },
  {
   "cell_type": "code",
   "execution_count": 17,
   "id": "adf1ede1",
   "metadata": {},
   "outputs": [],
   "source": [
    "# Make the dataframe\n",
    "importance = pd.DataFrame(\n",
    "    {\"Feature\": X.columns, \"Importance\": clf.feature_importances_}\n",
    ").sort_values(\"Importance\")"
   ]
  },
  {
   "cell_type": "code",
   "execution_count": 18,
   "id": "3668c165",
   "metadata": {},
   "outputs": [
    {
     "data": {
      "text/html": [
       "<div>\n",
       "<style scoped>\n",
       "    .dataframe tbody tr th:only-of-type {\n",
       "        vertical-align: middle;\n",
       "    }\n",
       "\n",
       "    .dataframe tbody tr th {\n",
       "        vertical-align: top;\n",
       "    }\n",
       "\n",
       "    .dataframe thead th {\n",
       "        text-align: right;\n",
       "    }\n",
       "</style>\n",
       "<table border=\"1\" class=\"dataframe\">\n",
       "  <thead>\n",
       "    <tr style=\"text-align: right;\">\n",
       "      <th></th>\n",
       "      <th>Feature</th>\n",
       "      <th>Importance</th>\n",
       "    </tr>\n",
       "  </thead>\n",
       "  <tbody>\n",
       "    <tr>\n",
       "      <th>9</th>\n",
       "      <td>estimate_mau</td>\n",
       "      <td>0.068016</td>\n",
       "    </tr>\n",
       "    <tr>\n",
       "      <th>0</th>\n",
       "      <td>avg_d_kbps</td>\n",
       "      <td>0.072820</td>\n",
       "    </tr>\n",
       "    <tr>\n",
       "      <th>1</th>\n",
       "      <td>avg_u_kbps</td>\n",
       "      <td>0.073433</td>\n",
       "    </tr>\n",
       "    <tr>\n",
       "      <th>5</th>\n",
       "      <td>viirs_slope_yr</td>\n",
       "      <td>0.083547</td>\n",
       "    </tr>\n",
       "    <tr>\n",
       "      <th>6</th>\n",
       "      <td>cf_cvg_viirs_slope_yr</td>\n",
       "      <td>0.086458</td>\n",
       "    </tr>\n",
       "    <tr>\n",
       "      <th>2</th>\n",
       "      <td>mean_GHM</td>\n",
       "      <td>0.096174</td>\n",
       "    </tr>\n",
       "    <tr>\n",
       "      <th>7</th>\n",
       "      <td>viirs_slope_month</td>\n",
       "      <td>0.098656</td>\n",
       "    </tr>\n",
       "    <tr>\n",
       "      <th>10</th>\n",
       "      <td>pop_norm</td>\n",
       "      <td>0.100561</td>\n",
       "    </tr>\n",
       "    <tr>\n",
       "      <th>3</th>\n",
       "      <td>avg_rad_mean</td>\n",
       "      <td>0.102412</td>\n",
       "    </tr>\n",
       "    <tr>\n",
       "      <th>4</th>\n",
       "      <td>cf_cvg_mean</td>\n",
       "      <td>0.104387</td>\n",
       "    </tr>\n",
       "    <tr>\n",
       "      <th>8</th>\n",
       "      <td>viirs_slope_month_cf_cvg</td>\n",
       "      <td>0.113536</td>\n",
       "    </tr>\n",
       "  </tbody>\n",
       "</table>\n",
       "</div>"
      ],
      "text/plain": [
       "                     Feature  Importance\n",
       "9               estimate_mau    0.068016\n",
       "0                 avg_d_kbps    0.072820\n",
       "1                 avg_u_kbps    0.073433\n",
       "5             viirs_slope_yr    0.083547\n",
       "6      cf_cvg_viirs_slope_yr    0.086458\n",
       "2                   mean_GHM    0.096174\n",
       "7          viirs_slope_month    0.098656\n",
       "10                  pop_norm    0.100561\n",
       "3               avg_rad_mean    0.102412\n",
       "4                cf_cvg_mean    0.104387\n",
       "8   viirs_slope_month_cf_cvg    0.113536"
      ]
     },
     "execution_count": 18,
     "metadata": {},
     "output_type": "execute_result"
    }
   ],
   "source": [
    "importance"
   ]
  },
  {
   "cell_type": "code",
   "execution_count": 19,
   "id": "0beb4904",
   "metadata": {},
   "outputs": [
    {
     "data": {
      "text/plain": [
       "<AxesSubplot:title={'center':'Feature Importances'}>"
      ]
     },
     "execution_count": 19,
     "metadata": {},
     "output_type": "execute_result"
    },
    {
     "data": {
      "image/png": "[encoded data removed]",
      "text/plain": [
       "<Figure size 1008x432 with 1 Axes>"
      ]
     },
     "metadata": {},
     "output_type": "display_data"
    }
   ],
   "source": [
    "import matplotlib.pyplot as plt\n",
    "fig,ax =plt.subplots(1, figsize=(14,6))\n",
    "\n",
    "# add a title and annotation\n",
    "ax.set_title('Feature Importances', fontdict={'fontsize': '13', 'fontweight' : '3'})\n",
    "\n",
    "(pd.Series(clf.feature_importances_, index=X.columns)\n",
    "   .nsmallest(12).plot(kind='barh'))"
   ]
  },
  {
   "cell_type": "markdown",
   "id": "1830496c",
   "metadata": {},
   "source": [
    "## Pickling the model for use later on with predictions"
   ]
  },
  {
   "cell_type": "code",
   "execution_count": 32,
   "id": "a340ed0f",
   "metadata": {},
   "outputs": [],
   "source": [
    "#changing the path to save in the models folder\n",
    "path = '/home/desktop3/itu/models/'\n",
    "#os.chdir(path)"
   ]
  },
  {
   "cell_type": "code",
   "execution_count": 33,
   "id": "cb1fda54",
   "metadata": {},
   "outputs": [],
   "source": [
    "## pickle the file\n",
    "# save the model to disk\n",
    "filename = 'RF_Classifier_Model2.sav'\n",
    "pickle.dump(clf, open(path + filename, 'wb'))"
   ]
  },
  {
   "cell_type": "code",
   "execution_count": null,
   "id": "89af6f93",
   "metadata": {},
   "outputs": [],
   "source": []
  }
 ],
 "metadata": {
  "kernelspec": {
   "display_name": "Python 3",
   "language": "python",
   "name": "python3"
  },
  "language_info": {
   "codemirror_mode": {
    "name": "ipython",
    "version": 3
   },
   "file_extension": ".py",
   "mimetype": "text/x-python",
   "name": "python",
   "nbconvert_exporter": "python",
   "pygments_lexer": "ipython3",
   "version": "3.8.8"
  }
 },
 "nbformat": 4,
 "nbformat_minor": 5
}
