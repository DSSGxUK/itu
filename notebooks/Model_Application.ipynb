{
 "cells": [
  {
   "cell_type": "code",
   "execution_count": null,
   "id": "5331ffa3",
   "metadata": {},
   "outputs": [],
   "source": [
    "# load packages\n",
    "import mlflow\n",
    "import yaml\n",
    "import numpy as np\n",
    "import pandas as pd\n",
    "import pickle\n",
    "# import pickle 5 as pickle in case model cannot be loaded (was exported under Python 3.8)\n",
    "import pickle5 as pickle\n",
    "import os\n",
    "import geopandas as gpd\n",
    "import matplotlib.pyplot as plt"
   ]
  },
  {
   "cell_type": "code",
   "execution_count": null,
   "id": "ad43845c",
   "metadata": {},
   "outputs": [],
   "source": [
    "# read in (yaml) configs\n",
    "with open('../conf/predict_config.yaml', 'r') as conf:\n",
    "    model_config = yaml.safe_load(conf)\n",
    "\n",
    "# import data\n",
    "dataset = model_config['model']['loc'] + model_config['model']['file']\n",
    "dataset = pd.read_csv(dataset)\n",
    "\n",
    "# rename satellite variables\n",
    "dataset = dataset.rename(columns={\"mean_GHM\":\"mean_ghm\",\n",
    "                                  \"viirs_slope_yr\":\"slope_avg_rad\",\n",
    "                                  \"cf_cvg_viirs_slope_yr\":\"slope_cf_cvg\",\n",
    "                                  \"viirs_slope_month\":\"slope_month_avg_rad\",\n",
    "                                  \"viirs_slope_month_cf_cvg\":\"slope_monthcf_cvg\"})\n",
    "\n",
    "#define predictors and target variable\n",
    "predictor = model_config['features']['predictors']\n",
    "target = model_config['features']['target']"
   ]
  },
  {
   "cell_type": "code",
   "execution_count": null,
   "id": "3809a6b1",
   "metadata": {
    "scrolled": true
   },
   "outputs": [],
   "source": [
    "# prepare data\n",
    "X = dataset[predictor]\n",
    "y = dataset[target]\n",
    "print('X Shape:', X.shape)\n",
    "print('y Shape:', y.shape)"
   ]
  },
  {
   "cell_type": "code",
   "execution_count": null,
   "id": "5e2d9672",
   "metadata": {},
   "outputs": [],
   "source": [
    "# load the model from ml flow saves\n",
    "filename = model_config['model']['champion'] \n",
    "model = pickle.load(open(filename, 'rb'))\n",
    "\n",
    "# apply model on dataset and add predictions as column\n",
    "# import pickle 5 as pickle in case model cannot be loaded \n",
    "# (was exported under Python 3.8) - see first cell\n",
    "y_pred = model.predict(X)\n",
    "dataset[\"y_pred\"] = y_pred"
   ]
  },
  {
   "cell_type": "code",
   "execution_count": null,
   "id": "161ad7d7",
   "metadata": {},
   "outputs": [],
   "source": [
    "#remove initial pixel population data\n",
    "dataset = dataset.drop(columns = \"population\")\n",
    "\n",
    "#load and merge population data, with information on absolute school area population \n",
    "popread = open(\"../data/worldpop/school_agg_pop_\"+ str(model_config[\"country_3digit\"]) + \".csv\")\n",
    "popdata = pd.read_csv(popread)\n",
    "\n",
    "dataset = dataset.merge(popdata, how ='inner')"
   ]
  },
  {
   "cell_type": "code",
   "execution_count": null,
   "id": "38f98024",
   "metadata": {},
   "outputs": [],
   "source": [
    "#load and merge school data, with additional information about schools (name, internet & computer availability)\n",
    "schoolread = open(\"../data/school_loc/brazil_school_geolocation_master.csv\")\n",
    "schooldata = pd.read_csv(schoolread)\n",
    "schooldata = schooldata[[\"source_school_id\", \"school_name\", \"internet_availability\", \"computer_availability\"]]\n",
    "dataset = dataset.merge(schooldata, how = \"inner\")"
   ]
  },
  {
   "cell_type": "markdown",
   "id": "291b90aa",
   "metadata": {},
   "source": [
    "Please adjust the file name above to the respective file that contains schools geolocation and potential further information. The same holds true for the additional school data variable names. They can be excluded or altered, depending on the dataset at hand."
   ]
  },
  {
   "cell_type": "code",
   "execution_count": null,
   "id": "d252f36f",
   "metadata": {
    "scrolled": false
   },
   "outputs": [],
   "source": [
    "#adjust predictions that exceed [0;1]\n",
    "dataset.y_pred = [1 if x>1 else x for x in dataset.y_pred]\n",
    "dataset.y_pred = [0 if x<0 else x for x in dataset.y_pred]\n",
    "\n",
    "dataset.y_pred.describe()"
   ]
  },
  {
   "cell_type": "code",
   "execution_count": null,
   "id": "be324bf3",
   "metadata": {},
   "outputs": [],
   "source": [
    "#create lists of total online population according to predction and GT\n",
    "dataset[\"target\"]=dataset[target]\n",
    "onlinepop_pred = (dataset.population * dataset.y_pred)\n",
    "onlinepop_gt = (dataset.population * dataset.target)\n",
    "\n",
    "#create variables for relative and absolute offline population\n",
    "dataset[\"offline_p\"]= 1- dataset.y_pred\n",
    "dataset[\"offline_g\"]= 1- dataset[target]\n",
    "dataset[\"offlinepop_pred\"] = dataset.population * dataset.offline_p\n",
    "dataset[\"offlinepop_gt\"] = dataset.population * dataset.offline_g\n",
    "onlinepop_gt.head()"
   ]
  },
  {
   "cell_type": "code",
   "execution_count": null,
   "id": "e15d07bb",
   "metadata": {
    "scrolled": true
   },
   "outputs": [],
   "source": [
    "#subset relevant variables for priorization list export\n",
    "prio = dataset[[\"source_school_id\",\"school_name\", \"offlinepop_pred\", \"offline_p\", \"offline_g\",\"internet_availability\",\"computer_availability\"]]\n",
    "prio.head()"
   ]
  },
  {
   "cell_type": "code",
   "execution_count": null,
   "id": "0c63f557",
   "metadata": {},
   "outputs": [],
   "source": [
    "#sort descendingly according to absolute offline population \n",
    "prio = prio.sort_values(\"offlinepop_pred\", ascending = False)\n",
    "print(prio.head())\n",
    "#export priorization list\n",
    "prio.to_excel(r\"../data/predictions/Total_Priorization_List.xlsx\", index = False)"
   ]
  },
  {
   "cell_type": "code",
   "execution_count": null,
   "id": "c141d049",
   "metadata": {},
   "outputs": [],
   "source": [
    "#Creating a geodataframe\n",
    "from shapely import wkt\n",
    "#Changing dataframe into a geodataframe focused on the school geometry column\n",
    "dataset['School'] = gpd.GeoSeries.from_wkt(dataset['School'])\n",
    "gdf = gpd.GeoDataFrame(dataset, geometry='School')\n",
    "#gdf.head()"
   ]
  },
  {
   "cell_type": "code",
   "execution_count": null,
   "id": "37c69073",
   "metadata": {},
   "outputs": [],
   "source": [
    "#Set the figure size\n",
    "fig,ax =plt.subplots(1, figsize=(15,10))\n",
    "\n",
    "#plotting with the new geodataframe, each school point by prediction value\n",
    "cmap_reversed = plt.cm.get_cmap('magma_r')\n",
    "gdf.plot(column=gdf.offlinepop_pred, cmap = cmap_reversed ,legend=True, ax=ax)\n",
    "\n",
    "# add a title and annotation\n",
    "plt.suptitle('Absolute offline Population for '+ model_config['country'], fontsize=18, fontweight=3)\n",
    "plt.title(str(gdf.shape[0]) +' schools', fontsize=13)\n",
    "\n",
    "#show the plot\n",
    "plt.show()"
   ]
  },
  {
   "cell_type": "code",
   "execution_count": null,
   "id": "13618cc3",
   "metadata": {},
   "outputs": [],
   "source": [
    "#repeat subsetting for schools with no internet available\n",
    "dataset_off = dataset[dataset.internet_availability == \"No\"]\n",
    "prio_off = dataset_off[[\"source_school_id\",\"school_name\", \"offlinepop_pred\", \"offline_p\", \"offline_g\",\"internet_availability\",\"computer_availability\"]]\n",
    "prio_off.head()"
   ]
  },
  {
   "cell_type": "code",
   "execution_count": null,
   "id": "3399bd78",
   "metadata": {},
   "outputs": [],
   "source": [
    "#sort, print and export priorization list of offline schools\n",
    "prio_off= prio_off.sort_values(\"offlinepop_pred\", ascending= False)\n",
    "print(prio_off.head())\n",
    "prio_off.to_excel(r\"../data/predictions/Offline_Priorization_List.xlsx\", index= False)"
   ]
  },
  {
   "cell_type": "code",
   "execution_count": null,
   "id": "0ce2b918",
   "metadata": {},
   "outputs": [],
   "source": [
    "#subset geodataframe to only offline schools\n",
    "offline_schools = gdf.loc[gdf['internet_availability'] == \"No\"]\n",
    "offline_schools.shape"
   ]
  },
  {
   "cell_type": "code",
   "execution_count": null,
   "id": "80c10cb8",
   "metadata": {},
   "outputs": [],
   "source": [
    "#create figure \n",
    "fig,ax =plt.subplots(1, figsize=(15,10))\n",
    "\n",
    "# add a title and annotation\n",
    "offline_schools.plot(column=offline_schools.offlinepop_pred, cmap = cmap_reversed ,legend=True, ax=ax)\n",
    "plt.suptitle('Predictions for offline schools', fontsize=18, fontweight=3)\n",
    "plt.title(str(offline_schools.shape[0]) + ' schools', fontsize=13)\n",
    "\n",
    "plt.show()"
   ]
  },
  {
   "cell_type": "code",
   "execution_count": null,
   "id": "726b3003",
   "metadata": {},
   "outputs": [],
   "source": [
    "#repeat subsetting with adding the exclusion of high population outliers \n",
    "dataset_low = dataset_off[dataset_off.population < np.percentile(dataset_off.population, 90)]\n",
    "prio_low = dataset_low[[\"source_school_id\",\"school_name\", \"offlinepop_pred\", \"offline_p\", \"offline_g\",\"internet_availability\",\"computer_availability\"]]\n",
    "prio_low.head()"
   ]
  },
  {
   "cell_type": "code",
   "execution_count": null,
   "id": "0af1fc9f",
   "metadata": {
    "scrolled": true
   },
   "outputs": [],
   "source": [
    "#sort, print and export priorization list of \"low\" population schools\n",
    "prio_low= prio_low.sort_values(\"offlinepop_pred\", ascending= False)\n",
    "print(prio_low.head())\n",
    "prio_low.to_excel(r\"../data/predictions/Offline_Priorization_List_no_outliers.xlsx\", index= False)"
   ]
  },
  {
   "cell_type": "code",
   "execution_count": null,
   "id": "ab8d5913",
   "metadata": {},
   "outputs": [],
   "source": [
    "#subset geodata by excluding 10th decile\n",
    "offline_schools_no_outliers = offline_schools = offline_schools[offline_schools.population < np.percentile(offline_schools.population, 90)]\n",
    "offline_schools_no_outliers.shape"
   ]
  },
  {
   "cell_type": "code",
   "execution_count": null,
   "id": "7e138e5b",
   "metadata": {},
   "outputs": [],
   "source": [
    "#create figure \n",
    "fig,ax =plt.subplots(1, figsize=(15,10))\n",
    "\n",
    "# add a title and annotation\n",
    "offline_schools_no_outliers.plot(column=offline_schools_no_outliers.offlinepop_pred, cmap = cmap_reversed ,legend=True, ax=ax)\n",
    "plt.suptitle('Predictions for offline schools with outliers excluded', fontsize=18, fontweight=3)\n",
    "plt.title(str(offline_schools_no_outliers.shape[0]) +' schools', fontsize=13)\n",
    "\n",
    "plt.show()"
   ]
  },
  {
   "cell_type": "code",
   "execution_count": null,
   "id": "e72d6312",
   "metadata": {},
   "outputs": [],
   "source": [
    "#aggregate online population (predicted) and population to full sample \n",
    "totalonlinepop = onlinepop_pred.sum()\n",
    "totalpop = dataset.population.sum()\n",
    "#calculate country level online share (predicted)\n",
    "brazil_online = (totalonlinepop/totalpop)\n",
    "print(\"Relative predicted online population:\")\n",
    "print(str(100*np.round(brazil_online,4)) + ' %')\n",
    "#multiply with population data to create estimate of total online population\n",
    "#official population data taken from: https://data.worldbank.org/indicator/SP.POP.TOTL?locations=BR\n",
    "brazil_online_abs= model_config[\"country_pop\"] * (brazil_online)\n",
    "print(\"Absolute predicted online population:\")\n",
    "print(int(brazil_online_abs))"
   ]
  },
  {
   "cell_type": "code",
   "execution_count": null,
   "id": "b48f4ef4",
   "metadata": {
    "scrolled": false
   },
   "outputs": [],
   "source": [
    "#aggregate online population (ground truth) to full sample \n",
    "totalonlinepop_gt = onlinepop_gt.sum()\n",
    "totalpop = dataset.population.sum()\n",
    "#calculate country level online share (ground truth)\n",
    "brazil_online_gt = (totalonlinepop_gt/totalpop)\n",
    "print(\"Relative ground truth online population:\")\n",
    "print(str(100*np.round(brazil_online_gt,4)) + ' %')\n",
    "#multiply with population data to create estimate of total online population\n",
    "#official population data taken from: https://data.worldbank.org/indicator/SP.POP.TOTL?locations=BR\n",
    "brazil_online_abs_gt = model_config[\"country_pop\"] * (brazil_online_gt)\n",
    "print(\"Absolute ground truth online population:\")\n",
    "print(int(brazil_online_abs_gt))"
   ]
  }
 ],
 "metadata": {
  "kernelspec": {
   "display_name": "Python 3",
   "language": "python",
   "name": "python3"
  },
  "language_info": {
   "codemirror_mode": {
    "name": "ipython",
    "version": 3
   },
   "file_extension": ".py",
   "mimetype": "text/x-python",
   "name": "python",
   "nbconvert_exporter": "python",
   "pygments_lexer": "ipython3",
   "version": "3.7.2"
  },
  "varInspector": {
   "cols": {
    "lenName": 16,
    "lenType": 16,
    "lenVar": 40
   },
   "kernels_config": {
    "python": {
     "delete_cmd_postfix": "",
     "delete_cmd_prefix": "del ",
     "library": "var_list.py",
     "varRefreshCmd": "print(var_dic_list())"
    },
    "r": {
     "delete_cmd_postfix": ") ",
     "delete_cmd_prefix": "rm(",
     "library": "var_list.r",
     "varRefreshCmd": "cat(var_dic_list()) "
    }
   },
   "types_to_exclude": [
    "module",
    "function",
    "builtin_function_or_method",
    "instance",
    "_Feature"
   ],
   "window_display": false
  }
 },
 "nbformat": 4,
 "nbformat_minor": 5
}
