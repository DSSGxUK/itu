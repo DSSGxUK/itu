{
 "cells": [
  {
   "cell_type": "markdown",
   "id": "e9e811ec",
   "metadata": {},
   "source": [
    "# Model Application"
   ]
  },
  {
   "cell_type": "code",
   "execution_count": 1,
   "id": "60c45367",
   "metadata": {},
   "outputs": [
    {
     "name": "stderr",
     "output_type": "stream",
     "text": [
      "/opt/anaconda3/lib/python3.8/site-packages/geopandas/_compat.py:106: UserWarning: The Shapely GEOS version (3.8.0-CAPI-1.13.1 ) is incompatible with the GEOS version PyGEOS was compiled with (3.9.1-CAPI-1.14.2). Conversions between both will be slow.\n",
      "  warnings.warn(\n"
     ]
    }
   ],
   "source": [
    "# load packages\n",
    "import mlflow\n",
    "import yaml\n",
    "import numpy as np\n",
    "import pandas as pd\n",
    "import pickle\n",
    "# import pickle 5 as pickle in case model cannot be loaded (was exported under Python 3.8)\n",
    "#import pickle5 as pickle\n",
    "import os\n",
    "import geopandas as gpd\n",
    "import matplotlib.pyplot as plt"
   ]
  },
  {
   "cell_type": "code",
   "execution_count": 19,
   "id": "6e78cdc6",
   "metadata": {},
   "outputs": [],
   "source": [
    "# read in (yaml) configs'\n",
    "with open('../conf/predict_config.yaml', 'r') as conf:\n",
    "    model_config = yaml.safe_load(conf)\n",
    "\n",
    "# import data\n",
    "dataset = model_config['model']['loc'] + model_config['model']['file']\n",
    "dataset = pd.read_csv(dataset)\n",
    "\n",
    "#define predictors and target variable\n",
    "predictor = model_config['features']['predictors']\n",
    "target = model_config['features']['target']"
   ]
  },
  {
   "cell_type": "code",
   "execution_count": 20,
   "id": "3fa8a569",
   "metadata": {
    "scrolled": true
   },
   "outputs": [
    {
     "name": "stdout",
     "output_type": "stream",
     "text": [
      "X Shape: (11732, 12)\n",
      "y Shape: (11732, 1)\n"
     ]
    }
   ],
   "source": [
    "# prepare data\n",
    "X = dataset[predictor]\n",
    "y = dataset[target]\n",
    "print('X Shape:', X.shape)\n",
    "print('y Shape:', y.shape)"
   ]
  },
  {
   "cell_type": "code",
   "execution_count": 21,
   "id": "3474d632",
   "metadata": {},
   "outputs": [],
   "source": [
    "# load the model from model folder\n",
    "filename = model_config['model']['model_loc'] + model_config['model']['champion'] \n",
    "model = pickle.load(open(filename, 'rb'))\n",
    "\n",
    "# apply model on dataset and add predictions as column\n",
    "# import pickle 5 as pickle in case model cannot be loaded \n",
    "# (was exported under Python 3.8) - see first cell\n",
    "y_pred = model.predict(X)\n",
    "dataset[\"y_pred\"] = y_pred"
   ]
  },
  {
   "cell_type": "markdown",
   "id": "3ed50848",
   "metadata": {},
   "source": [
    "## Setup dataset "
   ]
  },
  {
   "cell_type": "code",
   "execution_count": 22,
   "id": "538ae995",
   "metadata": {},
   "outputs": [],
   "source": [
    "#remove initial pixel population data\n",
    "dataset = dataset.drop(columns = \"population\")\n",
    "\n",
    "#load and merge population data, with information on absolute school area population \n",
    "popread = open(model_config['model']['loc'] + model_config['model']['population']+ str(model_config[\"country_3digit\"]) + \".csv\")\n",
    "popdata = pd.read_csv(popread)\n",
    "\n",
    "dataset = dataset.merge(popdata, how ='inner')"
   ]
  },
  {
   "cell_type": "code",
   "execution_count": 23,
   "id": "57265fb3",
   "metadata": {},
   "outputs": [],
   "source": [
    "#load and merge school data, with additional information about schools (name, internet & computer availability)\n",
    "schoolread = open(model_config['model']['loc'] + model_config['model']['school'])\n",
    "schooldata = pd.read_csv(schoolread)\n",
    "schooldata = schooldata[[\"source_school_id\", \"school_name\", \"internet_availability\", \"computer_availability\"]]\n",
    "dataset = dataset.merge(schooldata, how = \"inner\")"
   ]
  },
  {
   "cell_type": "markdown",
   "id": "32c111f2",
   "metadata": {},
   "source": [
    "Please adjust the file name above to the respective file that contains schools geolocation and further information. The same holds true for the additional school data variable names. They can be excluded or altered, depending on the dataset at hand. If schools are pulled from OSM, this entire chunk should be neglected."
   ]
  },
  {
   "cell_type": "code",
   "execution_count": 24,
   "id": "f27a34e8",
   "metadata": {
    "scrolled": false
   },
   "outputs": [
    {
     "data": {
      "text/plain": [
       "count    11732.000000\n",
       "mean         0.726126\n",
       "std          0.190057\n",
       "min          0.000000\n",
       "25%          0.622446\n",
       "50%          0.747617\n",
       "75%          0.861043\n",
       "max          1.000000\n",
       "Name: y_pred, dtype: float64"
      ]
     },
     "execution_count": 24,
     "metadata": {},
     "output_type": "execute_result"
    }
   ],
   "source": [
    "#adjust predictions that exceed [0;1]\n",
    "dataset.y_pred = [1 if x>1 else x for x in dataset.y_pred]\n",
    "dataset.y_pred = [0 if x<0 else x for x in dataset.y_pred]\n",
    "\n",
    "dataset.y_pred.describe()"
   ]
  },
  {
   "cell_type": "code",
   "execution_count": 25,
   "id": "8c09e5bf",
   "metadata": {},
   "outputs": [
    {
     "data": {
      "text/plain": [
       "0    21621.277\n",
       "1    25260.330\n",
       "2    32302.738\n",
       "3    25429.062\n",
       "4    33929.700\n",
       "dtype: float64"
      ]
     },
     "execution_count": 25,
     "metadata": {},
     "output_type": "execute_result"
    }
   ],
   "source": [
    "#create lists of total online population according to predction and GT\n",
    "dataset[\"target\"]=dataset[target]\n",
    "onlinepop_pred = (dataset.population * dataset.y_pred)\n",
    "onlinepop_gt = (dataset.population * dataset.target)\n",
    "\n",
    "#create variables for relative and absolute offline population\n",
    "dataset[\"offline_p\"]= 1- dataset.y_pred\n",
    "dataset[\"offline_g\"]= 1- dataset[target]\n",
    "dataset[\"offlinepop_pred\"] = dataset.population * dataset.offline_p\n",
    "dataset[\"offlinepop_gt\"] = dataset.population * dataset.offline_g\n",
    "onlinepop_gt.head()"
   ]
  },
  {
   "cell_type": "markdown",
   "id": "6e75a1ba",
   "metadata": {},
   "source": [
    "## Priorization"
   ]
  },
  {
   "cell_type": "code",
   "execution_count": 26,
   "id": "b3ec00a7",
   "metadata": {
    "scrolled": true
   },
   "outputs": [
    {
     "data": {
      "text/html": [
       "<div>\n",
       "<style scoped>\n",
       "    .dataframe tbody tr th:only-of-type {\n",
       "        vertical-align: middle;\n",
       "    }\n",
       "\n",
       "    .dataframe tbody tr th {\n",
       "        vertical-align: top;\n",
       "    }\n",
       "\n",
       "    .dataframe thead th {\n",
       "        text-align: right;\n",
       "    }\n",
       "</style>\n",
       "<table border=\"1\" class=\"dataframe\">\n",
       "  <thead>\n",
       "    <tr style=\"text-align: right;\">\n",
       "      <th></th>\n",
       "      <th>source_school_id</th>\n",
       "      <th>school_name</th>\n",
       "      <th>offlinepop_pred</th>\n",
       "      <th>offline_p</th>\n",
       "      <th>offline_g</th>\n",
       "      <th>internet_availability</th>\n",
       "      <th>computer_availability</th>\n",
       "    </tr>\n",
       "  </thead>\n",
       "  <tbody>\n",
       "    <tr>\n",
       "      <th>0</th>\n",
       "      <td>11000023</td>\n",
       "      <td>EEEE ABNAEL MACHADO DE LIMA - CENE</td>\n",
       "      <td>0.000000</td>\n",
       "      <td>0.000000</td>\n",
       "      <td>0.0</td>\n",
       "      <td>Yes</td>\n",
       "      <td>Yes</td>\n",
       "    </tr>\n",
       "    <tr>\n",
       "      <th>1</th>\n",
       "      <td>11001364</td>\n",
       "      <td>EEEFM JUSCELINO KUBITSCHEK DE OLIVEIRA</td>\n",
       "      <td>0.000000</td>\n",
       "      <td>0.000000</td>\n",
       "      <td>0.0</td>\n",
       "      <td>Yes</td>\n",
       "      <td>Yes</td>\n",
       "    </tr>\n",
       "    <tr>\n",
       "      <th>2</th>\n",
       "      <td>11003138</td>\n",
       "      <td>I M E ENG</td>\n",
       "      <td>0.000000</td>\n",
       "      <td>0.000000</td>\n",
       "      <td>0.0</td>\n",
       "      <td>Yes</td>\n",
       "      <td>Yes</td>\n",
       "    </tr>\n",
       "    <tr>\n",
       "      <th>3</th>\n",
       "      <td>11003200</td>\n",
       "      <td>EEEF NOSSA SENHORA DO AMPARO</td>\n",
       "      <td>1307.334337</td>\n",
       "      <td>0.051411</td>\n",
       "      <td>0.0</td>\n",
       "      <td>Yes</td>\n",
       "      <td>Yes</td>\n",
       "    </tr>\n",
       "    <tr>\n",
       "      <th>4</th>\n",
       "      <td>11045175</td>\n",
       "      <td>EMEF JOAO RIBEIRO SOARES</td>\n",
       "      <td>0.000000</td>\n",
       "      <td>0.000000</td>\n",
       "      <td>0.0</td>\n",
       "      <td>Yes</td>\n",
       "      <td>No</td>\n",
       "    </tr>\n",
       "  </tbody>\n",
       "</table>\n",
       "</div>"
      ],
      "text/plain": [
       "   source_school_id                             school_name  offlinepop_pred  \\\n",
       "0          11000023      EEEE ABNAEL MACHADO DE LIMA - CENE         0.000000   \n",
       "1          11001364  EEEFM JUSCELINO KUBITSCHEK DE OLIVEIRA         0.000000   \n",
       "2          11003138                               I M E ENG         0.000000   \n",
       "3          11003200            EEEF NOSSA SENHORA DO AMPARO      1307.334337   \n",
       "4          11045175                EMEF JOAO RIBEIRO SOARES         0.000000   \n",
       "\n",
       "   offline_p  offline_g internet_availability computer_availability  \n",
       "0   0.000000        0.0                   Yes                   Yes  \n",
       "1   0.000000        0.0                   Yes                   Yes  \n",
       "2   0.000000        0.0                   Yes                   Yes  \n",
       "3   0.051411        0.0                   Yes                   Yes  \n",
       "4   0.000000        0.0                   Yes                    No  "
      ]
     },
     "execution_count": 26,
     "metadata": {},
     "output_type": "execute_result"
    }
   ],
   "source": [
    "#subset relevant variables for priorization list export\n",
    "prio = dataset[[\"source_school_id\",\"school_name\", \"offlinepop_pred\", \"offline_p\", \"offline_g\",\"internet_availability\",\"computer_availability\"]]\n",
    "#If schools are pulled from OSM, the line below should be used for export. These variables are the minimum information\n",
    "#that can always be exported. This also holds true for the other exports below \n",
    "#prio = dataset[[\"source_school_id\", \"offlinepop_pred\", \"offline_p\", \"offline_g\"]]\n",
    "\n",
    "prio.head()"
   ]
  },
  {
   "cell_type": "code",
   "execution_count": 30,
   "id": "febe684a",
   "metadata": {},
   "outputs": [
    {
     "name": "stdout",
     "output_type": "stream",
     "text": [
      "      source_school_id                                       school_name  \\\n",
      "8924          33068372  0209021 ESCOLA MUNICIPAL PRESIDENTE JOAO GOULART   \n",
      "8911          33068216          0209019 ESCOLA MUNICIPAL AFRANIO PEIXOTO   \n",
      "4316          33067783                               CE FRANCISCO CAMPOS   \n",
      "217           13026720                   EM PROF RICARDO PEREIRA PARENTE   \n",
      "4317          33068275         0209025 ESCOLA MUNICIPAL FRANCISCO CAMPOS   \n",
      "\n",
      "      offlinepop_pred  offline_p  offline_g internet_availability  \\\n",
      "8924    101306.713968   0.998751        1.0                   Yes   \n",
      "8911     90077.484000   1.000000        1.0                   Yes   \n",
      "4316     86641.545636   0.999616        1.0                   Yes   \n",
      "217      83041.914000   1.000000        1.0                   Yes   \n",
      "4317     80645.323116   0.930435        1.0                   Yes   \n",
      "\n",
      "     computer_availability  \n",
      "8924                   Yes  \n",
      "8911                    No  \n",
      "4316                   Yes  \n",
      "217                     No  \n",
      "4317                   Yes  \n"
     ]
    }
   ],
   "source": [
    "#sort descendingly according to absolute offline population \n",
    "prio = prio.sort_values(\"offlinepop_pred\", ascending = False)\n",
    "print(prio.head())\n",
    "#export priorization list\n",
    "prio.to_excel(model_config['model']['loc'] + \"predictions/Total_Priorization_List.xlsx\", index = False)"
   ]
  },
  {
   "cell_type": "code",
   "execution_count": 27,
   "id": "5f555b89",
   "metadata": {},
   "outputs": [
    {
     "data": {
      "text/html": [
       "<div>\n",
       "<style scoped>\n",
       "    .dataframe tbody tr th:only-of-type {\n",
       "        vertical-align: middle;\n",
       "    }\n",
       "\n",
       "    .dataframe tbody tr th {\n",
       "        vertical-align: top;\n",
       "    }\n",
       "\n",
       "    .dataframe thead th {\n",
       "        text-align: right;\n",
       "    }\n",
       "</style>\n",
       "<table border=\"1\" class=\"dataframe\">\n",
       "  <thead>\n",
       "    <tr style=\"text-align: right;\">\n",
       "      <th></th>\n",
       "      <th>Unnamed: 0</th>\n",
       "      <th>Unnamed: 0.1</th>\n",
       "      <th>Unnamed: 0.1.1</th>\n",
       "      <th>Unnamed: 0.1.1.1</th>\n",
       "      <th>Unnamed: 0.1.1.1.1</th>\n",
       "      <th>Unnamed: 0.1.1.1.1.1</th>\n",
       "      <th>School</th>\n",
       "      <th>source_school_id</th>\n",
       "      <th>geometry</th>\n",
       "      <th>index_right</th>\n",
       "      <th>...</th>\n",
       "      <th>y_pred</th>\n",
       "      <th>population</th>\n",
       "      <th>school_name</th>\n",
       "      <th>internet_availability</th>\n",
       "      <th>computer_availability</th>\n",
       "      <th>target</th>\n",
       "      <th>offline_p</th>\n",
       "      <th>offline_g</th>\n",
       "      <th>offlinepop_pred</th>\n",
       "      <th>offlinepop_gt</th>\n",
       "    </tr>\n",
       "  </thead>\n",
       "  <tbody>\n",
       "    <tr>\n",
       "      <th>0</th>\n",
       "      <td>0</td>\n",
       "      <td>0</td>\n",
       "      <td>0</td>\n",
       "      <td>0</td>\n",
       "      <td>0</td>\n",
       "      <td>0</td>\n",
       "      <td>POINT (-63.85400 -8.75850)</td>\n",
       "      <td>11000023</td>\n",
       "      <td>POLYGON ((-63.844 -8.7585, -63.84404815273328 ...</td>\n",
       "      <td>5</td>\n",
       "      <td>...</td>\n",
       "      <td>0.947278</td>\n",
       "      <td>21621.277</td>\n",
       "      <td>EEEE ABNAEL MACHADO DE LIMA - CENE</td>\n",
       "      <td>Yes</td>\n",
       "      <td>Yes</td>\n",
       "      <td>1.0</td>\n",
       "      <td>0.052722</td>\n",
       "      <td>0.0</td>\n",
       "      <td>1139.917762</td>\n",
       "      <td>0.0</td>\n",
       "    </tr>\n",
       "    <tr>\n",
       "      <th>1</th>\n",
       "      <td>1</td>\n",
       "      <td>1</td>\n",
       "      <td>1</td>\n",
       "      <td>1</td>\n",
       "      <td>1</td>\n",
       "      <td>57</td>\n",
       "      <td>POINT (-63.86420 -8.76270)</td>\n",
       "      <td>11001364</td>\n",
       "      <td>POLYGON ((-63.8542 -8.762700000000001, -63.854...</td>\n",
       "      <td>5</td>\n",
       "      <td>...</td>\n",
       "      <td>0.993212</td>\n",
       "      <td>25260.330</td>\n",
       "      <td>EEEFM JUSCELINO KUBITSCHEK DE OLIVEIRA</td>\n",
       "      <td>Yes</td>\n",
       "      <td>Yes</td>\n",
       "      <td>1.0</td>\n",
       "      <td>0.006788</td>\n",
       "      <td>0.0</td>\n",
       "      <td>171.456969</td>\n",
       "      <td>0.0</td>\n",
       "    </tr>\n",
       "    <tr>\n",
       "      <th>2</th>\n",
       "      <td>2</td>\n",
       "      <td>2</td>\n",
       "      <td>2</td>\n",
       "      <td>2</td>\n",
       "      <td>2</td>\n",
       "      <td>117</td>\n",
       "      <td>POINT (-63.85540 -8.75790)</td>\n",
       "      <td>11003138</td>\n",
       "      <td>POLYGON ((-63.84540000000001 -8.75789999999999...</td>\n",
       "      <td>5</td>\n",
       "      <td>...</td>\n",
       "      <td>0.960947</td>\n",
       "      <td>32302.738</td>\n",
       "      <td>I M E ENG</td>\n",
       "      <td>Yes</td>\n",
       "      <td>Yes</td>\n",
       "      <td>1.0</td>\n",
       "      <td>0.039053</td>\n",
       "      <td>0.0</td>\n",
       "      <td>1261.508013</td>\n",
       "      <td>0.0</td>\n",
       "    </tr>\n",
       "    <tr>\n",
       "      <th>3</th>\n",
       "      <td>3</td>\n",
       "      <td>3</td>\n",
       "      <td>3</td>\n",
       "      <td>3</td>\n",
       "      <td>3</td>\n",
       "      <td>121</td>\n",
       "      <td>POINT (-63.86460 -8.75730)</td>\n",
       "      <td>11003200</td>\n",
       "      <td>POLYGON ((-63.8546 -8.757300000000001, -63.854...</td>\n",
       "      <td>5</td>\n",
       "      <td>...</td>\n",
       "      <td>0.954114</td>\n",
       "      <td>25429.062</td>\n",
       "      <td>EEEF NOSSA SENHORA DO AMPARO</td>\n",
       "      <td>Yes</td>\n",
       "      <td>Yes</td>\n",
       "      <td>1.0</td>\n",
       "      <td>0.045886</td>\n",
       "      <td>0.0</td>\n",
       "      <td>1166.834402</td>\n",
       "      <td>0.0</td>\n",
       "    </tr>\n",
       "    <tr>\n",
       "      <th>4</th>\n",
       "      <td>4</td>\n",
       "      <td>4</td>\n",
       "      <td>4</td>\n",
       "      <td>4</td>\n",
       "      <td>4</td>\n",
       "      <td>862</td>\n",
       "      <td>POINT (-63.85540 -8.74680)</td>\n",
       "      <td>11045175</td>\n",
       "      <td>POLYGON ((-63.84540000000001 -8.7468, -63.8454...</td>\n",
       "      <td>5</td>\n",
       "      <td>...</td>\n",
       "      <td>0.937994</td>\n",
       "      <td>33929.700</td>\n",
       "      <td>EMEF JOAO RIBEIRO SOARES</td>\n",
       "      <td>Yes</td>\n",
       "      <td>No</td>\n",
       "      <td>1.0</td>\n",
       "      <td>0.062006</td>\n",
       "      <td>0.0</td>\n",
       "      <td>2103.854978</td>\n",
       "      <td>0.0</td>\n",
       "    </tr>\n",
       "  </tbody>\n",
       "</table>\n",
       "<p>5 rows × 72 columns</p>\n",
       "</div>"
      ],
      "text/plain": [
       "   Unnamed: 0  Unnamed: 0.1  Unnamed: 0.1.1  Unnamed: 0.1.1.1  \\\n",
       "0           0             0               0                 0   \n",
       "1           1             1               1                 1   \n",
       "2           2             2               2                 2   \n",
       "3           3             3               3                 3   \n",
       "4           4             4               4                 4   \n",
       "\n",
       "   Unnamed: 0.1.1.1.1  Unnamed: 0.1.1.1.1.1                      School  \\\n",
       "0                   0                     0  POINT (-63.85400 -8.75850)   \n",
       "1                   1                    57  POINT (-63.86420 -8.76270)   \n",
       "2                   2                   117  POINT (-63.85540 -8.75790)   \n",
       "3                   3                   121  POINT (-63.86460 -8.75730)   \n",
       "4                   4                   862  POINT (-63.85540 -8.74680)   \n",
       "\n",
       "   source_school_id                                           geometry  \\\n",
       "0          11000023  POLYGON ((-63.844 -8.7585, -63.84404815273328 ...   \n",
       "1          11001364  POLYGON ((-63.8542 -8.762700000000001, -63.854...   \n",
       "2          11003138  POLYGON ((-63.84540000000001 -8.75789999999999...   \n",
       "3          11003200  POLYGON ((-63.8546 -8.757300000000001, -63.854...   \n",
       "4          11045175  POLYGON ((-63.84540000000001 -8.7468, -63.8454...   \n",
       "\n",
       "   index_right  ...    y_pred  population  \\\n",
       "0            5  ...  0.947278   21621.277   \n",
       "1            5  ...  0.993212   25260.330   \n",
       "2            5  ...  0.960947   32302.738   \n",
       "3            5  ...  0.954114   25429.062   \n",
       "4            5  ...  0.937994   33929.700   \n",
       "\n",
       "                              school_name  internet_availability  \\\n",
       "0      EEEE ABNAEL MACHADO DE LIMA - CENE                    Yes   \n",
       "1  EEEFM JUSCELINO KUBITSCHEK DE OLIVEIRA                    Yes   \n",
       "2                               I M E ENG                    Yes   \n",
       "3            EEEF NOSSA SENHORA DO AMPARO                    Yes   \n",
       "4                EMEF JOAO RIBEIRO SOARES                    Yes   \n",
       "\n",
       "   computer_availability  target  offline_p  offline_g  offlinepop_pred  \\\n",
       "0                    Yes     1.0   0.052722        0.0      1139.917762   \n",
       "1                    Yes     1.0   0.006788        0.0       171.456969   \n",
       "2                    Yes     1.0   0.039053        0.0      1261.508013   \n",
       "3                    Yes     1.0   0.045886        0.0      1166.834402   \n",
       "4                     No     1.0   0.062006        0.0      2103.854978   \n",
       "\n",
       "   offlinepop_gt  \n",
       "0            0.0  \n",
       "1            0.0  \n",
       "2            0.0  \n",
       "3            0.0  \n",
       "4            0.0  \n",
       "\n",
       "[5 rows x 72 columns]"
      ]
     },
     "execution_count": 27,
     "metadata": {},
     "output_type": "execute_result"
    }
   ],
   "source": [
    "#Creating a geodataframe\n",
    "from shapely import wkt\n",
    "#Changing dataframe into a geodataframe focused on the school geometry column\n",
    "dataset['School'] = gpd.GeoSeries.from_wkt(dataset['School'])\n",
    "gdf = gpd.GeoDataFrame(dataset, geometry='School')\n",
    "#gdf.head()"
   ]
  },
  {
   "cell_type": "code",
   "execution_count": 28,
   "id": "6273e091",
   "metadata": {},
   "outputs": [
    {
     "data": {
      "image/png": "[encoded data removed]",
      "text/plain": [
       "<Figure size 1080x720 with 2 Axes>"
      ]
     },
     "metadata": {
      "needs_background": "light"
     },
     "output_type": "display_data"
    }
   ],
   "source": [
    "#Set the figure size\n",
    "fig,ax =plt.subplots(1, figsize=(15,10))\n",
    "\n",
    "#plotting with the new geodataframe, each school point by prediction value\n",
    "cmap_reversed = plt.cm.get_cmap('magma_r')\n",
    "gdf.plot(column=gdf.offlinepop_pred, cmap = cmap_reversed ,legend=True, ax=ax)\n",
    "\n",
    "# add a title and annotation\n",
    "plt.suptitle('Absolute offline Population for '+ model_config['country'], fontsize=18, fontweight=3)\n",
    "plt.title(str(gdf.shape[0]) +' schools', fontsize=13)\n",
    "\n",
    "#show the plot\n",
    "plt.show()"
   ]
  },
  {
   "cell_type": "code",
   "execution_count": 29,
   "id": "10fdd84b",
   "metadata": {},
   "outputs": [
    {
     "data": {
      "text/html": [
       "<div>\n",
       "<style scoped>\n",
       "    .dataframe tbody tr th:only-of-type {\n",
       "        vertical-align: middle;\n",
       "    }\n",
       "\n",
       "    .dataframe tbody tr th {\n",
       "        vertical-align: top;\n",
       "    }\n",
       "\n",
       "    .dataframe thead th {\n",
       "        text-align: right;\n",
       "    }\n",
       "</style>\n",
       "<table border=\"1\" class=\"dataframe\">\n",
       "  <thead>\n",
       "    <tr style=\"text-align: right;\">\n",
       "      <th></th>\n",
       "      <th>source_school_id</th>\n",
       "      <th>school_name</th>\n",
       "      <th>offlinepop_pred</th>\n",
       "      <th>offline_p</th>\n",
       "      <th>offline_g</th>\n",
       "      <th>internet_availability</th>\n",
       "      <th>computer_availability</th>\n",
       "    </tr>\n",
       "  </thead>\n",
       "  <tbody>\n",
       "    <tr>\n",
       "      <th>5</th>\n",
       "      <td>11048883</td>\n",
       "      <td>EMEIEF NOSSA SENHORA DO AMPARO</td>\n",
       "      <td>44.947117</td>\n",
       "      <td>0.001692</td>\n",
       "      <td>0.000000</td>\n",
       "      <td>No</td>\n",
       "      <td>No</td>\n",
       "    </tr>\n",
       "    <tr>\n",
       "      <th>35</th>\n",
       "      <td>11048590</td>\n",
       "      <td>EIEEF JOJ MIT O MINIM</td>\n",
       "      <td>571.803082</td>\n",
       "      <td>0.040556</td>\n",
       "      <td>0.000000</td>\n",
       "      <td>No</td>\n",
       "      <td>No</td>\n",
       "    </tr>\n",
       "    <tr>\n",
       "      <th>56</th>\n",
       "      <td>11117800</td>\n",
       "      <td>EMEIEF SOM DA CRAVIOLA</td>\n",
       "      <td>10105.365477</td>\n",
       "      <td>0.266254</td>\n",
       "      <td>0.221344</td>\n",
       "      <td>No</td>\n",
       "      <td>No</td>\n",
       "    </tr>\n",
       "    <tr>\n",
       "      <th>69</th>\n",
       "      <td>12032913</td>\n",
       "      <td>ESC CEI JORGE LUIZ VENANCIO PINTO</td>\n",
       "      <td>2140.307089</td>\n",
       "      <td>0.094612</td>\n",
       "      <td>0.000000</td>\n",
       "      <td>No</td>\n",
       "      <td>No</td>\n",
       "    </tr>\n",
       "    <tr>\n",
       "      <th>74</th>\n",
       "      <td>12033111</td>\n",
       "      <td>ESC CRECHE MAURO LIMA</td>\n",
       "      <td>4924.418994</td>\n",
       "      <td>0.193458</td>\n",
       "      <td>0.000000</td>\n",
       "      <td>No</td>\n",
       "      <td>No</td>\n",
       "    </tr>\n",
       "  </tbody>\n",
       "</table>\n",
       "</div>"
      ],
      "text/plain": [
       "    source_school_id                        school_name  offlinepop_pred  \\\n",
       "5           11048883     EMEIEF NOSSA SENHORA DO AMPARO        44.947117   \n",
       "35          11048590              EIEEF JOJ MIT O MINIM       571.803082   \n",
       "56          11117800             EMEIEF SOM DA CRAVIOLA     10105.365477   \n",
       "69          12032913  ESC CEI JORGE LUIZ VENANCIO PINTO      2140.307089   \n",
       "74          12033111              ESC CRECHE MAURO LIMA      4924.418994   \n",
       "\n",
       "    offline_p  offline_g internet_availability computer_availability  \n",
       "5    0.001692   0.000000                    No                    No  \n",
       "35   0.040556   0.000000                    No                    No  \n",
       "56   0.266254   0.221344                    No                    No  \n",
       "69   0.094612   0.000000                    No                    No  \n",
       "74   0.193458   0.000000                    No                    No  "
      ]
     },
     "execution_count": 29,
     "metadata": {},
     "output_type": "execute_result"
    }
   ],
   "source": [
    "#repeat subsetting for schools with no internet available\n",
    "dataset_off = dataset[dataset.internet_availability == \"No\"]\n",
    "prio_off = dataset_off[[\"source_school_id\",\"school_name\", \"offlinepop_pred\", \"offline_p\", \"offline_g\",\"internet_availability\",\"computer_availability\"]]\n",
    "#prio_off = dataset[[\"source_school_id\", \"offlinepop_pred\", \"offline_p\", \"offline_g\"]]\n",
    "prio_off.head()"
   ]
  },
  {
   "cell_type": "code",
   "execution_count": 32,
   "id": "e1158c68",
   "metadata": {},
   "outputs": [
    {
     "ename": "NameError",
     "evalue": "name 'prio_off' is not defined",
     "output_type": "error",
     "traceback": [
      "\u001b[0;31m---------------------------------------------------------------------------\u001b[0m",
      "\u001b[0;31mNameError\u001b[0m                                 Traceback (most recent call last)",
      "\u001b[0;32m<ipython-input-32-621d4c00d326>\u001b[0m in \u001b[0;36m<module>\u001b[0;34m\u001b[0m\n\u001b[1;32m      1\u001b[0m \u001b[0;31m#sort, print and export priorization list of offline schools\u001b[0m\u001b[0;34m\u001b[0m\u001b[0;34m\u001b[0m\u001b[0;34m\u001b[0m\u001b[0m\n\u001b[0;32m----> 2\u001b[0;31m \u001b[0mprio_off\u001b[0m\u001b[0;34m=\u001b[0m \u001b[0mprio_off\u001b[0m\u001b[0;34m.\u001b[0m\u001b[0msort_values\u001b[0m\u001b[0;34m(\u001b[0m\u001b[0;34m\"offlinepop_pred\"\u001b[0m\u001b[0;34m,\u001b[0m \u001b[0mascending\u001b[0m\u001b[0;34m=\u001b[0m \u001b[0;32mFalse\u001b[0m\u001b[0;34m)\u001b[0m\u001b[0;34m\u001b[0m\u001b[0;34m\u001b[0m\u001b[0m\n\u001b[0m\u001b[1;32m      3\u001b[0m \u001b[0mprint\u001b[0m\u001b[0;34m(\u001b[0m\u001b[0mprio_off\u001b[0m\u001b[0;34m.\u001b[0m\u001b[0mhead\u001b[0m\u001b[0;34m(\u001b[0m\u001b[0;34m)\u001b[0m\u001b[0;34m)\u001b[0m\u001b[0;34m\u001b[0m\u001b[0;34m\u001b[0m\u001b[0m\n\u001b[1;32m      4\u001b[0m \u001b[0mprio_off\u001b[0m\u001b[0;34m.\u001b[0m\u001b[0mto_excel\u001b[0m\u001b[0;34m(\u001b[0m\u001b[0mmodel_config\u001b[0m\u001b[0;34m[\u001b[0m\u001b[0;34m'model'\u001b[0m\u001b[0;34m]\u001b[0m\u001b[0;34m[\u001b[0m\u001b[0;34m'loc'\u001b[0m\u001b[0;34m]\u001b[0m \u001b[0;34m+\u001b[0m \u001b[0;34m\"predictions/Offline_Priorization_List.xlsx\"\u001b[0m\u001b[0;34m,\u001b[0m \u001b[0mindex\u001b[0m\u001b[0;34m=\u001b[0m \u001b[0;32mFalse\u001b[0m\u001b[0;34m)\u001b[0m\u001b[0;34m\u001b[0m\u001b[0;34m\u001b[0m\u001b[0m\n",
      "\u001b[0;31mNameError\u001b[0m: name 'prio_off' is not defined"
     ]
    }
   ],
   "source": [
    "#sort, print and export priorization list of offline schools\n",
    "prio_off= prio_off.sort_values(\"offlinepop_pred\", ascending= False)\n",
    "print(prio_off.head())\n",
    "prio_off.to_excel(model_config['model']['loc'] + \"predictions/Offline_Priorization_List.xlsx\", index= False)"
   ]
  },
  {
   "cell_type": "code",
   "execution_count": 31,
   "id": "42fe34f1",
   "metadata": {},
   "outputs": [
    {
     "data": {
      "text/plain": [
       "(1276, 72)"
      ]
     },
     "execution_count": 31,
     "metadata": {},
     "output_type": "execute_result"
    }
   ],
   "source": [
    "#subset geodataframe to only offline schools\n",
    "offline_schools = gdf.loc[gdf['internet_availability'] == \"No\"]\n",
    "offline_schools.shape"
   ]
  },
  {
   "cell_type": "code",
   "execution_count": 32,
   "id": "a749f196",
   "metadata": {},
   "outputs": [
    {
     "data": {
      "image/png": "[encoded data removed]",
      "text/plain": [
       "<Figure size 1080x720 with 2 Axes>"
      ]
     },
     "metadata": {
      "needs_background": "light"
     },
     "output_type": "display_data"
    }
   ],
   "source": [
    "#create figure \n",
    "fig,ax =plt.subplots(1, figsize=(15,10))\n",
    "\n",
    "# add a title and annotation\n",
    "offline_schools.plot(column=offline_schools.offlinepop_pred, cmap = cmap_reversed ,legend=True, ax=ax)\n",
    "plt.suptitle('Predictions for offline schools', fontsize=18, fontweight=3)\n",
    "plt.title(str(offline_schools.shape[0]) + ' schools', fontsize=13)\n",
    "\n",
    "plt.show()"
   ]
  },
  {
   "cell_type": "code",
   "execution_count": 33,
   "id": "26e9dc92",
   "metadata": {},
   "outputs": [
    {
     "data": {
      "text/html": [
       "<div>\n",
       "<style scoped>\n",
       "    .dataframe tbody tr th:only-of-type {\n",
       "        vertical-align: middle;\n",
       "    }\n",
       "\n",
       "    .dataframe tbody tr th {\n",
       "        vertical-align: top;\n",
       "    }\n",
       "\n",
       "    .dataframe thead th {\n",
       "        text-align: right;\n",
       "    }\n",
       "</style>\n",
       "<table border=\"1\" class=\"dataframe\">\n",
       "  <thead>\n",
       "    <tr style=\"text-align: right;\">\n",
       "      <th></th>\n",
       "      <th>source_school_id</th>\n",
       "      <th>school_name</th>\n",
       "      <th>offlinepop_pred</th>\n",
       "      <th>offline_p</th>\n",
       "      <th>offline_g</th>\n",
       "      <th>internet_availability</th>\n",
       "      <th>computer_availability</th>\n",
       "    </tr>\n",
       "  </thead>\n",
       "  <tbody>\n",
       "    <tr>\n",
       "      <th>5</th>\n",
       "      <td>11048883</td>\n",
       "      <td>EMEIEF NOSSA SENHORA DO AMPARO</td>\n",
       "      <td>44.947117</td>\n",
       "      <td>0.001692</td>\n",
       "      <td>0.000000</td>\n",
       "      <td>No</td>\n",
       "      <td>No</td>\n",
       "    </tr>\n",
       "    <tr>\n",
       "      <th>35</th>\n",
       "      <td>11048590</td>\n",
       "      <td>EIEEF JOJ MIT O MINIM</td>\n",
       "      <td>571.803082</td>\n",
       "      <td>0.040556</td>\n",
       "      <td>0.000000</td>\n",
       "      <td>No</td>\n",
       "      <td>No</td>\n",
       "    </tr>\n",
       "    <tr>\n",
       "      <th>56</th>\n",
       "      <td>11117800</td>\n",
       "      <td>EMEIEF SOM DA CRAVIOLA</td>\n",
       "      <td>10105.365477</td>\n",
       "      <td>0.266254</td>\n",
       "      <td>0.221344</td>\n",
       "      <td>No</td>\n",
       "      <td>No</td>\n",
       "    </tr>\n",
       "    <tr>\n",
       "      <th>69</th>\n",
       "      <td>12032913</td>\n",
       "      <td>ESC CEI JORGE LUIZ VENANCIO PINTO</td>\n",
       "      <td>2140.307089</td>\n",
       "      <td>0.094612</td>\n",
       "      <td>0.000000</td>\n",
       "      <td>No</td>\n",
       "      <td>No</td>\n",
       "    </tr>\n",
       "    <tr>\n",
       "      <th>74</th>\n",
       "      <td>12033111</td>\n",
       "      <td>ESC CRECHE MAURO LIMA</td>\n",
       "      <td>4924.418994</td>\n",
       "      <td>0.193458</td>\n",
       "      <td>0.000000</td>\n",
       "      <td>No</td>\n",
       "      <td>No</td>\n",
       "    </tr>\n",
       "  </tbody>\n",
       "</table>\n",
       "</div>"
      ],
      "text/plain": [
       "    source_school_id                        school_name  offlinepop_pred  \\\n",
       "5           11048883     EMEIEF NOSSA SENHORA DO AMPARO        44.947117   \n",
       "35          11048590              EIEEF JOJ MIT O MINIM       571.803082   \n",
       "56          11117800             EMEIEF SOM DA CRAVIOLA     10105.365477   \n",
       "69          12032913  ESC CEI JORGE LUIZ VENANCIO PINTO      2140.307089   \n",
       "74          12033111              ESC CRECHE MAURO LIMA      4924.418994   \n",
       "\n",
       "    offline_p  offline_g internet_availability computer_availability  \n",
       "5    0.001692   0.000000                    No                    No  \n",
       "35   0.040556   0.000000                    No                    No  \n",
       "56   0.266254   0.221344                    No                    No  \n",
       "69   0.094612   0.000000                    No                    No  \n",
       "74   0.193458   0.000000                    No                    No  "
      ]
     },
     "execution_count": 33,
     "metadata": {},
     "output_type": "execute_result"
    }
   ],
   "source": [
    "#repeat subsetting with adding the exclusion of high population outliers \n",
    "dataset_low = dataset_off[dataset_off.population < np.percentile(dataset_off.population, 90)]\n",
    "prio_low = dataset_low[[\"source_school_id\",\"school_name\", \"offlinepop_pred\", \"offline_p\", \"offline_g\",\"internet_availability\",\"computer_availability\"]]\n",
    "#prio_low = dataset[[\"source_school_id\", \"offlinepop_pred\", \"offline_p\", \"offline_g\"]]\n",
    "prio_low.head()"
   ]
  },
  {
   "cell_type": "code",
   "execution_count": 34,
   "id": "6433159d",
   "metadata": {
    "scrolled": true
   },
   "outputs": [
    {
     "name": "stdout",
     "output_type": "stream",
     "text": [
      "       source_school_id                          school_name  offlinepop_pred  \\\n",
      "10175          16009878         ESC MUL ANA CRISTINA R BRITO     36963.597863   \n",
      "4823           35000383             ANTOINE DE SAINT EXUPERY     34190.558063   \n",
      "9476           21343802                     EM LIRIO DO VALE     30689.735771   \n",
      "9979           16003713  ESC EST BENEVENUTO SOARES RODRIGUES     30441.626486   \n",
      "7883           21227780                 EM CRIANCA ESPERANCA     28641.515188   \n",
      "\n",
      "       offline_p  offline_g internet_availability computer_availability  \n",
      "10175   0.704285   0.734394                    No                   Yes  \n",
      "4823    0.570285   0.695699                    No                   Yes  \n",
      "9476    0.605015   0.656836                    No                    No  \n",
      "9979    0.670873   0.734394                    No                    No  \n",
      "7883    0.611691   0.656836                    No                    No  \n"
     ]
    }
   ],
   "source": [
    "#sort, print and export priorization list of \"low\" population schools\n",
    "prio_low= prio_low.sort_values(\"offlinepop_pred\", ascending= False)\n",
    "print(prio_low.head())\n",
    "prio_low.to_excel(model_config['model']['loc'] + \"predictions/Offline_Priorization_List_no_outliers.xlsx\", index= False)"
   ]
  },
  {
   "cell_type": "code",
   "execution_count": 35,
   "id": "50172043",
   "metadata": {},
   "outputs": [
    {
     "data": {
      "text/plain": [
       "(1148, 72)"
      ]
     },
     "execution_count": 35,
     "metadata": {},
     "output_type": "execute_result"
    }
   ],
   "source": [
    "#subset geodata by excluding 10th decile\n",
    "offline_schools_no_outliers = offline_schools = offline_schools[offline_schools.population < np.percentile(offline_schools.population, 90)]\n",
    "offline_schools_no_outliers.shape"
   ]
  },
  {
   "cell_type": "code",
   "execution_count": 36,
   "id": "8efa90cd",
   "metadata": {},
   "outputs": [
    {
     "data": {
      "image/png": "[encoded data removed]",
      "text/plain": [
       "<Figure size 1080x720 with 2 Axes>"
      ]
     },
     "metadata": {
      "needs_background": "light"
     },
     "output_type": "display_data"
    }
   ],
   "source": [
    "#create figure \n",
    "fig,ax =plt.subplots(1, figsize=(15,10))\n",
    "\n",
    "# add a title and annotation\n",
    "offline_schools_no_outliers.plot(column=offline_schools_no_outliers.offlinepop_pred, cmap = cmap_reversed ,legend=True, ax=ax)\n",
    "plt.suptitle('Predictions for offline schools with outliers excluded', fontsize=18, fontweight=3)\n",
    "plt.title(str(offline_schools_no_outliers.shape[0]) +' schools', fontsize=13)\n",
    "\n",
    "plt.show()"
   ]
  },
  {
   "cell_type": "markdown",
   "id": "91bda57c",
   "metadata": {},
   "source": [
    "## Country-level Aggregation"
   ]
  },
  {
   "cell_type": "code",
   "execution_count": 37,
   "id": "1a1e15e9",
   "metadata": {},
   "outputs": [
    {
     "name": "stdout",
     "output_type": "stream",
     "text": [
      "Relative predicted online population:\n",
      "78.41 %\n",
      "Absolute predicted online population:\n",
      "166677651\n"
     ]
    }
   ],
   "source": [
    "#aggregate online population (predicted) and population to full sample \n",
    "totalonlinepop = onlinepop_pred.sum()\n",
    "totalpop = dataset.population.sum()\n",
    "#calculate country level online share (predicted)\n",
    "brazil_online = (totalonlinepop/totalpop)\n",
    "print(\"Relative predicted online population:\")\n",
    "print(str(100*np.round(brazil_online,4)) + ' %')\n",
    "\n",
    "#multiply with population data to create estimate of total online population\n",
    "#official population data taken from: https://data.worldbank.org/indicator/SP.POP.TOTL?locations=BR\n",
    "brazil_online_abs= model_config[\"country_pop\"] * (brazil_online)\n",
    "print(\"Absolute predicted online population:\")\n",
    "print(int(brazil_online_abs))"
   ]
  },
  {
   "cell_type": "code",
   "execution_count": 38,
   "id": "d44997c9",
   "metadata": {
    "scrolled": false
   },
   "outputs": [
    {
     "name": "stdout",
     "output_type": "stream",
     "text": [
      "Relative ground truth online population:\n",
      "75.52 %\n",
      "Absolute ground truth online population:\n",
      "160523053\n"
     ]
    }
   ],
   "source": [
    "#aggregate online population (ground truth) to full sample \n",
    "totalonlinepop_gt = onlinepop_gt.sum()\n",
    "totalpop = dataset.population.sum()\n",
    "#calculate country level online share (ground truth)\n",
    "brazil_online_gt = (totalonlinepop_gt/totalpop)\n",
    "print(\"Relative ground truth online population:\")\n",
    "print(str(100*np.round(brazil_online_gt,4)) + ' %')\n",
    "\n",
    "#multiply with population data to create estimate of total online population\n",
    "#official population data taken from: https://data.worldbank.org/indicator/SP.POP.TOTL?locations=BR\n",
    "brazil_online_abs_gt = model_config[\"country_pop\"] * (brazil_online_gt)\n",
    "print(\"Absolute ground truth online population:\")\n",
    "print(int(brazil_online_abs_gt))"
   ]
  }
 ],
 "metadata": {
  "kernelspec": {
   "display_name": "Python 3",
   "language": "python",
   "name": "python3"
  },
  "language_info": {
   "codemirror_mode": {
    "name": "ipython",
    "version": 3
   },
   "file_extension": ".py",
   "mimetype": "text/x-python",
   "name": "python",
   "nbconvert_exporter": "python",
   "pygments_lexer": "ipython3",
   "version": "3.8.8"
  },
  "varInspector": {
   "cols": {
    "lenName": 16,
    "lenType": 16,
    "lenVar": 40
   },
   "kernels_config": {
    "python": {
     "delete_cmd_postfix": "",
     "delete_cmd_prefix": "del ",
     "library": "var_list.py",
     "varRefreshCmd": "print(var_dic_list())"
    },
    "r": {
     "delete_cmd_postfix": ") ",
     "delete_cmd_prefix": "rm(",
     "library": "var_list.r",
     "varRefreshCmd": "cat(var_dic_list()) "
    }
   },
   "types_to_exclude": [
    "module",
    "function",
    "builtin_function_or_method",
    "instance",
    "_Feature"
   ],
   "window_display": false
  }
 },
 "nbformat": 4,
 "nbformat_minor": 5
}
