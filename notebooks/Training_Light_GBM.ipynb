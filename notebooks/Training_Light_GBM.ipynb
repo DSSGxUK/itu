{
 "cells": [
  {
   "cell_type": "markdown",
   "id": "e616758f",
   "metadata": {},
   "source": [
    "#  Predicting the worlds offline population\n",
    "## First Model Training and Evaluation \n",
    "## (LightGBM on Brazil)"
   ]
  },
  {
   "cell_type": "code",
   "execution_count": null,
   "id": "4a8dc336",
   "metadata": {},
   "outputs": [],
   "source": [
    "# load libraries\n",
    "import yaml\n",
    "import lightgbm\n",
    "import pandas as pd\n",
    "import numpy as np\n",
    "import plotly.figure_factory as ff\n",
    "import plotly.express as px\n",
    "from sklearn.model_selection import train_test_split, KFold, RandomizedSearchCV, GridSearchCV"
   ]
  },
  {
   "cell_type": "markdown",
   "id": "4841dc05",
   "metadata": {},
   "source": [
    "### Load and prepare data"
   ]
  },
  {
   "cell_type": "code",
   "execution_count": null,
   "id": "f82aed54",
   "metadata": {},
   "outputs": [],
   "source": [
    "# read in (yaml) configs\n",
    "with open('../conf/model_config.yaml', 'r') as conf:\n",
    "    model_config = yaml.safe_load(conf)\n",
    "\n",
    "# import data\n",
    "dataset = '../' + model_config['model']['loc'] + model_config['model']['file']\n",
    "dataset = pd.read_csv(dataset)\n",
    "# subset for faster trial and error\n",
    "#dataset = dataset.iloc[0:1000,:]\n",
    "\n",
    "# define predictors and target\n",
    "predictor   =  model_config['meta']['predictors']\n",
    "target = model_config['meta']['target']"
   ]
  },
  {
   "cell_type": "code",
   "execution_count": null,
   "id": "a7499a3b",
   "metadata": {},
   "outputs": [],
   "source": [
    "# prepare data\n",
    "X = dataset[predictor]\n",
    "y = dataset[target]\n",
    "print('X Shape:', X.shape)\n",
    "print('y Shape:', y.shape)\n",
    "   \n",
    "# Train/Test split\n",
    "X_train, X_test, y_train, y_test = train_test_split(X, y, test_size = model_config['parameter']['test_size'], \n",
    "                                                    random_state = 42)\n",
    "\n",
    "print('X_train, X_test, y_train, y_test shapes:', X_train.shape, X_test.shape, y_train.shape, y_test.shape)\n",
    "print(\"size of training dataset = \", len(X_train))\n",
    "print(\"size of test dataset = \", len(X_test))"
   ]
  },
  {
   "cell_type": "markdown",
   "id": "43856420",
   "metadata": {},
   "source": [
    "## Training"
   ]
  },
  {
   "cell_type": "markdown",
   "id": "e9cdb3fc",
   "metadata": {},
   "source": [
    "### Prepare model tuning"
   ]
  },
  {
   "cell_type": "code",
   "execution_count": null,
   "id": "4f67df33",
   "metadata": {},
   "outputs": [],
   "source": [
    "from sklearn.metrics import make_scorer\n",
    "\n",
    "# customized evaluation function for CV\n",
    "# Focusing on the predictions that are below .3\n",
    "def custom_eval_metric(y_true, y_pred):\n",
    "    errors_low = abs(y_true.iloc[y_pred<0.8,0].to_numpy() - y_pred[y_pred<0.8])\n",
    "    return np.mean(errors_low)\n",
    "\n",
    "custom_scorer = make_scorer(custom_eval_metric, greater_is_better = False)"
   ]
  },
  {
   "cell_type": "code",
   "execution_count": null,
   "id": "9b4720f6",
   "metadata": {},
   "outputs": [],
   "source": [
    "# create inner and outer cross-validation sets\n",
    "inner_cv = KFold(n_splits = model_config['parameter']['inner_cv'], shuffle=True)\n",
    "\n",
    "# define parameter grid\n",
    "parameters = {\"boosting_type\": model_config['parameter']['lightgbm']['boosting_type'],\"max_depth\": model_config['parameter']['lightgbm']['max_depth'],\n",
    "              \"learning_rate\": model_config['parameter']['lightgbm']['learning_rate'],\n",
    "              \"n_estimators\": model_config['parameter']['lightgbm']['n_estimators']}\n",
    "\n",
    "# define model class to use\n",
    "model = lightgbm.LGBMRegressor(random_state = 42)\n",
    "\n",
    "# define grid search\n",
    "search = RandomizedSearchCV(model, \n",
    "                            parameters, \n",
    "                            cv = 2, \n",
    "                            random_state = 42, \n",
    "                            verbose = 2, \n",
    "                            n_iter = 3,\n",
    "                            scoring = custom_scorer)"
   ]
  },
  {
   "cell_type": "markdown",
   "id": "560a7217",
   "metadata": {},
   "source": [
    "### Model tuning"
   ]
  },
  {
   "cell_type": "code",
   "execution_count": null,
   "id": "02abd470",
   "metadata": {},
   "outputs": [],
   "source": [
    "# find best parameters\n",
    "search.fit(X_train, y_train)"
   ]
  },
  {
   "cell_type": "markdown",
   "id": "569f4c72",
   "metadata": {
    "collapsed": true
   },
   "source": [
    "### Tuning results"
   ]
  },
  {
   "cell_type": "code",
   "execution_count": null,
   "id": "ab32b92f",
   "metadata": {},
   "outputs": [],
   "source": [
    "# all results\n",
    "print(search.cv_results_)\n",
    "# best results\n",
    "best_parameter = search.best_params_\n",
    "print(best_parameter)"
   ]
  },
  {
   "cell_type": "markdown",
   "id": "62fceed1",
   "metadata": {},
   "source": [
    "### Fit model with best parameters"
   ]
  },
  {
   "cell_type": "code",
   "execution_count": null,
   "id": "38272be1",
   "metadata": {},
   "outputs": [],
   "source": [
    "# define model class to use\n",
    "model = lightgbm.LGBMRegressor(random_state = 42, boosting_type = best_parameter['boosting_type'],\n",
    "                              n_estimators = best_parameter['n_estimators'],\n",
    "                              max_depth = best_parameter['max_depth'],\n",
    "                              learning_rate = best_parameter['learning_rate'])\n",
    "\n",
    "# find best parameters\n",
    "model.fit(X_train, y_train)"
   ]
  },
  {
   "cell_type": "markdown",
   "id": "c7176033",
   "metadata": {},
   "source": [
    "## Evaluation"
   ]
  },
  {
   "cell_type": "code",
   "execution_count": null,
   "id": "9032ffc0",
   "metadata": {},
   "outputs": [],
   "source": [
    "# predict holdout\n",
    "pred = search.predict(X_test)\n",
    "\n",
    "# mean absolute error as KPI\n",
    "errors = abs(pred - y_test.iloc[:,0].to_numpy())\n",
    "avg_error = np.mean(errors)\n",
    "print('MAE:', np.round(avg_error, 3))"
   ]
  },
  {
   "cell_type": "code",
   "execution_count": null,
   "id": "c2ee5964",
   "metadata": {},
   "outputs": [],
   "source": [
    "y = y_test.iloc[:,0].to_numpy()\n",
    "y_pred = pred\n",
    "\n",
    "fig = px.scatter(x=y, y=y_pred, labels={'x': 'ground truth', 'y': 'prediction'}, \n",
    "                 title = 'Comparison between predictions and reality',\n",
    "                 template = 'plotly_dark')\n",
    "fig.update_traces(marker=dict(size=3, \n",
    "                              color=((abs(y-y_pred) < 0.15).astype('int')),\n",
    "                              colorscale=[[0, '#FAED27'],[1, '#98FB98']])\n",
    "                             )\n",
    "fig.add_shape(\n",
    "    type=\"line\", line=dict(dash='dash'),\n",
    "    x0=y.min(), y0=y.min(),\n",
    "    x1=y.max(), y1=y.max()\n",
    ")\n",
    "fig.show()"
   ]
  },
  {
   "cell_type": "code",
   "execution_count": null,
   "id": "db32f127",
   "metadata": {},
   "outputs": [],
   "source": [
    "res_df = pd.DataFrame()\n",
    "res_df['prediction'] = y_pred\n",
    "res_df['ground truth'] = y\n",
    "#res_df['train'] = y_train\n",
    "res_df['residual'] = (pred - y_test.iloc[:,0].to_numpy())\n",
    "fig = px.scatter(\n",
    "    res_df, x='ground truth', y='residual',\n",
    "    #marginal_y='violin',\n",
    "    trendline='ols', template = 'plotly_dark',\n",
    "    title = 'Comparison between residuals and reality'\n",
    ")\n",
    "fig.update_traces(marker=dict(size=3, \n",
    "                              color=((abs(res_df.residual) < 0.15).astype('int')),\n",
    "                              colorscale=[[0, '#FAED27'],[1, '#98FB98']])\n",
    "                             )\n",
    "fig.show()"
   ]
  },
  {
   "cell_type": "code",
   "execution_count": null,
   "id": "2483b0d9",
   "metadata": {},
   "outputs": [],
   "source": [
    "fig = px.scatter(\n",
    "    res_df, x='prediction', y='residual',\n",
    "    #marginal_y='violin',\n",
    "    trendline='ols', template = 'plotly_dark',\n",
    "    title = 'Comparison between residuals and predictions'\n",
    ")\n",
    "fig.update_traces(marker=dict(size=3, \n",
    "                              color=((abs(res_df.residual) < 0.15).astype('int')),\n",
    "                              colorscale=[[0, '#FAED27'],[1, '#98FB98']])\n",
    "                             )\n",
    "fig.show()"
   ]
  },
  {
   "cell_type": "code",
   "execution_count": null,
   "id": "1e9cfb4c",
   "metadata": {},
   "outputs": [],
   "source": [
    "online_pop = [pred, y_test.iloc[:,0].to_numpy()]\n",
    "labels = ['predictions', 'reality']\n",
    "         \n",
    "fig = ff.create_distplot(online_pop, labels, show_hist = False)\n",
    "fig.layout.update({'title':'Comparison of distributions of reality and predictions',\n",
    "                   'title_font_color':'white',\n",
    "                   'legend_bgcolor':'#545454',\n",
    "                   'font_color':'white',\n",
    "                   'plot_bgcolor':'#545454',\n",
    "                   'paper_bgcolor':'#2a2a2a',\n",
    "                   'yaxis':{'gridcolor':'#2a2a2a', 'zerolinecolor':'#2a2a2a'},\n",
    "                   'xaxis':{'gridcolor':'#2a2a2a'}\n",
    "                   })\n",
    "fig.show()"
   ]
  },
  {
   "cell_type": "code",
   "execution_count": null,
   "id": "97078496",
   "metadata": {},
   "outputs": [],
   "source": [
    "lightgbm.plot_importance(model)"
   ]
  }
 ],
 "metadata": {
  "kernelspec": {
   "display_name": "Python 3",
   "language": "python",
   "name": "python3"
  },
  "language_info": {
   "codemirror_mode": {
    "name": "ipython",
    "version": 3
   },
   "file_extension": ".py",
   "mimetype": "text/x-python",
   "name": "python",
   "nbconvert_exporter": "python",
   "pygments_lexer": "ipython3",
   "version": "3.7.2"
  },
  "varInspector": {
   "cols": {
    "lenName": 16,
    "lenType": 16,
    "lenVar": 40
   },
   "kernels_config": {
    "python": {
     "delete_cmd_postfix": "",
     "delete_cmd_prefix": "del ",
     "library": "var_list.py",
     "varRefreshCmd": "print(var_dic_list())"
    },
    "r": {
     "delete_cmd_postfix": ") ",
     "delete_cmd_prefix": "rm(",
     "library": "var_list.r",
     "varRefreshCmd": "cat(var_dic_list()) "
    }
   },
   "types_to_exclude": [
    "module",
    "function",
    "builtin_function_or_method",
    "instance",
    "_Feature"
   ],
   "window_display": false
  }
 },
 "nbformat": 4,
 "nbformat_minor": 5
}
