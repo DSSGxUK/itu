{
 "cells": [
  {
   "cell_type": "code",
   "execution_count": null,
   "id": "7b317c8f",
   "metadata": {},
   "outputs": [],
   "source": [
    "import numpy as np\n",
    "import pandas as pd\n",
    "import yaml\n",
    "import matplotlib.pyplot as plt\n",
    "from matplotlib.cm import ScalarMappable\n",
    "import matplotlib.ticker as mtick\n",
    "import plotly.express as px\n",
    "import plotly.graph_objects as go\n",
    "import plotly.figure_factory as ff\n",
    "import seaborn as sns\n",
    "import warnings\n",
    "import math\n",
    "import geopandas as gp\n",
    "import random\n",
    "import zipfile\n",
    "from io import StringIO\n",
    "from urllib.request import urlopen\n",
    "from datetime import datetime\n",
    "from shapely.geometry import Point\n",
    "from adjustText import adjust_text\n",
    "import glob\n",
    "import os\n",
    "pd.options.mode.chained_assignment = None\n",
    "pd.set_option('display.float_format', lambda x: '%.3f' % x)\n",
    "random.seed(1234)\n",
    "mapbox_access_token = 'pk.eyJ1IjoidXRrdWNhbm96dHVyayIsImEiOiJja3F0Njdka28wNHkyMnZwOGs2OGV3aW81In0.HRXxTxlUy1C6DGfkTmNjOQ'\n",
    "px.set_mapbox_access_token(mapbox_access_token)\n",
    "import sys\n",
    "sys.path.append('YOURPATH/DSSGx_ITU/src/scripts/map_offline')\n",
    "from feature_engineering import configs"
   ]
  },
  {
   "cell_type": "code",
   "execution_count": null,
   "id": "39c2755a",
   "metadata": {},
   "outputs": [],
   "source": [
    "# get training set dir\n",
    "ts_dir = '../data/training_sets/' + configs.COUNTRY.title() + '/'\n",
    "\n",
    "# get file name with the latest version\n",
    "#file_name = sorted(os.listdir(ts_dir))[-1]\n",
    "file_name = 'training_set_v001.csv'\n",
    "\n",
    "# read data\n",
    "df = pd.read_csv(ts_dir + file_name)\n",
    "df.head(1)"
   ]
  },
  {
   "cell_type": "code",
   "execution_count": null,
   "id": "91b6aecc",
   "metadata": {},
   "outputs": [],
   "source": [
    "#Reading in the training dictionary\n",
    "dic = pd.read_excel('../data/meta/training_dict_' + configs.COUNTRY_CODE.lower() + '.xlsx', engine = 'openpyxl')\n",
    "dic.head()"
   ]
  },
  {
   "cell_type": "code",
   "execution_count": null,
   "id": "45f0bb1c",
   "metadata": {},
   "outputs": [],
   "source": [
    "#Making everything a numerical or categorial variable\n",
    "num = dic.loc[dic.type == 'num', 'name'].values.tolist()\n",
    "cat = dic.loc[dic.type == 'cat', 'name'].values.tolist()\n",
    "geo = dic.loc[dic.type == 'geo', 'name'].values.tolist()\n",
    "target = dic.loc[dic.role == 'target', 'name'].values[0]\n",
    "df['target_cat'] = ['not connected' if i<.3 else 'connected' for i in df[target]]\n",
    "df_num = df[num]\n",
    "df_cat = df[cat]\n",
    "imp_feature =['estimate_mau', 'mean_avg_rad', 'mean_ghm', 'mean_cf_cvg']"
   ]
  },
  {
   "cell_type": "code",
   "execution_count": null,
   "id": "422d59b7",
   "metadata": {},
   "outputs": [],
   "source": [
    "for i in cat:\n",
    "    df[i] = pd.Categorical(df[i])"
   ]
  },
  {
   "cell_type": "code",
   "execution_count": null,
   "id": "3252b338",
   "metadata": {},
   "outputs": [],
   "source": [
    "#Overall statistics for each variable\n",
    "df.describe()"
   ]
  },
  {
   "cell_type": "code",
   "execution_count": null,
   "id": "d7c6b004",
   "metadata": {},
   "outputs": [],
   "source": [
    "#For categorical variables\n",
    "for c in cat:\n",
    "    print(c + ':\\n')\n",
    "    print(df[c].value_counts())"
   ]
  },
  {
   "cell_type": "markdown",
   "id": "fb174da8",
   "metadata": {},
   "source": [
    "## Correlations\n",
    "Here we see strong correlations between global human modification and average radiance as well as within the change by year and month and slope by year and month of average radiance and cloud free coverage. For this reason, we took out some of the predictors within our model so that we wouldn't have high negative or positive correlations."
   ]
  },
  {
   "cell_type": "code",
   "execution_count": null,
   "id": "b1fa315e",
   "metadata": {},
   "outputs": [],
   "source": [
    "#Making correlations plot\n",
    "fig, ax = plt.subplots(figsize=(15,15))\n",
    "ax = sns.heatmap(df_num.corr(), vmax=1.0, vmin=-1.0, center=0, cmap='RdBu_r', square=True, \n",
    "                 fmt='.1f', linewidths=.5, cbar_kws={\"shrink\": .5}, annot_kws={\"fontsize\":10});\n",
    "ax.set_title('Correlation between Variables',size=14);\n",
    "ax.tick_params(bottom=False, left=False)\n",
    "for location in ['left', 'right', 'bottom', 'top']:\n",
    "    ax.spines[location].set_visible(False)"
   ]
  },
  {
   "cell_type": "markdown",
   "id": "f267e65f",
   "metadata": {},
   "source": [
    "## Now we see correlation with the variables of highest correlation. \n",
    "The top predictors are all variables within the model like average radiance, Facebook users and slopes of average radiance as well as global human modification. This later provides a good check on our feature importance. "
   ]
  },
  {
   "cell_type": "code",
   "execution_count": null,
   "id": "cb22a341",
   "metadata": {},
   "outputs": [],
   "source": [
    "corr_pairs=df[num + cat].corr().unstack()\n",
    "\n",
    "sorted_pairs = corr_pairs.sort_values(kind=\"quicksort\")\n",
    "strong_pairs = sorted_pairs[(sorted_pairs!=1) & (abs(sorted_pairs) > 0.8)]\n",
    "\n",
    "strong_vars = [i[1] for i in strong_pairs.index] # getting variable names\n",
    "strong_vars = list( dict.fromkeys(strong_vars) ) # removing duplicates\n",
    "\n",
    "df_strong = df[strong_vars]\n",
    "df_strong_corr= df_strong.corr()\n",
    "\n",
    "mask = np.zeros_like(df_strong_corr, dtype=np.bool)\n",
    "mask[np.triu_indices_from(mask)] = True\n",
    "\n",
    "fig ,ax = plt.subplots(figsize=(13,10))\n",
    "\n",
    "sns.heatmap(df_strong_corr, mask=mask, annot=True, vmax=1.0, vmin=-1.0, fmt='.1f', center=0, cmap='RdBu_r', \n",
    "            square=True, linewidths=.5, annot_kws={\"fontsize\":10})\n",
    "\n",
    "plt.title('Correlation between Strongly Correlated Pairs',size=14)\n",
    "\n",
    "#ax.invert_yaxis()\n",
    "\n",
    "ax.tick_params(bottom=False, left=False)\n",
    "for location in ['left', 'right', 'bottom', 'top']:\n",
    "    ax.spines[location].set_visible(False)"
   ]
  },
  {
   "cell_type": "markdown",
   "id": "e25a0e74",
   "metadata": {},
   "source": [
    "## Correlations with the Target\n",
    "Mean global human modification has the highest correlation followed by average radiance"
   ]
  },
  {
   "cell_type": "code",
   "execution_count": null,
   "id": "c62ed659",
   "metadata": {},
   "outputs": [],
   "source": [
    "# Label encode the categorical variables\n",
    "df_labelencoded = df.copy()\n",
    "\n",
    "for i in cat:\n",
    "    df_labelencoded[i] = df_labelencoded[i].cat.codes\n",
    "\n",
    "corr_mat = df_labelencoded.corr().stack().reset_index(name=\"correlation\")\n",
    "corr_target=corr_mat[corr_mat['level_0']==target][1:]\n",
    "corr_target=corr_target.reindex(corr_target.correlation.abs().sort_values().index)\n",
    "corr_target = corr_target[:-1]\n",
    "\n",
    "sns.set_theme(style=\"white\", context=\"talk\")\n",
    "\n",
    "# Set up the matplotlib figure\n",
    "fig, ax = plt.subplots(figsize=(20, 10))\n",
    "\n",
    "data_color = corr_target['correlation'].apply(abs).tolist()\n",
    "#data_color_2 = [x / max(data_color) for x in data_color]\n",
    "\n",
    "my_cmap = plt.cm.get_cmap('Reds')\n",
    "\n",
    "sm = ScalarMappable(cmap=my_cmap, norm=plt.Normalize(0,1))\n",
    "sm.set_array([])\n",
    "\n",
    "plt.xticks(rotation=90)\n",
    "ax.axhline(0, color=\"k\", clip_on=False)\n",
    "ax.set_ylim([-1,1])\n",
    "ax.set_ylabel(\"Correlation\", size=16);\n",
    "plt.title('Correlation between Predictors and the Target Variable')\n",
    "\n",
    "colors = my_cmap(data_color)\n",
    "rects = ax.bar(corr_target['level_1'],corr_target['correlation'], color=colors)\n",
    "\n",
    "for p in ax.patches:\n",
    "    if p.get_height() > 0:\n",
    "        h = p.get_height()+.01\n",
    "    else:\n",
    "        h = p.get_height()-.06\n",
    "        \n",
    "    ax.annotate(str('%.2f' % p.get_height()), (p.get_x()+.15, h), fontsize = 10)\n",
    "\n",
    "ax.tick_params(bottom=False, left=False)\n",
    "for location in ['right', 'top']:\n",
    "    ax.spines[location].set_visible(False)\n",
    "\n",
    "cbar = plt.colorbar(sm)\n",
    "cbar.set_label('Absolute Correlation Coefficient', rotation=270,labelpad=25)"
   ]
  },
  {
   "cell_type": "markdown",
   "id": "d4662832",
   "metadata": {},
   "source": [
    "## Visualizing Distributions\n",
    "##### Important disclaimer: The following plot categorizes our target variable into connected and not connected to the internet for the purposes of the plots below. As the problem we are solving is a regression problem, we are less concerned with the class imbalance that might look to be taking place here.  Currently, connected means above our 30% threshold and unconnected means below our 30% internet connectivity threshold but this may be adjusted for another country and their needs. "
   ]
  },
  {
   "cell_type": "code",
   "execution_count": null,
   "id": "6b6811c7",
   "metadata": {},
   "outputs": [],
   "source": [
    "sns.set_theme(style=\"white\", context=\"talk\")\n",
    "fig, ax = plt.subplots(figsize=(10,7))\n",
    "sns.histplot(df,x='target_cat',stat='density', shrink=.5, fill=True, color='r');\n",
    "plt.ylabel('Density of class label',size=16);\n",
    "plt.xlabel('Class Label',size=16);\n",
    "plt.title('Target Variable Counts',size=18);\n",
    "for p in ax.patches:\n",
    "    h = p.get_height()+.005\n",
    "    plt.annotate(str('%.2f' % p.get_height()), (p.get_x()+.2, h), color='k');"
   ]
  },
  {
   "cell_type": "code",
   "execution_count": null,
   "id": "fdb4c1ae",
   "metadata": {},
   "outputs": [],
   "source": [
    "#Seeing the histograms for each predictor\n",
    "#cloud free coverage and mean NDVI have very normal distributions while population and ghm skew left and right respectively.\n",
    "df_num.hist(figsize=(16, 20), bins=50, xlabelsize=8, ylabelsize=8);"
   ]
  },
  {
   "cell_type": "markdown",
   "id": "15bad2ca",
   "metadata": {},
   "source": [
    "### Categorical dist"
   ]
  },
  {
   "cell_type": "code",
   "execution_count": null,
   "id": "242a4088",
   "metadata": {},
   "outputs": [],
   "source": [
    "if len(cat) == 0:\n",
    "        pass\n",
    "else:\n",
    "    fig, axes = plt.subplots(round(len(cat) / 3), 3, figsize=(12, 30))\n",
    "    for i, ax in enumerate(fig.axes):\n",
    "        if i < len(cat):\n",
    "            ax.set_xticklabels(ax.xaxis.get_majorticklabels(), rotation=45)\n",
    "            sns.countplot(x=cat[i], alpha=0.7, data=df_cat, ax=ax)\n",
    "\n",
    "fig.tight_layout()"
   ]
  },
  {
   "cell_type": "markdown",
   "id": "46692f38",
   "metadata": {},
   "source": [
    "## Important variables vs. Target"
   ]
  },
  {
   "cell_type": "code",
   "execution_count": null,
   "id": "c2addcb4",
   "metadata": {},
   "outputs": [],
   "source": [
    "#Here we see the probability of connected rises when the mean ghm also rises\n",
    "plt.figure(figsize=(15,6))\n",
    "sns.histplot(df, x='mean_ghm', hue='target_cat', element='poly', stat='probability');"
   ]
  },
  {
   "cell_type": "code",
   "execution_count": null,
   "id": "ad713b77",
   "metadata": {},
   "outputs": [],
   "source": [
    "sns.set_theme(style=\"white\", context=\"talk\")\n",
    "sns.pairplot(df[imp_feature + ['target_cat']],hue='target_cat',markers=[\"o\", \"s\"], palette=\"Set2\");"
   ]
  },
  {
   "cell_type": "code",
   "execution_count": null,
   "id": "1a90e0b1",
   "metadata": {},
   "outputs": [],
   "source": [
    "df_norm = df[['target_cat']+imp_feature]\n",
    "for i in imp_feature:\n",
    "    df_norm[i] = (df_norm[i]-df_norm[i].min())/(df_norm[i].max()-df_norm[i].min())\n",
    "    \n",
    "df_mean=df_norm.groupby('target_cat').mean().stack().reset_index(name='mean')\n",
    "df_mean.rename(columns={'level_1':'imp_var'},inplace=True)\n",
    "df_mean=df_mean.pivot(index='imp_var', columns='target_cat', values='mean')\n",
    "\n",
    "\n",
    "df_mean2=pd.DataFrame({'connected':df_mean.connected, 'nonconnected':df_mean['not connected'], 'total':df_mean.connected+df_mean['not connected']})\n",
    "df_mean2.sort_values(by='total',ascending=False, inplace=True)\n",
    "df_mean2.reset_index(inplace=True)"
   ]
  },
  {
   "cell_type": "code",
   "execution_count": null,
   "id": "e4c24797",
   "metadata": {},
   "outputs": [],
   "source": [
    "fig, ax = plt.subplots(figsize=(20, 10))\n",
    "width = 0.35\n",
    "\n",
    "x = np.arange(len(df_mean2.imp_var.tolist()))\n",
    "xt=df_mean2.imp_var.tolist()\n",
    "sns.set_color_codes(\"pastel\")\n",
    "p1=ax.bar(x-width/2, df_mean2.nonconnected, width, color=\"#99B1B6\")\n",
    "sns.set_color_codes(\"muted\")\n",
    "p2=ax.bar(x+width/2,df_mean2.connected,width, color=\"#0F626C\")\n",
    "\n",
    "plt.xticks(x, xt);\n",
    "plt.ylabel('Average of variable quantile as percentage')\n",
    "plt.xlabel('Variable Name')\n",
    "plt.title('Average of variable quantiles between connectivity classes')\n",
    "plt.legend((p1[0], p2[0]), ('<30% connected', 'Connected'));\n",
    "\n",
    "fmt = '%.1f%%' \n",
    "yticks = mtick.FormatStrFormatter(fmt)\n",
    "ax.yaxis.set_major_formatter(yticks)"
   ]
  },
  {
   "cell_type": "code",
   "execution_count": null,
   "id": "b339edc9",
   "metadata": {},
   "outputs": [],
   "source": [
    "df_mean2"
   ]
  },
  {
   "cell_type": "code",
   "execution_count": null,
   "id": "db7c482d",
   "metadata": {},
   "outputs": [],
   "source": [
    "fig = px.scatter(df, x=\"target\", y=\"mean_ghm\", color=\"target_cat\", marginal_y=\"violin\",\n",
    "           marginal_x=\"box\", trendline=\"ols\", template=\"simple_white\")\n",
    "fig.show()"
   ]
  },
  {
   "cell_type": "code",
   "execution_count": null,
   "id": "364239c5",
   "metadata": {},
   "outputs": [],
   "source": [
    "df_sum = df[['target_cat']+imp_feature]\n",
    "for i in imp_feature:\n",
    "    df_sum[i] = (df_sum[i]-df_sum[i].min())/(df_sum[i].max()-df_sum[i].min())"
   ]
  },
  {
   "cell_type": "code",
   "execution_count": null,
   "id": "19baf824",
   "metadata": {},
   "outputs": [],
   "source": [
    "fig = px.scatter_matrix(df, dimensions=imp_feature, color=\"target_cat\")\n",
    "fig.show()"
   ]
  },
  {
   "cell_type": "code",
   "execution_count": null,
   "id": "5cdff1a2",
   "metadata": {},
   "outputs": [],
   "source": [
    "for i in imp_feature:\n",
    "    fig = px.scatter(df, x=i, y=target, size=\"population\", color ='target_cat', log_x=True, size_max=13)\n",
    "    fig.show()"
   ]
  },
  {
   "cell_type": "code",
   "execution_count": null,
   "id": "7279a0d0",
   "metadata": {},
   "outputs": [],
   "source": [
    "for i in imp_feature:\n",
    "    fig = px.box(df, y=i, color=\"target_cat\", notched=True)\n",
    "    fig.show()"
   ]
  },
  {
   "cell_type": "markdown",
   "id": "b82b509e",
   "metadata": {},
   "source": [
    "## Geo Visualizations"
   ]
  },
  {
   "cell_type": "code",
   "execution_count": null,
   "id": "46467dc1",
   "metadata": {},
   "outputs": [],
   "source": [
    "for i in imp_feature:\n",
    "    print(i + ':\\n')\n",
    "    fig = go.Figure(go.Scattermapbox(\n",
    "            lat=df.latitude,\n",
    "            lon=df.longitude,\n",
    "            mode='markers',\n",
    "            marker=go.scattermapbox.Marker(\n",
    "                size=3, color=df[i],\n",
    "                showscale=True,\n",
    "                colorscale=px.colors.diverging.RdYlGn,\n",
    "            ),\n",
    "            text=['Montreal'],\n",
    "        ))\n",
    "\n",
    "    fig.update_layout(\n",
    "        hovermode='closest',\n",
    "        mapbox=dict(\n",
    "            accesstoken=mapbox_access_token,\n",
    "            style='dark',\n",
    "            center = {\"lat\": df.latitude.mean(), \"lon\": df.longitude.mean()},\n",
    "            bearing=0,\n",
    "            pitch=0,\n",
    "            zoom=3,\n",
    "        )\n",
    "    )\n",
    "\n",
    "    fig.show()"
   ]
  }
 ],
 "metadata": {
  "interpreter": {
   "hash": "9032b3f45ccaea82bd424b811a38640fbb98cc82813f6c031d2c072779b2e7a3"
  },
  "kernelspec": {
   "display_name": "Python 3",
   "language": "python",
   "name": "python3"
  },
  "language_info": {
   "codemirror_mode": {
    "name": "ipython",
    "version": 3
   },
   "file_extension": ".py",
   "mimetype": "text/x-python",
   "name": "python",
   "nbconvert_exporter": "python",
   "pygments_lexer": "ipython3",
   "version": "3.7.2"
  },
  "varInspector": {
   "cols": {
    "lenName": 16,
    "lenType": 16,
    "lenVar": 40
   },
   "kernels_config": {
    "python": {
     "delete_cmd_postfix": "",
     "delete_cmd_prefix": "del ",
     "library": "var_list.py",
     "varRefreshCmd": "print(var_dic_list())"
    },
    "r": {
     "delete_cmd_postfix": ") ",
     "delete_cmd_prefix": "rm(",
     "library": "var_list.r",
     "varRefreshCmd": "cat(var_dic_list()) "
    }
   },
   "types_to_exclude": [
    "module",
    "function",
    "builtin_function_or_method",
    "instance",
    "_Feature"
   ],
   "window_display": false
  }
 },
 "nbformat": 4,
 "nbformat_minor": 5
}
