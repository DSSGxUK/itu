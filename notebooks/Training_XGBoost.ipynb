{
 "cells": [
  {
   "cell_type": "code",
   "execution_count": null,
   "id": "1e0d9eee",
   "metadata": {},
   "outputs": [],
   "source": [
    "# load libraries\n",
    "import yaml\n",
    "import xgboost as xgb\n",
    "import pandas as pd\n",
    "import numpy as np\n",
    "import plotly.figure_factory as ff\n",
    "import plotly.express as px\n",
    "from sklearn.model_selection import train_test_split, KFold, GridSearchCV, RandomizedSearchCV\n",
    "from sklearn.metrics import accuracy_score"
   ]
  },
  {
   "cell_type": "code",
   "execution_count": null,
   "id": "1d2e95cf",
   "metadata": {},
   "outputs": [],
   "source": [
    "# read in (yaml) configs\n",
    "with open('../conf/model_config.yaml', 'r') as conf:\n",
    "    model_config = yaml.safe_load(conf)\n",
    "\n",
    "# import data\n",
    "dataset = '../' + model_config['model']['loc'] + model_config['model']['file']\n",
    "dataset = pd.read_csv(dataset)\n",
    "# subset for faster trial and error\n",
    "#dataset = dataset.iloc[0:1000,:]\n",
    "\n",
    "# define predictors and target\n",
    "predictor = model_config['meta']['predictors']\n",
    "target = model_config['meta']['target']"
   ]
  },
  {
   "cell_type": "code",
   "execution_count": null,
   "id": "66ec0a00",
   "metadata": {},
   "outputs": [],
   "source": [
    "dataset.columns"
   ]
  },
  {
   "cell_type": "code",
   "execution_count": null,
   "id": "ac63c92f",
   "metadata": {},
   "outputs": [],
   "source": [
    "# prepare data\n",
    "X = dataset[predictor]\n",
    "y = dataset[target]\n",
    "print('X Shape:', X.shape)\n",
    "print('y Shape:', y.shape)\n",
    "   \n",
    "# Train/Test split\n",
    "X_train, X_test, y_train, y_test = train_test_split(X, y, test_size = model_config['parameter']['test_size'], \n",
    "                                                    random_state = 42)\n",
    "\n",
    "print('X_train, X_test, y_train, y_test shapes:', X_train.shape, X_test.shape, y_train.shape, y_test.shape)\n",
    "print(\"size of training dataset = \", len(X_train))\n",
    "print(\"size of test dataset = \", len(X_test))"
   ]
  },
  {
   "cell_type": "code",
   "execution_count": null,
   "id": "9485b190",
   "metadata": {},
   "outputs": [],
   "source": [
    "from sklearn.metrics import make_scorer\n",
    "\n",
    "# customized evaluation function for CV\n",
    "# Focusing on the predictions that are below .3\n",
    "def custom_eval_metric(y_true, y_pred):\n",
    "    errors_low=abs(y_pred[y_pred<model_config['parameter']['threshold']] - np.asarray(y_true[y_pred<model_config['parameter']['threshold']]).flatten())\n",
    "    return np.mean(errors_low)\n",
    "\n",
    "custom_scorer = make_scorer(custom_eval_metric, greater_is_better = False)"
   ]
  },
  {
   "cell_type": "code",
   "execution_count": null,
   "id": "c4c9907f",
   "metadata": {},
   "outputs": [],
   "source": [
    "# configure cv\n",
    "cv_inner = KFold(n_splits = 3, shuffle=True, random_state=123)\n",
    "\n",
    "# define parameter space\n",
    "parameters = {\"n_estimators\": model_config['parameter']['XGBoost']['n_estimators'],\n",
    "                \"max_depth\": model_config['parameter']['XGBoost']['max_depth'],\n",
    "                \"eta\": model_config['parameter']['XGBoost']['eta'] }\n",
    "\n",
    "# define the model\n",
    "model = xgb.XGBRegressor(random_state = 1234)\n",
    "\n",
    "# define grid search\n",
    "#search = GridSearchCV(model, parameters, scoring = custom_scorer, cv = cv_inner, refit = True, verbose = 2)\n",
    "# define grid search\n",
    "search = RandomizedSearchCV(model, parameters, scoring = custom_scorer, cv = cv_inner, refit = True, verbose = 2, n_iter=model_config['parameter']['iterations'])\n",
    "\n",
    "# execute search\n",
    "result = search.fit(X_train, y_train)\n",
    "\n",
    "# get best perf model\n",
    "best_model = result.best_estimator_\n",
    "\n",
    "# evaluate the model\n",
    "#acc = accuracy_score(y_test, yhat)\n",
    "\n",
    "# store the result\n",
    "#outer_results.append(acc)\n",
    "\n",
    "# report progress\n",
    "print('est=%.3f, cfg=%s' % (result.best_score_, result.best_params_))\n",
    "\n",
    "#print('Accuracy: %.3f (%.3f)' % (np.mean(outer_results), np.std(outer_results)))"
   ]
  },
  {
   "cell_type": "code",
   "execution_count": null,
   "id": "44ae032f",
   "metadata": {},
   "outputs": [],
   "source": [
    "# best results\n",
    "best_parameter = search.best_params_\n",
    "print(best_parameter)"
   ]
  },
  {
   "cell_type": "code",
   "execution_count": null,
   "id": "a2a1ce21",
   "metadata": {},
   "outputs": [],
   "source": [
    "# choose best parameter from tuning\n",
    "best_parameter = search.best_params_\n",
    "\n",
    "print(\"#####################################################\")\n",
    "print(\"choose best parameter from tuning: \", best_parameter)\n",
    "print(\"#####################################################\")\n",
    "\n",
    "model = xgb.XGBRegressor(random_state = 42, n_estimators = best_parameter['n_estimators'],\n",
    "                            max_depth = best_parameter['max_depth'],\n",
    "                              eta = best_parameter['eta'])\n",
    "\n",
    "# find best parameters\n",
    "model.fit(X_train, y_train)"
   ]
  },
  {
   "cell_type": "code",
   "execution_count": null,
   "id": "ce4adacf",
   "metadata": {},
   "outputs": [],
   "source": [
    "# predict holdout\n",
    "pred = model.predict(X_test)\n",
    "\n",
    "# mean absolute error as KPI\n",
    "errors = abs(pred - y_test.iloc[:,0].to_numpy())"
   ]
  },
  {
   "cell_type": "code",
   "execution_count": null,
   "id": "803297a9",
   "metadata": {},
   "outputs": [],
   "source": [
    "avg_error = np.mean(errors)\n",
    "\n",
    "#Low tail error\n",
    "errors_low = abs(pred[pred<model_config['parameter']['threshold']] - np.asarray(y_test[pred<model_config['parameter']['threshold']]).flatten())\n",
    "\n",
    "#Low tail error\n",
    "errors_low_ytest = abs(pred[np.asarray(y_test).flatten()<model_config['parameter']['threshold']] - np.asarray(y_test[np.asarray(y_test).flatten()<model_config['parameter']['threshold']]).flatten())\n",
    "\n",
    "#avg error\n",
    "avg_error_low = np.mean(errors_low)\n",
    "\n",
    "\n",
    "#avg error\n",
    "avg_error_low_ytest = np.mean(errors_low_ytest)\n",
    "\n",
    "#standard deviation\n",
    "stan_dev_low= np.std(errors_low)\n",
    "\n",
    "print('avg error: ', avg_error)\n",
    "print('Mean lower error: ', avg_error_low)\n",
    "print('Mean ytest lower error: ', avg_error_low_ytest)\n",
    "print('Standard Dev of Low Error: ', stan_dev_low)"
   ]
  },
  {
   "cell_type": "code",
   "execution_count": null,
   "id": "55b626c9",
   "metadata": {},
   "outputs": [],
   "source": [
    "y = y_test.iloc[:,0].to_numpy()\n",
    "y_pred = pred\n",
    "\n",
    "fig = px.scatter(x=y, y=y_pred, labels={'x': 'ground truth', 'y': 'prediction'}, \n",
    "                 title = 'Comparison between predictions and reality',\n",
    "                 template = 'plotly_dark')\n",
    "fig.update_traces(marker=dict(size=3, \n",
    "                              color=((abs(y-y_pred) < 0.15).astype('int')),\n",
    "                              \n",
    "                              colorscale=[[0, '#FAED27'],[1, '#98FB98']])\n",
    "                             )\n",
    "fig.add_shape(\n",
    "    type=\"line\", line=dict(dash='dash'),\n",
    "    x0=y.min(), y0=y.min(),\n",
    "    x1=y.max(), y1=y.max()\n",
    ")\n",
    "fig.show()"
   ]
  },
  {
   "cell_type": "code",
   "execution_count": null,
   "id": "6202de59",
   "metadata": {},
   "outputs": [],
   "source": [
    "y_pred"
   ]
  },
  {
   "cell_type": "code",
   "execution_count": null,
   "id": "318f5106",
   "metadata": {},
   "outputs": [],
   "source": [
    "importance = pd.DataFrame(\n",
    "    {\"Feature\": X.columns, \"Importance\": model.feature_importances_}\n",
    ").sort_values(\"Importance\")"
   ]
  },
  {
   "cell_type": "code",
   "execution_count": null,
   "id": "dc60a73b",
   "metadata": {},
   "outputs": [],
   "source": [
    "importance"
   ]
  },
  {
   "cell_type": "code",
   "execution_count": null,
   "id": "c0e55ba1",
   "metadata": {},
   "outputs": [],
   "source": [
    "import matplotlib.pyplot as plt\n",
    "fig,ax =plt.subplots(1, figsize=(14,6))\n",
    "\n",
    "# add a title and annotation\n",
    "ax.set_title('Feature Importances', fontdict={'fontsize': '13', 'fontweight' : '3'})\n",
    "\n",
    "(pd.Series(model.feature_importances_, index=X.columns)\n",
    "   .nsmallest(12).plot(kind='barh'))"
   ]
  }
 ],
 "metadata": {
  "kernelspec": {
   "display_name": "Python 3",
   "language": "python",
   "name": "python3"
  },
  "language_info": {
   "codemirror_mode": {
    "name": "ipython",
    "version": 3
   },
   "file_extension": ".py",
   "mimetype": "text/x-python",
   "name": "python",
   "nbconvert_exporter": "python",
   "pygments_lexer": "ipython3",
   "version": "3.7.2"
  },
  "varInspector": {
   "cols": {
    "lenName": 16,
    "lenType": 16,
    "lenVar": 40
   },
   "kernels_config": {
    "python": {
     "delete_cmd_postfix": "",
     "delete_cmd_prefix": "del ",
     "library": "var_list.py",
     "varRefreshCmd": "print(var_dic_list())"
    },
    "r": {
     "delete_cmd_postfix": ") ",
     "delete_cmd_prefix": "rm(",
     "library": "var_list.r",
     "varRefreshCmd": "cat(var_dic_list()) "
    }
   },
   "types_to_exclude": [
    "module",
    "function",
    "builtin_function_or_method",
    "instance",
    "_Feature"
   ],
   "window_display": false
  }
 },
 "nbformat": 4,
 "nbformat_minor": 5
}
