{
 "cells": [
  {
   "cell_type": "markdown",
   "id": "0733b627",
   "metadata": {},
   "source": [
    "#  Predicting the worlds offline population\n",
    "## First Model Training and Evaluation \n",
    "## (Random Forest on Brazil)"
   ]
  },
  {
   "cell_type": "code",
   "execution_count": null,
   "id": "ffcf0d81",
   "metadata": {},
   "outputs": [],
   "source": [
    "# load libraries\n",
    "import yaml\n",
    "import lightgbm\n",
    "import matplotlib.pyplot as plt\n",
    "import pandas as pd\n",
    "import geopandas\n",
    "import numpy as np\n",
    "import pickle\n",
    "import plotly.figure_factory as ff\n",
    "import seaborn as sns\n",
    "import plotly.express as px\n",
    "from sklearn.model_selection import train_test_split, KFold, RandomizedSearchCV, GridSearchCV\n",
    "from sklearn.ensemble import RandomForestRegressor"
   ]
  },
  {
   "cell_type": "markdown",
   "id": "76a8a133",
   "metadata": {},
   "source": [
    "### Load and prepare data"
   ]
  },
  {
   "cell_type": "code",
   "execution_count": null,
   "id": "e6607b52",
   "metadata": {},
   "outputs": [],
   "source": [
    "# read in (yaml) configs\n",
    "with open('..//conf/model_config.yaml', 'r') as conf:\n",
    "    model_config = yaml.safe_load(conf)\n",
    "    \n",
    "# import data\n",
    "dataset = '../' + model_config['model']['loc'] + model_config['model']['file']\n",
    "dataset = pd.read_csv(dataset)\n",
    "# subset for faster trial and error\n",
    "#dataset = dataset.iloc[0:1000,:]\n",
    "\n",
    "# define predictors and target\n",
    "predictor   =  model_config['meta']['predictors']\n",
    "target = model_config['meta']['target']"
   ]
  },
  {
   "cell_type": "code",
   "execution_count": null,
   "id": "b3753671",
   "metadata": {},
   "outputs": [],
   "source": [
    "#All the columns available\n",
    "dataset.columns"
   ]
  },
  {
   "cell_type": "code",
   "execution_count": null,
   "id": "9e8ec8ce",
   "metadata": {},
   "outputs": [],
   "source": [
    "#Let's peek at the data table\n",
    "dataset.head(n=3)"
   ]
  },
  {
   "cell_type": "code",
   "execution_count": null,
   "id": "026aeb95",
   "metadata": {},
   "outputs": [],
   "source": [
    "# prepare data\n",
    "X = dataset[predictor]\n",
    "y = dataset[target]\n",
    "print('X Shape:', X.shape)\n",
    "print('y Shape:', y.shape)\n",
    "   \n",
    "# Train/Test split\n",
    "X_train, X_test, y_train, y_test = train_test_split(X, y, test_size = model_config['parameter']['test_size'], \n",
    "                                                    random_state = 42)\n",
    "\n",
    "print('X_train, X_test, y_train, y_test shapes:', X_train.shape, X_test.shape, y_train.shape, y_test.shape)\n",
    "print(\"size of training dataset = \", len(X_train))\n",
    "print(\"size of test dataset = \", len(X_test))"
   ]
  },
  {
   "cell_type": "code",
   "execution_count": null,
   "id": "f47a6f3f",
   "metadata": {},
   "outputs": [],
   "source": [
    "sns.set(rc={'figure.figsize':(15,15)})\n",
    "\n",
    "sns.heatmap(\n",
    "    X.corr(), \n",
    "    cmap=\"coolwarm\", \n",
    "    annot=True, \n",
    "    vmin=-1, \n",
    "    vmax=1,\n",
    ")"
   ]
  },
  {
   "cell_type": "markdown",
   "id": "4401f009",
   "metadata": {},
   "source": [
    "## Training"
   ]
  },
  {
   "cell_type": "markdown",
   "id": "117458bb",
   "metadata": {},
   "source": [
    "### Prepare model tuning"
   ]
  },
  {
   "cell_type": "code",
   "execution_count": null,
   "id": "e30faa40",
   "metadata": {},
   "outputs": [],
   "source": [
    "# create inner and outer cross-validation sets\n",
    "inner_cv = KFold(n_splits = model_config['parameter']['inner_cv'], shuffle=True)\n",
    "\n",
    "# define parameter grid\n",
    "parameters = {\"n_estimators\":  model_config['parameter']['Random_Forest']['n_estimators'],\n",
    "              \"max_depth\": model_config['parameter']['Random_Forest']['n_estimators']}\n",
    "\n",
    "# define model class to use\n",
    "model = RandomForestRegressor(random_state=42)\n",
    "\n",
    "#Create custom scoring\n",
    "from sklearn.metrics import make_scorer\n",
    "\n",
    "def custom_eval_metric(y_true, y_pred):\n",
    "    #errors_low_ytest = abs(y_pred[np.asarray(y_true).flatten()<0.3] - np.asarray(y_true[np.asarray(y_true).flatten()<0.3]).flatten())\n",
    "    errors_low=abs(y_pred[y_pred<model_config['parameter']['threshold']] - np.asarray(y_true[y_pred<model_config['parameter']['threshold']]).flatten())\n",
    "    return np.mean(errors_low)\n",
    "    \n",
    "custom_scorer = make_scorer(custom_eval_metric, greater_is_better = False)\n",
    "\n",
    "## Can use either randomized or grid search, use gridsearch for now but randomized when you have a larger parameter space\n",
    "## define grid search\n",
    "# search = RandomizedSearchCV(model, parameters, cv = inner_cv, random_state = 42,\n",
    "# verbose = 2, n_iter = model_config['parameter']['iterations'],\n",
    "# scoring = custom_scorer)\n",
    "\n",
    "##define grid search\n",
    "search = GridSearchCV(model, parameters, scoring = custom_scorer, cv = inner_cv ,\n",
    "                            refit=True,\n",
    "                            verbose = 2)\n"
   ]
  },
  {
   "cell_type": "markdown",
   "id": "6d8346be",
   "metadata": {},
   "source": [
    "### Model tuning"
   ]
  },
  {
   "cell_type": "code",
   "execution_count": null,
   "id": "f24afbee",
   "metadata": {},
   "outputs": [],
   "source": [
    "# find best parameters\n",
    "search.fit(X_train, y_train.values.ravel())"
   ]
  },
  {
   "cell_type": "markdown",
   "id": "63a56622",
   "metadata": {
    "collapsed": true
   },
   "source": [
    "### Tuning results"
   ]
  },
  {
   "cell_type": "code",
   "execution_count": null,
   "id": "866d986e",
   "metadata": {},
   "outputs": [],
   "source": [
    "# all results\n",
    "search.cv_results_\n",
    "# best results\n",
    "best_parameter = search.best_params_\n",
    "print(best_parameter)"
   ]
  },
  {
   "cell_type": "code",
   "execution_count": null,
   "id": "71c128ff",
   "metadata": {
    "scrolled": true
   },
   "outputs": [],
   "source": [
    "print(search.cv_results_)"
   ]
  },
  {
   "cell_type": "code",
   "execution_count": null,
   "id": "32d978be",
   "metadata": {},
   "outputs": [],
   "source": [
    "print(search.best_score_)"
   ]
  },
  {
   "cell_type": "markdown",
   "id": "0f4c5513",
   "metadata": {},
   "source": [
    "### Fit model with best parameters"
   ]
  },
  {
   "cell_type": "code",
   "execution_count": null,
   "id": "0563106f",
   "metadata": {},
   "outputs": [],
   "source": [
    "# define model class to use\n",
    "model = RandomForestRegressor(random_state = 42,\n",
    "                               n_estimators = best_parameter['n_estimators'],\n",
    "                              max_depth = best_parameter['max_depth']\n",
    "                              )\n",
    "\n",
    "# find best parameters\n",
    "model.fit(X_train, y_train.values.ravel())"
   ]
  },
  {
   "cell_type": "code",
   "execution_count": null,
   "id": "2d326a59",
   "metadata": {},
   "outputs": [],
   "source": [
    "y_test.values.ravel()"
   ]
  },
  {
   "cell_type": "markdown",
   "id": "5607a44b",
   "metadata": {},
   "source": [
    "## Pickling the best model (also saved within mlflow as an artifact)"
   ]
  },
  {
   "cell_type": "code",
   "execution_count": null,
   "id": "8af2942a",
   "metadata": {},
   "outputs": [],
   "source": [
    "#Pickle the model\n",
    "# save the model to disk\n",
    "filename = '../model/RF_model.sav'\n",
    "pickle.dump(model, open(filename, 'wb'))"
   ]
  },
  {
   "cell_type": "markdown",
   "id": "fed81921",
   "metadata": {},
   "source": [
    "## Evaluation"
   ]
  },
  {
   "cell_type": "code",
   "execution_count": null,
   "id": "b87daaa8",
   "metadata": {},
   "outputs": [],
   "source": [
    "# predict holdout\n",
    "#pred = model.predict(X_test)\n",
    "y_pred = model.predict(X_test)\n",
    "\n",
    "# Absolute error\n",
    "errors = abs(y_pred - y_test.iloc[:,0].to_numpy())\n",
    "avg_error = np.mean(errors)\n",
    "\n",
    "#Low tail error\n",
    "errors_low = abs(y_pred[y_pred<model_config['parameter']['threshold']] - np.asarray(y_test[y_pred<model_config['parameter']['threshold']]).flatten())\n",
    "\n",
    "#Low tail error\n",
    "errors_low_ytest = abs(y_pred[np.asarray(y_test).flatten()<model_config['parameter']['threshold']]\n",
    "                       - np.asarray(y_test[np.asarray(y_test).flatten()<model_config['parameter']['threshold']]).flatten())\n",
    "\n",
    "#avg error\n",
    "avg_error_low = np.mean(errors_low)\n",
    "\n",
    "\n",
    "#avg error\n",
    "avg_error_low_ytest = np.mean(errors_low_ytest)\n",
    "\n",
    "#standard deviation\n",
    "stan_dev_low= np.std(errors_low)\n",
    "\n",
    "\n",
    "\n",
    "print('errors: ', errors)\n",
    "print('avg error: ', avg_error)\n",
    "# print('Just the lower errors: ', errors_low)\n",
    "print('Mean lower error: ', avg_error_low)\n",
    "print('Mean ytest lower error: ', avg_error_low_ytest)\n",
    "# print('y test error: ', errors_low_ytest)\n",
    "print('Standard Dev of Low Error: ', stan_dev_low)"
   ]
  },
  {
   "cell_type": "markdown",
   "id": "0ccb5f75",
   "metadata": {},
   "source": [
    "## Examining the errors"
   ]
  },
  {
   "cell_type": "code",
   "execution_count": null,
   "id": "1464c048",
   "metadata": {},
   "outputs": [],
   "source": [
    "#Checking to see the raw amount of school\n",
    "print('The amount of schools predicted to be lower than 30%: ', len(y_pred[y_pred<.3]))\n",
    "print('The amount of schools that are actually below 30%: ', len(y_test[y_test['target']<0.3]))"
   ]
  },
  {
   "cell_type": "code",
   "execution_count": null,
   "id": "d85e8c7d",
   "metadata": {},
   "outputs": [],
   "source": [
    "#Creating y_test dataframe to merge back\n",
    "y_test['Predictions']= y_pred.tolist()\n",
    "y_test['Errors']= abs(y_test['target']-y_test['Predictions'])\n",
    "y_test"
   ]
  },
  {
   "cell_type": "code",
   "execution_count": null,
   "id": "94f89753",
   "metadata": {
    "scrolled": false
   },
   "outputs": [],
   "source": [
    "#Only values where ground truth less than .3\n",
    "onlygtvalues = y_test.loc[y_test['target']<.3]"
   ]
  },
  {
   "cell_type": "code",
   "execution_count": null,
   "id": "5057397b",
   "metadata": {
    "scrolled": true
   },
   "outputs": [],
   "source": [
    "# Merge y_test back into main df\n",
    "df_merge = pd.merge(y_test, dataset, how= \"inner\", left_index=True, right_index=True)"
   ]
  },
  {
   "cell_type": "code",
   "execution_count": null,
   "id": "bdce043b",
   "metadata": {
    "scrolled": true
   },
   "outputs": [],
   "source": [
    "High_Error_Schools = df_merge.loc[df_merge['Errors']>.3]\n",
    "High_Error_Schools.shape"
   ]
  },
  {
   "cell_type": "code",
   "execution_count": null,
   "id": "60293dfe",
   "metadata": {
    "scrolled": true
   },
   "outputs": [],
   "source": [
    "High_Pred_Schools = df_merge.loc[df_merge['Predictions']>.7]\n",
    "High_Pred_Schools"
   ]
  },
  {
   "cell_type": "code",
   "execution_count": null,
   "id": "0c160750",
   "metadata": {},
   "outputs": [],
   "source": [
    "df_merge.shape"
   ]
  },
  {
   "cell_type": "code",
   "execution_count": null,
   "id": "74734ff4",
   "metadata": {
    "scrolled": true
   },
   "outputs": [],
   "source": [
    "#Creating a geodataframe\n",
    "from shapely import wkt\n",
    "\n",
    "df_merge['school_location'] = geopandas.GeoSeries.from_wkt(df_merge['school_location'])\n",
    "gdf = geopandas.GeoDataFrame(df_merge, geometry='school_location')"
   ]
  },
  {
   "cell_type": "code",
   "execution_count": null,
   "id": "30a75d5f",
   "metadata": {
    "scrolled": true
   },
   "outputs": [],
   "source": [
    "#Subset by just low Ground truth values\n",
    "Low_GT = gdf.loc[gdf['target_x']<.3]\n",
    "Low_pred = gdf.loc[gdf['Predictions']<.3]"
   ]
  },
  {
   "cell_type": "code",
   "execution_count": null,
   "id": "009e8437",
   "metadata": {
    "scrolled": true
   },
   "outputs": [],
   "source": [
    "Low_GT.loc[Low_GT['Predictions']>.3]"
   ]
  },
  {
   "cell_type": "markdown",
   "id": "3541a8ec",
   "metadata": {},
   "source": [
    "## Plotting the errors"
   ]
  },
  {
   "cell_type": "code",
   "execution_count": null,
   "id": "04b44c32",
   "metadata": {},
   "outputs": [],
   "source": [
    "fig,ax =plt.subplots(1, figsize=(14,6))\n",
    "\n",
    "# add a title and annotation\n",
    "ax.set_title('Predictions for schools in test set', fontdict={'fontsize': '13', 'fontweight' : '3'})\n",
    "\n",
    "gdf.plot(column=\"Predictions\", cmap = 'viridis' ,legend=True, ax=ax)\n",
    "# ctx.add_basemap(ax)\n",
    "\n",
    "plt.show()"
   ]
  },
  {
   "cell_type": "code",
   "execution_count": null,
   "id": "345a0d23",
   "metadata": {},
   "outputs": [],
   "source": [
    "fig,ax =plt.subplots(1, figsize=(14,6))\n",
    "\n",
    "# add a title and annotation\n",
    "ax.set_title('Errors in Schools where Prediction is less than 30% connected', fontdict={'fontsize': '13', 'fontweight' : '3'})\n",
    "\n",
    "#Do errors where ground truth is below .3 and also pred below .3\n",
    "Low_pred.plot(column=\"Errors\", cmap = 'viridis' ,legend=True, ax=ax)\n",
    "\n",
    "plt.show()"
   ]
  },
  {
   "cell_type": "code",
   "execution_count": null,
   "id": "70866f69",
   "metadata": {},
   "outputs": [],
   "source": [
    "vmin, vmax= 0, .7\n",
    "\n",
    "fig,ax =plt.subplots(1, figsize=(14,6))\n",
    "\n",
    "# add a title and annotation\n",
    "ax.set_title('Errors in Schools where Ground Truth is less than 30% connected', fontdict={'fontsize': '13', 'fontweight' : '3'})\n",
    "\n",
    "#Do errors where ground truth is below .3 and also pred below .3\n",
    "Low_GT.plot(column=\"Errors\", cmap = 'viridis' ,legend=True, ax=ax)\n",
    "\n",
    "plt.show()"
   ]
  },
  {
   "cell_type": "code",
   "execution_count": null,
   "id": "5c3dc3ad",
   "metadata": {},
   "outputs": [],
   "source": [
    "vmin, vmax= 0, .7\n",
    "\n",
    "fig,ax =plt.subplots(1, figsize=(14,6))\n",
    "\n",
    "# add a title and annotation\n",
    "ax.set_title('Errors in Schools in Brazil test set', fontdict={'fontsize': '13', 'fontweight' : '3'})\n",
    "\n",
    "gdf.plot(column=\"Errors\", cmap = 'viridis' ,legend=True, ax=ax)\n",
    "\n",
    "plt.show()"
   ]
  },
  {
   "cell_type": "code",
   "execution_count": null,
   "id": "fd88fe94",
   "metadata": {},
   "outputs": [],
   "source": [
    "y = y_test.iloc[:,0].to_numpy()\n",
    "y_pred = y_pred\n",
    "\n",
    "fig = px.scatter(x=y, y=y_pred, labels={'x': 'ground truth', 'y': 'prediction'}, \n",
    "                 title = 'Comparison between predictions and reality',\n",
    "                 template = 'plotly_dark')\n",
    "fig.update_traces(marker=dict(size=3, \n",
    "                              color=((abs(y-y_pred) < 0.15).astype('int')),\n",
    "                              colorscale=[[0, '#FAED27'],[1, '#98FB98']])\n",
    "                             )\n",
    "fig.add_shape(\n",
    "    type=\"line\", line=dict(dash='dash'),\n",
    "    x0=y.min(), y0=y.min(),\n",
    "    x1=y.max(), y1=y.max()\n",
    ")\n",
    "fig.show()"
   ]
  },
  {
   "cell_type": "code",
   "execution_count": null,
   "id": "e52bf82b",
   "metadata": {},
   "outputs": [],
   "source": [
    "res_df = pd.DataFrame()\n",
    "res_df['prediction'] = y_pred\n",
    "res_df['ground truth'] = y\n",
    "#res_df['train'] = y_train\n",
    "res_df['residual'] = (y_pred - y_test.iloc[:,0].to_numpy())\n",
    "fig = px.scatter(\n",
    "    res_df, x='ground truth', y='residual',\n",
    "    #marginal_y='violin',\n",
    "    trendline='ols', template = 'plotly_dark',\n",
    "    title = 'Comparison between residuals and reality'\n",
    ")\n",
    "fig.update_traces(marker=dict(size=3, \n",
    "                              color=((abs(res_df.residual) < 0.15).astype('int')),\n",
    "                              colorscale=[[0, '#FAED27'],[1, '#98FB98']])\n",
    "                             )\n",
    "fig.show()"
   ]
  },
  {
   "cell_type": "code",
   "execution_count": null,
   "id": "bfc6c002",
   "metadata": {},
   "outputs": [],
   "source": [
    "fig = px.scatter(\n",
    "    res_df, x='prediction', y='residual',\n",
    "    #marginal_y='violin',\n",
    "    trendline='ols', template = 'plotly_dark',\n",
    "    title = 'Comparison between residuals and predictions'\n",
    ")\n",
    "fig.update_traces(marker=dict(size=3, \n",
    "                              color=((abs(res_df.residual) < 0.15).astype('int')),\n",
    "                              colorscale=[[0, '#FAED27'],[1, '#98FB98']])\n",
    "                             )\n",
    "fig.show()"
   ]
  },
  {
   "cell_type": "code",
   "execution_count": null,
   "id": "b1f9306c",
   "metadata": {
    "scrolled": false
   },
   "outputs": [],
   "source": [
    "online_pop = [y_pred, y_test.iloc[:,0].to_numpy()]\n",
    "labels = ['predictions', 'reality']\n",
    "         \n",
    "fig = ff.create_distplot(online_pop, labels, show_hist = False)\n",
    "fig.layout.update({'title':'Comparison of distributions of reality and predictions',\n",
    "                   'title_font_color':'white',\n",
    "                   'legend_bgcolor':'#545454',\n",
    "                   'font_color':'white',\n",
    "                   'plot_bgcolor':'#545454',\n",
    "                   'paper_bgcolor':'#2a2a2a',\n",
    "                   'yaxis':{'gridcolor':'#2a2a2a', 'zerolinecolor':'#2a2a2a'},\n",
    "                   'xaxis':{'gridcolor':'#2a2a2a'}\n",
    "                   })\n",
    "fig.show()"
   ]
  },
  {
   "cell_type": "markdown",
   "id": "df77297e",
   "metadata": {},
   "source": [
    "## Model Interpretation\n",
    "### Examining feature importances"
   ]
  },
  {
   "cell_type": "code",
   "execution_count": null,
   "id": "cbf7b0c4",
   "metadata": {},
   "outputs": [],
   "source": [
    "# Make the dataframe\n",
    "importance = pd.DataFrame(\n",
    "    {\"Feature\": X.columns, \"Importance\": model.feature_importances_}\n",
    ").sort_values(\"Importance\")"
   ]
  },
  {
   "cell_type": "code",
   "execution_count": null,
   "id": "477fb452",
   "metadata": {},
   "outputs": [],
   "source": [
    "importance"
   ]
  },
  {
   "cell_type": "code",
   "execution_count": null,
   "id": "6af1001e",
   "metadata": {},
   "outputs": [],
   "source": [
    "import matplotlib.pyplot as plt\n",
    "fig,ax =plt.subplots(1, figsize=(14,6))\n",
    "\n",
    "# add a title and annotation\n",
    "ax.set_title('Feature Importances', fontdict={'fontsize': '13', 'fontweight' : '3'})\n",
    "\n",
    "(pd.Series(model.feature_importances_, index=X.columns)\n",
    "   .nsmallest(12).plot(kind='barh'))"
   ]
  }
 ],
 "metadata": {
  "kernelspec": {
   "display_name": "Python 3",
   "language": "python",
   "name": "python3"
  },
  "language_info": {
   "codemirror_mode": {
    "name": "ipython",
    "version": 3
   },
   "file_extension": ".py",
   "mimetype": "text/x-python",
   "name": "python",
   "nbconvert_exporter": "python",
   "pygments_lexer": "ipython3",
   "version": "3.7.2"
  },
  "varInspector": {
   "cols": {
    "lenName": 16,
    "lenType": 16,
    "lenVar": 40
   },
   "kernels_config": {
    "python": {
     "delete_cmd_postfix": "",
     "delete_cmd_prefix": "del ",
     "library": "var_list.py",
     "varRefreshCmd": "print(var_dic_list())"
    },
    "r": {
     "delete_cmd_postfix": ") ",
     "delete_cmd_prefix": "rm(",
     "library": "var_list.r",
     "varRefreshCmd": "cat(var_dic_list()) "
    }
   },
   "types_to_exclude": [
    "module",
    "function",
    "builtin_function_or_method",
    "instance",
    "_Feature"
   ],
   "window_display": false
  }
 },
 "nbformat": 4,
 "nbformat_minor": 5
}
