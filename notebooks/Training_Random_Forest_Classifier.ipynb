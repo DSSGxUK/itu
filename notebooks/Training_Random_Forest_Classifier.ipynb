{
 "cells": [
  {
   "cell_type": "code",
   "execution_count": null,
   "id": "f8f203f6",
   "metadata": {},
   "outputs": [],
   "source": [
    "# load libraries\n",
    "import yaml\n",
    "import matplotlib.pyplot as plt\n",
    "import pandas as pd\n",
    "import pickle\n",
    "import geopandas\n",
    "import numpy as np\n",
    "from sklearn.model_selection import train_test_split, KFold, RandomizedSearchCV, RepeatedStratifiedKFold, cross_val_score\n",
    "from sklearn.ensemble import RandomForestRegressor, RandomForestClassifier"
   ]
  },
  {
   "cell_type": "markdown",
   "id": "795fc09b",
   "metadata": {},
   "source": [
    "### Load and prepare data"
   ]
  },
  {
   "cell_type": "code",
   "execution_count": null,
   "id": "48e7ef55",
   "metadata": {},
   "outputs": [],
   "source": [
    "# # read in (yaml) configs\n",
    "with open('../conf/model_config.yaml', 'r') as conf:\n",
    "    model_config = yaml.safe_load(conf)\n",
    "\n",
    "# import data\n",
    "dataset = '..' + model_config['model']['loc'] + model_config['model']['file']\n",
    "dataset = pd.read_csv(dataset)\n",
    "\n",
    "# define predictors and target\n",
    "predictor   =  model_config['meta']['predictors']\n",
    "target = model_config['meta']['target']"
   ]
  },
  {
   "cell_type": "code",
   "execution_count": null,
   "id": "4023c271",
   "metadata": {},
   "outputs": [],
   "source": [
    "predictor"
   ]
  },
  {
   "cell_type": "code",
   "execution_count": null,
   "id": "480bf13a",
   "metadata": {},
   "outputs": [],
   "source": [
    "target"
   ]
  },
  {
   "cell_type": "code",
   "execution_count": null,
   "id": "99473544",
   "metadata": {},
   "outputs": [],
   "source": [
    "dataset['target']"
   ]
  },
  {
   "cell_type": "code",
   "execution_count": null,
   "id": "2668a7bd",
   "metadata": {},
   "outputs": [],
   "source": [
    "dataset"
   ]
  },
  {
   "cell_type": "code",
   "execution_count": null,
   "id": "03873d68",
   "metadata": {},
   "outputs": [],
   "source": [
    "dataset.columns"
   ]
  },
  {
   "cell_type": "code",
   "execution_count": null,
   "id": "b87dbb92",
   "metadata": {
    "scrolled": true
   },
   "outputs": [],
   "source": [
    "# prepare data\n",
    "X = dataset[predictor]\n",
    "y = dataset[target]\n",
    "print('X Shape:', X.shape)\n",
    "print('y Shape:', y.shape)\n",
    "   \n",
    "# Train/Test split\n",
    "X_train, X_test, y_train, y_test = train_test_split(X, y, test_size = model_config['parameter']['test_size'], \n",
    "                                                    random_state = 42, stratify= y)\n",
    "\n",
    "print('X_train, X_test, y_train, y_test shapes:', X_train.shape, X_test.shape, y_train.shape, y_test.shape)\n",
    "print(\"size of training dataset = \", len(X_train))\n",
    "print(\"size of test dataset = \", len(X_test))"
   ]
  },
  {
   "cell_type": "code",
   "execution_count": null,
   "id": "9a421570",
   "metadata": {},
   "outputs": [],
   "source": [
    "y_train[target].value_counts()"
   ]
  },
  {
   "cell_type": "code",
   "execution_count": null,
   "id": "61549108",
   "metadata": {},
   "outputs": [],
   "source": [
    "y_test[target].value_counts()"
   ]
  },
  {
   "cell_type": "markdown",
   "id": "00914e41",
   "metadata": {},
   "source": [
    "### Prepare model tuning"
   ]
  },
  {
   "cell_type": "code",
   "execution_count": null,
   "id": "3b8ace15",
   "metadata": {},
   "outputs": [],
   "source": [
    "#Create a Gaussian Classifier\n",
    "clf=RandomForestClassifier(n_estimators=100)\n",
    "\n",
    "#Train the model using the training sets y_pred=clf.predict(X_test)\n",
    "clf.fit(X_train,y_train)"
   ]
  },
  {
   "cell_type": "code",
   "execution_count": null,
   "id": "42283760",
   "metadata": {},
   "outputs": [],
   "source": [
    "# define evaluation procedure\n",
    "cv = RepeatedStratifiedKFold(n_splits=10, n_repeats=3, random_state=1)\n",
    "# evaluate model\n",
    "scores = cross_val_score(clf, X_train, y_train, scoring='roc_auc', cv=cv, n_jobs=-1)\n",
    "# summarize performance on train set\n",
    "print('Mean ROC AUC: %.3f' % (scores.mean()))"
   ]
  },
  {
   "cell_type": "markdown",
   "id": "8e67dced",
   "metadata": {},
   "source": [
    "### Model Predictions"
   ]
  },
  {
   "cell_type": "code",
   "execution_count": null,
   "id": "a3b34059",
   "metadata": {},
   "outputs": [],
   "source": [
    "y_pred=clf.predict(X_test)"
   ]
  },
  {
   "cell_type": "code",
   "execution_count": null,
   "id": "c58e3a74",
   "metadata": {},
   "outputs": [],
   "source": [
    "#Import scikit-learn metrics module for accuracy calculation\n",
    "from sklearn import metrics\n",
    "# Model Accuracy, how often is the classifier correct?\n",
    "print(\"Accuracy:\",metrics.accuracy_score(y_test, y_pred))"
   ]
  },
  {
   "cell_type": "code",
   "execution_count": null,
   "id": "64819f56",
   "metadata": {},
   "outputs": [],
   "source": [
    "from sklearn.metrics import accuracy_score, confusion_matrix, classification_report\n",
    "\n",
    "# View confusion matrix for test data and predictions\n",
    "confusion_matrix(y_test, y_pred)"
   ]
  },
  {
   "cell_type": "code",
   "execution_count": null,
   "id": "c753bdf6",
   "metadata": {},
   "outputs": [],
   "source": [
    "import seaborn as sns\n",
    "\n",
    "# Get and reshape confusion matrix data\n",
    "matrix = confusion_matrix(y_test, y_pred)\n",
    "matrix = matrix.astype('float') / matrix.sum(axis=1)[:, np.newaxis]\n",
    "\n",
    "# Build the plot\n",
    "plt.figure(figsize=(16,7))\n",
    "sns.set(font_scale=1.4)\n",
    "sns.heatmap(matrix, annot=True, annot_kws={'size':10},\n",
    "            cmap=plt.cm.Greens, linewidths=0.2)\n",
    "\n",
    "# Add labels to the plot\n",
    "class_names = ['low','nominal']\n",
    "tick_marks = np.arange(len(class_names))\n",
    "tick_marks2 = tick_marks + 0.5\n",
    "plt.xticks(tick_marks, class_names, rotation=25)\n",
    "plt.yticks(tick_marks2, class_names, rotation=0)\n",
    "plt.xlabel('Predicted label')\n",
    "plt.ylabel('True label')\n",
    "plt.title('Confusion Matrix for Random Forest Model')\n",
    "plt.show()"
   ]
  },
  {
   "cell_type": "code",
   "execution_count": null,
   "id": "eaaf6075",
   "metadata": {},
   "outputs": [],
   "source": [
    "# View the classification report for test data and predictions\n",
    "print(classification_report(y_test, y_pred))"
   ]
  },
  {
   "cell_type": "markdown",
   "id": "43d4fc14",
   "metadata": {},
   "source": [
    "## Feature Importances"
   ]
  },
  {
   "cell_type": "code",
   "execution_count": null,
   "id": "be7611c1",
   "metadata": {},
   "outputs": [],
   "source": [
    "# Make the dataframe\n",
    "importance = pd.DataFrame(\n",
    "    {\"Feature\": X.columns, \"Importance\": clf.feature_importances_}\n",
    ").sort_values(\"Importance\")"
   ]
  },
  {
   "cell_type": "code",
   "execution_count": null,
   "id": "c492e91b",
   "metadata": {},
   "outputs": [],
   "source": [
    "importance"
   ]
  },
  {
   "cell_type": "code",
   "execution_count": null,
   "id": "97673685",
   "metadata": {},
   "outputs": [],
   "source": [
    "import matplotlib.pyplot as plt\n",
    "fig,ax =plt.subplots(1, figsize=(14,6))\n",
    "\n",
    "# add a title and annotation\n",
    "ax.set_title('Feature Importances', fontdict={'fontsize': '13', 'fontweight' : '3'})\n",
    "\n",
    "(pd.Series(clf.feature_importances_, index=X.columns)\n",
    "   .nsmallest(12).plot(kind='barh'))"
   ]
  },
  {
   "cell_type": "markdown",
   "id": "de061f3f",
   "metadata": {},
   "source": [
    "## Pickling the model for use later on with predictions"
   ]
  },
  {
   "cell_type": "code",
   "execution_count": null,
   "id": "5e8d3330",
   "metadata": {},
   "outputs": [],
   "source": [
    "#changing the path to save in the models folder\n",
    "path = '../model/'\n",
    "## pickle the file\n",
    "# save the model to disk\n",
    "filename = 'RF_Classifier_Model.sav'\n",
    "pickle.dump(clf, open(path + filename, 'wb'))"
   ]
  }
 ],
 "metadata": {
  "kernelspec": {
   "display_name": "Python 3",
   "language": "python",
   "name": "python3"
  },
  "language_info": {
   "codemirror_mode": {
    "name": "ipython",
    "version": 3
   },
   "file_extension": ".py",
   "mimetype": "text/x-python",
   "name": "python",
   "nbconvert_exporter": "python",
   "pygments_lexer": "ipython3",
   "version": "3.7.2"
  },
  "varInspector": {
   "cols": {
    "lenName": 16,
    "lenType": 16,
    "lenVar": 40
   },
   "kernels_config": {
    "python": {
     "delete_cmd_postfix": "",
     "delete_cmd_prefix": "del ",
     "library": "var_list.py",
     "varRefreshCmd": "print(var_dic_list())"
    },
    "r": {
     "delete_cmd_postfix": ") ",
     "delete_cmd_prefix": "rm(",
     "library": "var_list.r",
     "varRefreshCmd": "cat(var_dic_list()) "
    }
   },
   "types_to_exclude": [
    "module",
    "function",
    "builtin_function_or_method",
    "instance",
    "_Feature"
   ],
   "window_display": false
  }
 },
 "nbformat": 4,
 "nbformat_minor": 5
}
